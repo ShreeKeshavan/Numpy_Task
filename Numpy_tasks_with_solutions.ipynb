{
  "cells": [
    {
      "cell_type": "markdown",
      "metadata": {
        "id": "view-in-github",
        "colab_type": "text"
      },
      "source": [
        "<a href=\"https://colab.research.google.com/github/ShreeKeshavan/Numpy_Task/blob/main/Numpy_tasks_with_solutions.ipynb\" target=\"_parent\"><img src=\"https://colab.research.google.com/assets/colab-badge.svg\" alt=\"Open In Colab\"/></a>"
      ]
    },
    {
      "cell_type": "markdown",
      "metadata": {
        "id": "cgBB9rBoBo2s"
      },
      "source": [
        "# Numpy\n",
        "\n"
      ]
    },
    {
      "cell_type": "markdown",
      "metadata": {
        "id": "212sgPSlBo3h"
      },
      "source": [
        "#### 1. Import the numpy package under the name `np` (★☆☆) \n",
        "(**hint**: import … as …)"
      ]
    },
    {
      "cell_type": "code",
      "execution_count": 2,
      "metadata": {
        "collapsed": true,
        "id": "H_gH2fiBBo3n"
      },
      "outputs": [],
      "source": [
        "import numpy as np"
      ]
    },
    {
      "cell_type": "markdown",
      "metadata": {
        "id": "OLn-cXB8Bo36"
      },
      "source": [
        "#### 2. Print the numpy version and the configuration (★☆☆) \n",
        "(**hint**: np.\\_\\_version\\_\\_, np.show\\_config)"
      ]
    },
    {
      "cell_type": "code",
      "source": [
        "np.__version__"
      ],
      "metadata": {
        "id": "AkP4Hsx1DZg7",
        "outputId": "1aa7b846-4eb4-4b10-d9ca-f1ab127ab256",
        "colab": {
          "base_uri": "https://localhost:8080/",
          "height": 36
        }
      },
      "execution_count": 3,
      "outputs": [
        {
          "output_type": "execute_result",
          "data": {
            "text/plain": [
              "'1.21.6'"
            ],
            "application/vnd.google.colaboratory.intrinsic+json": {
              "type": "string"
            }
          },
          "metadata": {},
          "execution_count": 3
        }
      ]
    },
    {
      "cell_type": "code",
      "execution_count": null,
      "metadata": {
        "id": "n_Ks7VLlBo4C",
        "outputId": "4714fe42-3162-49cc-865f-c7b6fbf03b4b",
        "colab": {
          "base_uri": "https://localhost:8080/"
        }
      },
      "outputs": [
        {
          "output_type": "stream",
          "name": "stdout",
          "text": [
            "blas_mkl_info:\n",
            "  NOT AVAILABLE\n",
            "blis_info:\n",
            "  NOT AVAILABLE\n",
            "openblas_info:\n",
            "    libraries = ['openblas', 'openblas']\n",
            "    library_dirs = ['/usr/local/lib']\n",
            "    language = c\n",
            "    define_macros = [('HAVE_CBLAS', None)]\n",
            "    runtime_library_dirs = ['/usr/local/lib']\n",
            "blas_opt_info:\n",
            "    libraries = ['openblas', 'openblas']\n",
            "    library_dirs = ['/usr/local/lib']\n",
            "    language = c\n",
            "    define_macros = [('HAVE_CBLAS', None)]\n",
            "    runtime_library_dirs = ['/usr/local/lib']\n",
            "lapack_mkl_info:\n",
            "  NOT AVAILABLE\n",
            "openblas_lapack_info:\n",
            "    libraries = ['openblas', 'openblas']\n",
            "    library_dirs = ['/usr/local/lib']\n",
            "    language = c\n",
            "    define_macros = [('HAVE_CBLAS', None)]\n",
            "    runtime_library_dirs = ['/usr/local/lib']\n",
            "lapack_opt_info:\n",
            "    libraries = ['openblas', 'openblas']\n",
            "    library_dirs = ['/usr/local/lib']\n",
            "    language = c\n",
            "    define_macros = [('HAVE_CBLAS', None)]\n",
            "    runtime_library_dirs = ['/usr/local/lib']\n",
            "Supported SIMD extensions in this NumPy install:\n",
            "    baseline = SSE,SSE2,SSE3\n",
            "    found = SSSE3,SSE41,POPCNT,SSE42,AVX,F16C,FMA3,AVX2\n",
            "    not found = AVX512F,AVX512CD,AVX512_KNL,AVX512_KNM,AVX512_SKX,AVX512_CLX,AVX512_CNL,AVX512_ICL\n"
          ]
        }
      ],
      "source": [
        "np.show_config()"
      ]
    },
    {
      "cell_type": "markdown",
      "metadata": {
        "id": "KBZ2jfAiBo4F"
      },
      "source": [
        "#### 3. Create a null vector of size 10 (★☆☆) \n",
        "(**hint**: np.zeros)"
      ]
    },
    {
      "cell_type": "code",
      "execution_count": 4,
      "metadata": {
        "id": "cuPLJlWZBo4L",
        "outputId": "99aa20f6-bc22-400a-b94a-b33b36852fbc",
        "colab": {
          "base_uri": "https://localhost:8080/"
        }
      },
      "outputs": [
        {
          "output_type": "execute_result",
          "data": {
            "text/plain": [
              "array([0., 0., 0., 0., 0., 0., 0.])"
            ]
          },
          "metadata": {},
          "execution_count": 4
        }
      ],
      "source": [
        "np.zeros(7)"
      ]
    },
    {
      "cell_type": "markdown",
      "metadata": {
        "id": "GnEqDnOjBo4Q"
      },
      "source": [
        "#### 4.  How to find the memory size of any array (★☆☆) \n",
        "(**hint**: size, itemsize)"
      ]
    },
    {
      "cell_type": "code",
      "execution_count": 5,
      "metadata": {
        "id": "ub-Rrop4Bo4c",
        "colab": {
          "base_uri": "https://localhost:8080/"
        },
        "outputId": "47124fbe-8b9d-47b1-c7b6-bfc82b42763b"
      },
      "outputs": [
        {
          "output_type": "execute_result",
          "data": {
            "text/plain": [
              "40"
            ]
          },
          "metadata": {},
          "execution_count": 5
        }
      ],
      "source": [
        "x = np.array([10,20,30,40,50])\n",
        "(x.size * x.itemsize)"
      ]
    },
    {
      "cell_type": "markdown",
      "metadata": {
        "id": "lFbfC1M4Bo4j"
      },
      "source": [
        "#### 5.  How to get the documentation of the numpy add function from the command line? (★☆☆) \n",
        "(**hint**: np.info)"
      ]
    },
    {
      "cell_type": "code",
      "execution_count": 6,
      "metadata": {
        "collapsed": true,
        "id": "gXJT9uoBBo4n",
        "colab": {
          "base_uri": "https://localhost:8080/"
        },
        "outputId": "d6e082ce-ac0f-4075-a763-1b8965cd9350"
      },
      "outputs": [
        {
          "output_type": "stream",
          "name": "stdout",
          "text": [
            "add(x1, x2, /, out=None, *, where=True, casting='same_kind', order='K', dtype=None, subok=True[, signature, extobj])\n",
            "\n",
            "Add arguments element-wise.\n",
            "\n",
            "Parameters\n",
            "----------\n",
            "x1, x2 : array_like\n",
            "    The arrays to be added.\n",
            "    If ``x1.shape != x2.shape``, they must be broadcastable to a common\n",
            "    shape (which becomes the shape of the output).\n",
            "out : ndarray, None, or tuple of ndarray and None, optional\n",
            "    A location into which the result is stored. If provided, it must have\n",
            "    a shape that the inputs broadcast to. If not provided or None,\n",
            "    a freshly-allocated array is returned. A tuple (possible only as a\n",
            "    keyword argument) must have length equal to the number of outputs.\n",
            "where : array_like, optional\n",
            "    This condition is broadcast over the input. At locations where the\n",
            "    condition is True, the `out` array will be set to the ufunc result.\n",
            "    Elsewhere, the `out` array will retain its original value.\n",
            "    Note that if an uninitialized `out` array is created via the default\n",
            "    ``out=None``, locations within it where the condition is False will\n",
            "    remain uninitialized.\n",
            "**kwargs\n",
            "    For other keyword-only arguments, see the\n",
            "    :ref:`ufunc docs <ufuncs.kwargs>`.\n",
            "\n",
            "Returns\n",
            "-------\n",
            "add : ndarray or scalar\n",
            "    The sum of `x1` and `x2`, element-wise.\n",
            "    This is a scalar if both `x1` and `x2` are scalars.\n",
            "\n",
            "Notes\n",
            "-----\n",
            "Equivalent to `x1` + `x2` in terms of array broadcasting.\n",
            "\n",
            "Examples\n",
            "--------\n",
            ">>> np.add(1.0, 4.0)\n",
            "5.0\n",
            ">>> x1 = np.arange(9.0).reshape((3, 3))\n",
            ">>> x2 = np.arange(3.0)\n",
            ">>> np.add(x1, x2)\n",
            "array([[  0.,   2.,   4.],\n",
            "       [  3.,   5.,   7.],\n",
            "       [  6.,   8.,  10.]])\n",
            "\n",
            "The ``+`` operator can be used as a shorthand for ``np.add`` on ndarrays.\n",
            "\n",
            ">>> x1 = np.arange(9.0).reshape((3, 3))\n",
            ">>> x2 = np.arange(3.0)\n",
            ">>> x1 + x2\n",
            "array([[ 0.,  2.,  4.],\n",
            "       [ 3.,  5.,  7.],\n",
            "       [ 6.,  8., 10.]])\n"
          ]
        }
      ],
      "source": [
        "np.info(np.add)"
      ]
    },
    {
      "cell_type": "markdown",
      "metadata": {
        "id": "rF5Kq3-TBo4p"
      },
      "source": [
        "#### 6.  Create a null vector of size 10 but the fifth value which is 1 (★☆☆) \n",
        "(**hint**: array\\[4\\])"
      ]
    },
    {
      "cell_type": "code",
      "execution_count": 7,
      "metadata": {
        "id": "1zKVgAJ2Bo4t",
        "colab": {
          "base_uri": "https://localhost:8080/"
        },
        "outputId": "13a471b6-11e4-4713-a188-3b88f3cc73bb"
      },
      "outputs": [
        {
          "output_type": "execute_result",
          "data": {
            "text/plain": [
              "array([0., 0., 0., 0., 1., 0., 0., 0., 0., 0.])"
            ]
          },
          "metadata": {},
          "execution_count": 7
        }
      ],
      "source": [
        "x = np.zeros(10)\n",
        "x[4] = 1\n",
        "x"
      ]
    },
    {
      "cell_type": "markdown",
      "metadata": {
        "id": "rKgutGcpBo4v"
      },
      "source": [
        "#### 7.  Create a vector with values ranging from 10 to 49 (★☆☆) \n",
        "(**hint**: np.arange)"
      ]
    },
    {
      "cell_type": "code",
      "execution_count": 8,
      "metadata": {
        "id": "UOZHIN7kBo45",
        "colab": {
          "base_uri": "https://localhost:8080/"
        },
        "outputId": "7b4ea935-3a69-47c5-ecf3-b27630b9b75c"
      },
      "outputs": [
        {
          "output_type": "execute_result",
          "data": {
            "text/plain": [
              "array([10, 11, 12, 13, 14, 15, 16, 17, 18, 19, 20, 21, 22, 23, 24, 25, 26,\n",
              "       27, 28, 29, 30, 31, 32, 33, 34, 35, 36, 37, 38, 39, 40, 41, 42, 43,\n",
              "       44, 45, 46, 47, 48, 49])"
            ]
          },
          "metadata": {},
          "execution_count": 8
        }
      ],
      "source": [
        "np.arange(10,50)"
      ]
    },
    {
      "cell_type": "markdown",
      "metadata": {
        "id": "CvNWqyoKBo47"
      },
      "source": [
        "#### 8.  Reverse a vector (first element becomes last) (★☆☆) \n",
        "(**hint**: array\\[::-1\\])"
      ]
    },
    {
      "cell_type": "code",
      "execution_count": 9,
      "metadata": {
        "id": "-OvvuSPHBo4_",
        "colab": {
          "base_uri": "https://localhost:8080/"
        },
        "outputId": "7b1a5870-a8c1-4211-cdb3-cf648e2e7fe1"
      },
      "outputs": [
        {
          "output_type": "execute_result",
          "data": {
            "text/plain": [
              "array([49, 48, 47, 46, 45, 44, 43, 42, 41, 40, 39, 38, 37, 36, 35, 34, 33,\n",
              "       32, 31, 30, 29, 28, 27, 26, 25, 24, 23, 22, 21, 20, 19, 18, 17, 16,\n",
              "       15, 14, 13, 12, 11, 10])"
            ]
          },
          "metadata": {},
          "execution_count": 9
        }
      ],
      "source": [
        "np.arange(10,50)[::-1]"
      ]
    },
    {
      "cell_type": "markdown",
      "metadata": {
        "id": "Hp0ASiq3Bo5B"
      },
      "source": [
        "#### 9.  Create a 3x3 matrix with values ranging from 0 to 8 (★☆☆) \n",
        "(**hint**: reshape)"
      ]
    },
    {
      "cell_type": "code",
      "execution_count": 10,
      "metadata": {
        "id": "l6FLjMmYBo5H",
        "colab": {
          "base_uri": "https://localhost:8080/"
        },
        "outputId": "e9c625d7-778b-4c63-ea35-e2dad295ed2f"
      },
      "outputs": [
        {
          "output_type": "execute_result",
          "data": {
            "text/plain": [
              "array([[0, 1, 2],\n",
              "       [3, 4, 5],\n",
              "       [6, 7, 8]])"
            ]
          },
          "metadata": {},
          "execution_count": 10
        }
      ],
      "source": [
        "np.arange(0,9).reshape(3,3)"
      ]
    },
    {
      "cell_type": "markdown",
      "metadata": {
        "id": "FC1HZBnNBo5J"
      },
      "source": [
        "#### 10. Find indices of non-zero elements from \\[1,2,0,0,4,0\\] (★☆☆) \n",
        "(**hint**: np.nonzero)"
      ]
    },
    {
      "cell_type": "code",
      "execution_count": 11,
      "metadata": {
        "id": "OydVCxOOBo5P",
        "colab": {
          "base_uri": "https://localhost:8080/"
        },
        "outputId": "516c964d-a16b-486a-b7af-f6743aefeac9"
      },
      "outputs": [
        {
          "output_type": "execute_result",
          "data": {
            "text/plain": [
              "(array([0, 1, 4]),)"
            ]
          },
          "metadata": {},
          "execution_count": 11
        }
      ],
      "source": [
        "np.nonzero([1,2,0,0,4,0])"
      ]
    },
    {
      "cell_type": "markdown",
      "metadata": {
        "id": "kr2k3W_FBo5S"
      },
      "source": [
        "#### 11. Create a 3x3 identity matrix (★☆☆) \n",
        "(**hint**: np.eye)"
      ]
    },
    {
      "cell_type": "code",
      "execution_count": 12,
      "metadata": {
        "id": "Ev6UCOj8Bo5b",
        "colab": {
          "base_uri": "https://localhost:8080/"
        },
        "outputId": "6157eb7a-345b-4dce-dbea-0a0035c5d789"
      },
      "outputs": [
        {
          "output_type": "execute_result",
          "data": {
            "text/plain": [
              "array([[1., 0., 0.],\n",
              "       [0., 1., 0.],\n",
              "       [0., 0., 1.]])"
            ]
          },
          "metadata": {},
          "execution_count": 12
        }
      ],
      "source": [
        "np.eye(3)"
      ]
    },
    {
      "cell_type": "markdown",
      "metadata": {
        "id": "qrOsR4hrBo5e"
      },
      "source": [
        "#### 12. Create a 3x3x3 array with random values (★☆☆) \n",
        "(**hint**: np.random.random)"
      ]
    },
    {
      "cell_type": "code",
      "execution_count": 13,
      "metadata": {
        "collapsed": true,
        "id": "CGAw5NxSBo5g",
        "colab": {
          "base_uri": "https://localhost:8080/"
        },
        "outputId": "bdb933e9-f493-4b27-b9c7-506be78265a5"
      },
      "outputs": [
        {
          "output_type": "execute_result",
          "data": {
            "text/plain": [
              "array([[[0.32147931, 0.12617866, 0.02088223],\n",
              "        [0.43325305, 0.56273101, 0.25187867],\n",
              "        [0.25850541, 0.00818336, 0.98907858]],\n",
              "\n",
              "       [[0.21580393, 0.96504501, 0.48388063],\n",
              "        [0.87764991, 0.62986002, 0.4347673 ],\n",
              "        [0.72409581, 0.22531605, 0.52702189]],\n",
              "\n",
              "       [[0.93262435, 0.26452344, 0.28094417],\n",
              "        [0.28648275, 0.03210741, 0.25160442],\n",
              "        [0.69298192, 0.39690114, 0.97854115]]])"
            ]
          },
          "metadata": {},
          "execution_count": 13
        }
      ],
      "source": [
        "np.random.random((3,3,3))"
      ]
    },
    {
      "cell_type": "markdown",
      "metadata": {
        "id": "mMIZkjLbBo5h"
      },
      "source": [
        "#### 13. Create a 10x10 array with random values and find the minimum and maximum values (★☆☆) \n",
        "(**hint**: min, max)"
      ]
    },
    {
      "cell_type": "code",
      "execution_count": 14,
      "metadata": {
        "id": "fI-45GTMBo5k",
        "colab": {
          "base_uri": "https://localhost:8080/"
        },
        "outputId": "d6281903-a378-4ac9-ee49-5f24b2efd350"
      },
      "outputs": [
        {
          "output_type": "execute_result",
          "data": {
            "text/plain": [
              "0.016404998166669293"
            ]
          },
          "metadata": {},
          "execution_count": 14
        }
      ],
      "source": [
        "np.random.random((10,10)).min()"
      ]
    },
    {
      "cell_type": "markdown",
      "metadata": {
        "id": "F9cCnb9FBo5m"
      },
      "source": [
        "#### 14. Create a random vector of size 30 and find the mean value (★☆☆) \n",
        "(**hint**: mean)"
      ]
    },
    {
      "cell_type": "code",
      "execution_count": 15,
      "metadata": {
        "id": "q3n1U05mBo5z",
        "colab": {
          "base_uri": "https://localhost:8080/"
        },
        "outputId": "f1f3442a-61af-4ab9-9823-cef8ca4c1dfb"
      },
      "outputs": [
        {
          "output_type": "execute_result",
          "data": {
            "text/plain": [
              "0.5783696478659148"
            ]
          },
          "metadata": {},
          "execution_count": 15
        }
      ],
      "source": [
        "np.random.random(10).mean()"
      ]
    },
    {
      "cell_type": "markdown",
      "metadata": {
        "id": "W2b77oUwBo52"
      },
      "source": [
        "#### 15. Create a 2d array with 1 on the border and 0 inside (★☆☆) \n",
        "(**hint**: array\\[1:-1, 1:-1\\])"
      ]
    },
    {
      "cell_type": "code",
      "execution_count": 16,
      "metadata": {
        "id": "DFHr2D9iBo57",
        "colab": {
          "base_uri": "https://localhost:8080/"
        },
        "outputId": "f545ff6c-bdc6-432d-b156-001da4c0d4f7"
      },
      "outputs": [
        {
          "output_type": "execute_result",
          "data": {
            "text/plain": [
              "array([[1., 1., 1., 1., 1., 1., 1., 1., 1., 1.],\n",
              "       [1., 0., 0., 0., 0., 0., 0., 0., 0., 1.],\n",
              "       [1., 0., 0., 0., 0., 0., 0., 0., 0., 1.],\n",
              "       [1., 0., 0., 0., 0., 0., 0., 0., 0., 1.],\n",
              "       [1., 0., 0., 0., 0., 0., 0., 0., 0., 1.],\n",
              "       [1., 0., 0., 0., 0., 0., 0., 0., 0., 1.],\n",
              "       [1., 0., 0., 0., 0., 0., 0., 0., 0., 1.],\n",
              "       [1., 0., 0., 0., 0., 0., 0., 0., 0., 1.],\n",
              "       [1., 0., 0., 0., 0., 0., 0., 0., 0., 1.],\n",
              "       [1., 1., 1., 1., 1., 1., 1., 1., 1., 1.]])"
            ]
          },
          "metadata": {},
          "execution_count": 16
        }
      ],
      "source": [
        "x = np.ones((10,10))\n",
        "x[1:-1,1:-1] = 0\n",
        "x"
      ]
    },
    {
      "cell_type": "markdown",
      "metadata": {
        "id": "D4aSFO3OBo5-"
      },
      "source": [
        "#### 16. How to add a border (filled with 0's) around an existing array? (★☆☆) \n",
        "(**hint**: np.pad)"
      ]
    },
    {
      "cell_type": "code",
      "execution_count": 17,
      "metadata": {
        "id": "DkPwJrxSBo6B",
        "colab": {
          "base_uri": "https://localhost:8080/"
        },
        "outputId": "f348cf87-3611-46c4-ee34-de2c2807743b"
      },
      "outputs": [
        {
          "output_type": "execute_result",
          "data": {
            "text/plain": [
              "array([[0., 0., 0., 0., 0.],\n",
              "       [0., 1., 1., 1., 0.],\n",
              "       [0., 1., 1., 1., 0.],\n",
              "       [0., 1., 1., 1., 0.],\n",
              "       [0., 0., 0., 0., 0.]])"
            ]
          },
          "metadata": {},
          "execution_count": 17
        }
      ],
      "source": [
        "x = np.ones((3,3))\n",
        "np.pad(x, pad_width = 1, mode = 'constant', constant_values = 0)"
      ]
    },
    {
      "cell_type": "markdown",
      "metadata": {
        "id": "1MIhL_kqBo6D"
      },
      "source": [
        "#### 17. What is the result of the following expression? (★☆☆) \n",
        "(**hint**: NaN = not a number, inf = infinity)"
      ]
    },
    {
      "cell_type": "markdown",
      "metadata": {
        "id": "BaQFUdCQBo6H"
      },
      "source": [
        "```python\n",
        "0 * np.nan\n",
        "np.nan == np.nan\n",
        "np.inf > np.nan\n",
        "np.nan - np.nan\n",
        "0.3 == 3 * 0.1\n",
        "```"
      ]
    },
    {
      "cell_type": "code",
      "execution_count": 18,
      "metadata": {
        "id": "ksIGfpc1Bo6K",
        "colab": {
          "base_uri": "https://localhost:8080/"
        },
        "outputId": "86ada15b-8947-4916-f82e-c4878f022115"
      },
      "outputs": [
        {
          "output_type": "execute_result",
          "data": {
            "text/plain": [
              "False"
            ]
          },
          "metadata": {},
          "execution_count": 18
        }
      ],
      "source": [
        "False"
      ]
    },
    {
      "cell_type": "markdown",
      "metadata": {
        "id": "t9p4trg2Bo6N"
      },
      "source": [
        "#### 18. Create a 5x5 matrix with values 1,2,3,4 just below the diagonal (★☆☆) \n",
        "(**hint**: np.diag)"
      ]
    },
    {
      "cell_type": "code",
      "execution_count": 19,
      "metadata": {
        "id": "dS43FgUzBo6P",
        "colab": {
          "base_uri": "https://localhost:8080/"
        },
        "outputId": "3372648a-73ab-4c81-fcf7-07d5af0c6d53"
      },
      "outputs": [
        {
          "output_type": "execute_result",
          "data": {
            "text/plain": [
              "array([[0, 0, 0, 0, 0],\n",
              "       [0, 1, 0, 0, 0],\n",
              "       [0, 0, 2, 0, 0],\n",
              "       [0, 0, 0, 3, 0],\n",
              "       [0, 0, 0, 0, 4]])"
            ]
          },
          "metadata": {},
          "execution_count": 19
        }
      ],
      "source": [
        "np.diag([0,1,2,3,4])"
      ]
    },
    {
      "cell_type": "markdown",
      "metadata": {
        "id": "etddUXXEBo6R"
      },
      "source": [
        "#### 19. Create a 8x8 matrix and fill it with a checkerboard pattern (★☆☆) \n",
        "(**hint**: array\\[::2\\])"
      ]
    },
    {
      "cell_type": "code",
      "execution_count": 20,
      "metadata": {
        "id": "zOndVJBXBo6S",
        "colab": {
          "base_uri": "https://localhost:8080/"
        },
        "outputId": "40ce0916-5095-4af4-a96f-61093b910303"
      },
      "outputs": [
        {
          "output_type": "execute_result",
          "data": {
            "text/plain": [
              "array([[0, 1, 0, 1, 0, 1, 0, 1],\n",
              "       [1, 0, 1, 0, 1, 0, 1, 0],\n",
              "       [0, 1, 0, 1, 0, 1, 0, 1],\n",
              "       [1, 0, 1, 0, 1, 0, 1, 0],\n",
              "       [0, 1, 0, 1, 0, 1, 0, 1],\n",
              "       [1, 0, 1, 0, 1, 0, 1, 0],\n",
              "       [0, 1, 0, 1, 0, 1, 0, 1],\n",
              "       [1, 0, 1, 0, 1, 0, 1, 0]])"
            ]
          },
          "metadata": {},
          "execution_count": 20
        }
      ],
      "source": [
        "x = np.zeros((8,8),dtype = int)\n",
        "x[1::2,::2] = 1\n",
        "x[::2,1::2] = 1\n",
        "x"
      ]
    },
    {
      "cell_type": "markdown",
      "metadata": {
        "id": "DCBt8lhNBo6U"
      },
      "source": [
        "#### 20. Consider a (6,7,8) shape array, what is the index (x,y,z) of the 100th element? \n",
        "(**hint**: np.unravel_index)"
      ]
    },
    {
      "cell_type": "code",
      "execution_count": 21,
      "metadata": {
        "id": "7RRs_U6iBo6X",
        "colab": {
          "base_uri": "https://localhost:8080/"
        },
        "outputId": "a7cf7354-fb07-4694-e249-a7e262b152e1"
      },
      "outputs": [
        {
          "output_type": "execute_result",
          "data": {
            "text/plain": [
              "(1, 5, 4)"
            ]
          },
          "metadata": {},
          "execution_count": 21
        }
      ],
      "source": [
        "np.unravel_index(100,(6,7,8))"
      ]
    },
    {
      "cell_type": "markdown",
      "metadata": {
        "id": "Vukn0fHvBo6a"
      },
      "source": [
        "#### 21. Create a checkerboard 8x8 matrix using the tile function (★☆☆) \n",
        "(**hint**: np.tile)"
      ]
    },
    {
      "cell_type": "code",
      "execution_count": 22,
      "metadata": {
        "id": "dIUPqud_Bo6d",
        "colab": {
          "base_uri": "https://localhost:8080/"
        },
        "outputId": "17622c7a-deba-41f2-924e-9d016a964a5b"
      },
      "outputs": [
        {
          "output_type": "execute_result",
          "data": {
            "text/plain": [
              "array([[0, 1, 0, 1, 0, 1, 0, 1],\n",
              "       [1, 0, 1, 0, 1, 0, 1, 0],\n",
              "       [0, 1, 0, 1, 0, 1, 0, 1],\n",
              "       [1, 0, 1, 0, 1, 0, 1, 0],\n",
              "       [0, 1, 0, 1, 0, 1, 0, 1],\n",
              "       [1, 0, 1, 0, 1, 0, 1, 0],\n",
              "       [0, 1, 0, 1, 0, 1, 0, 1],\n",
              "       [1, 0, 1, 0, 1, 0, 1, 0]])"
            ]
          },
          "metadata": {},
          "execution_count": 22
        }
      ],
      "source": [
        "x = np.array([[0,1],[1,0]])\n",
        "y = np.tile(x,(4,4))\n",
        "y"
      ]
    },
    {
      "cell_type": "markdown",
      "metadata": {
        "id": "OerQHqCsBo6g"
      },
      "source": [
        "#### 22. Normalize a 5x5 random matrix (★☆☆) \n",
        "(**hint**: (x - min) / (max - min))"
      ]
    },
    {
      "cell_type": "code",
      "execution_count": 23,
      "metadata": {
        "id": "Y4hLSe3oBo6i",
        "colab": {
          "base_uri": "https://localhost:8080/"
        },
        "outputId": "71179c96-9704-4b1e-8d42-63fb30f6295c"
      },
      "outputs": [
        {
          "output_type": "execute_result",
          "data": {
            "text/plain": [
              "array([[-0.33471538, -0.99364203, -0.86155567, -0.5641678 , -0.98474396],\n",
              "       [-0.9244218 , -0.35288135, -0.09671549, -0.91809753, -0.73591171],\n",
              "       [-0.41376624, -0.84934996, -0.84842675, -0.11385763, -0.64800839],\n",
              "       [-0.95772143, -1.        , -0.2763061 , -0.01961902, -0.92455897],\n",
              "       [-0.23492551,  0.        , -0.41246717, -0.37080565, -0.58787822]])"
            ]
          },
          "metadata": {},
          "execution_count": 23
        }
      ],
      "source": [
        "x = np.random.random((5,5))\n",
        "ma, mi = x.max(), x.min()\n",
        "y = (x - ma) / (ma - mi)\n",
        "y"
      ]
    },
    {
      "cell_type": "markdown",
      "metadata": {
        "id": "uA-ORAyRBo6j"
      },
      "source": [
        "#### 23. Create a custom dtype that describes a color as four unsigned bytes (RGBA) (★☆☆) \n",
        "(**hint**: np.dtype)"
      ]
    },
    {
      "cell_type": "code",
      "execution_count": 24,
      "metadata": {
        "collapsed": true,
        "id": "6p3klstIBo6l",
        "colab": {
          "base_uri": "https://localhost:8080/"
        },
        "outputId": "377ca6ff-d0c5-4baa-8a1f-2d067a69fd2c"
      },
      "outputs": [
        {
          "output_type": "stream",
          "name": "stderr",
          "text": [
            "<ipython-input-24-3c9bf20abe2a>:1: FutureWarning: Passing (type, 1) or '1type' as a synonym of type is deprecated; in a future version of numpy, it will be understood as (type, (1,)) / '(1,)type'.\n",
            "  color = np.dtype([(\"R\", np.ubyte, 1),\n"
          ]
        },
        {
          "output_type": "execute_result",
          "data": {
            "text/plain": [
              "dtype([('R', 'u1'), ('G', 'u1'), ('B', 'u1'), ('A', 'u1')])"
            ]
          },
          "metadata": {},
          "execution_count": 24
        }
      ],
      "source": [
        "color = np.dtype([(\"R\", np.ubyte, 1),\n",
        "                  (\"G\", np.ubyte, 1),\n",
        "                  (\"B\", np.ubyte, 1),\n",
        "                  (\"A\", np.ubyte, 1)])\n",
        "color"
      ]
    },
    {
      "cell_type": "markdown",
      "metadata": {
        "id": "403hDGz7Bo6o"
      },
      "source": [
        "#### 24. Multiply a 5x3 matrix by a 3x2 matrix (real matrix product) (★☆☆) \n",
        "(**hint**: np.dot | @)"
      ]
    },
    {
      "cell_type": "code",
      "execution_count": 25,
      "metadata": {
        "id": "VxmqVcKCBo6q",
        "colab": {
          "base_uri": "https://localhost:8080/"
        },
        "outputId": "c6ec3490-b300-448e-8114-e7ba97916fdb"
      },
      "outputs": [
        {
          "output_type": "execute_result",
          "data": {
            "text/plain": [
              "array([[3, 3],\n",
              "       [3, 3],\n",
              "       [3, 3],\n",
              "       [3, 3],\n",
              "       [3, 3]])"
            ]
          },
          "metadata": {},
          "execution_count": 25
        }
      ],
      "source": [
        "np.dot(np.ones((5,3),dtype =int), np.ones((3,2),dtype =int))"
      ]
    },
    {
      "cell_type": "markdown",
      "metadata": {
        "id": "qGTie1uxBo6r"
      },
      "source": [
        "#### 25. Given a 1D array, negate all elements which are between 3 and 8, in place. (★☆☆) \n",
        "(**hint**: >, <=)"
      ]
    },
    {
      "cell_type": "code",
      "execution_count": 26,
      "metadata": {
        "id": "beo742HrBo6t",
        "colab": {
          "base_uri": "https://localhost:8080/"
        },
        "outputId": "6003a685-badb-4650-9dff-85c17f69ffe9"
      },
      "outputs": [
        {
          "output_type": "execute_result",
          "data": {
            "text/plain": [
              "array([ 0,  1,  2,  3, -4, -5, -6, -7, -8,  9, 10])"
            ]
          },
          "metadata": {},
          "execution_count": 26
        }
      ],
      "source": [
        "x = np.arange(11)\n",
        "x[(3 < x) & (x <= 8)] *= -1 \n",
        "x"
      ]
    },
    {
      "cell_type": "markdown",
      "metadata": {
        "id": "0ld7A3ZSBo6u"
      },
      "source": [
        "#### 26. What is the output of the following script? (★☆☆) \n",
        "(**hint**: np.sum)"
      ]
    },
    {
      "cell_type": "markdown",
      "metadata": {
        "id": "8LU12n9wBo6w"
      },
      "source": [
        "```python\n",
        "# Author: Jake VanderPlas\n",
        "\n",
        "print(sum(range(5),-1))\n",
        "from numpy import *\n",
        "print(sum(range(5),-1))\n",
        "```"
      ]
    },
    {
      "cell_type": "code",
      "execution_count": 28,
      "metadata": {
        "id": "pJHnc2o_Bo6y",
        "colab": {
          "base_uri": "https://localhost:8080/"
        },
        "outputId": "698fbd58-ee23-4167-fb52-855ad943d452"
      },
      "outputs": [
        {
          "output_type": "execute_result",
          "data": {
            "text/plain": [
              "10"
            ]
          },
          "metadata": {},
          "execution_count": 28
        }
      ],
      "source": [
        "9\n",
        "10"
      ]
    },
    {
      "cell_type": "markdown",
      "metadata": {
        "id": "wqwbegudBo6z"
      },
      "source": [
        "#### 27. Consider an integer vector Z, which of these expressions are legal? (★☆☆)"
      ]
    },
    {
      "cell_type": "markdown",
      "metadata": {
        "id": "VV6BEkz7Bo60"
      },
      "source": [
        "```python\n",
        "Z**Z\n",
        "2 << Z >> 2\n",
        "Z <- Z\n",
        "1j*Z\n",
        "Z/1/1\n",
        "Z<Z>Z\n",
        "```"
      ]
    },
    {
      "cell_type": "code",
      "execution_count": null,
      "metadata": {
        "id": "cXcrFHMnBo62"
      },
      "outputs": [],
      "source": [
        "2 << Z >> 2, Z <- Z, 1j*Z, Z/1/1"
      ]
    },
    {
      "cell_type": "markdown",
      "metadata": {
        "id": "Tkis_gL_Bo64"
      },
      "source": [
        "#### 28. What are the result of the following expressions?"
      ]
    },
    {
      "cell_type": "markdown",
      "metadata": {
        "id": "vEMbg0zeBo69"
      },
      "source": [
        "```python\n",
        "np.array(0) / np.array(0)\n",
        "np.array(0) // np.array(0)\n",
        "np.array([np.nan]).astype(int).astype(float)\n",
        "```"
      ]
    },
    {
      "cell_type": "code",
      "execution_count": null,
      "metadata": {
        "id": "zCAuaLFRBo6_"
      },
      "outputs": [],
      "source": [
        "nan\n",
        "0\n",
        "[-9.22337204e+18]"
      ]
    },
    {
      "cell_type": "markdown",
      "metadata": {
        "id": "IjSBAiu-Bo7A"
      },
      "source": [
        "#### 29. How to round away from zero a float array ? (★☆☆) \n",
        "(**hint**: np.uniform, np.copysign, np.ceil, np.abs)"
      ]
    },
    {
      "cell_type": "code",
      "execution_count": 32,
      "metadata": {
        "id": "FhUaOSBkBo7C",
        "colab": {
          "base_uri": "https://localhost:8080/"
        },
        "outputId": "24ced8ef-3caa-419e-e438-7fc264cfa54f"
      },
      "outputs": [
        {
          "output_type": "stream",
          "name": "stdout",
          "text": [
            "[ 2.  6.  5.  5. -9. -1. -8. -7.  5.  5.]\n"
          ]
        }
      ],
      "source": [
        "x = np.random.uniform(-10,+10,10)\n",
        "print(np.copysign(np.ceil(np.abs(x)), x))"
      ]
    },
    {
      "cell_type": "markdown",
      "metadata": {
        "id": "EaOeBy1YBo7E"
      },
      "source": [
        "#### 30. How to find common values between two arrays? (★☆☆) \n",
        "(**hint**: np.intersect1d)"
      ]
    },
    {
      "cell_type": "code",
      "execution_count": 33,
      "metadata": {
        "id": "bM6bWxI-Bo7F",
        "colab": {
          "base_uri": "https://localhost:8080/"
        },
        "outputId": "aeeafbd0-41d9-4876-f8da-27285c653ffc"
      },
      "outputs": [
        {
          "output_type": "stream",
          "name": "stdout",
          "text": [
            "[3 4 5 6 8]\n"
          ]
        }
      ],
      "source": [
        "x = np.random.randint(0,10,10) \n",
        "y = np.random.randint(0,10,10)\n",
        "print(np.intersect1d(x,y))"
      ]
    },
    {
      "cell_type": "markdown",
      "metadata": {
        "id": "foeXyvx3Bo7G"
      },
      "source": [
        "#### 31. How to ignore all numpy warnings (not recommended)? (★☆☆) \n",
        "(**hint**: np.seterr, np.errstate)"
      ]
    },
    {
      "cell_type": "code",
      "execution_count": 34,
      "metadata": {
        "id": "hd-kDPVxBo7J"
      },
      "outputs": [],
      "source": [
        "with np.errstate(divide='ignore'):\n",
        "    Z = np.ones(1) / 0  "
      ]
    },
    {
      "cell_type": "markdown",
      "metadata": {
        "id": "8WsylJ2DBo7K"
      },
      "source": [
        "#### 32. Is the following expressions true? (★☆☆) \n",
        "(**hint**: imaginary number)"
      ]
    },
    {
      "cell_type": "markdown",
      "metadata": {
        "id": "QhBWsI8ZBo7M"
      },
      "source": [
        "```python\n",
        "np.sqrt(-1) == np.emath.sqrt(-1)\n",
        "```"
      ]
    },
    {
      "cell_type": "code",
      "execution_count": 35,
      "metadata": {
        "id": "cfoolmc4Bo7O",
        "colab": {
          "base_uri": "https://localhost:8080/"
        },
        "outputId": "2ea32f72-a78b-4cfc-8a2e-d9ae0f70a1f4"
      },
      "outputs": [
        {
          "output_type": "execute_result",
          "data": {
            "text/plain": [
              "False"
            ]
          },
          "metadata": {},
          "execution_count": 35
        }
      ],
      "source": [
        "False"
      ]
    },
    {
      "cell_type": "markdown",
      "metadata": {
        "id": "S4IMU7hDBo7T"
      },
      "source": [
        "#### 33. How to get the dates of yesterday, today and tomorrow? (★☆☆) \n",
        "(**hint**: np.datetime64, np.timedelta64)"
      ]
    },
    {
      "cell_type": "code",
      "execution_count": 36,
      "metadata": {
        "collapsed": true,
        "id": "5LDXa_ceBo7V",
        "colab": {
          "base_uri": "https://localhost:8080/"
        },
        "outputId": "ac6cbb4a-9089-4d55-da82-320037bf12da"
      },
      "outputs": [
        {
          "output_type": "stream",
          "name": "stdout",
          "text": [
            "2023-01-04\n",
            "2023-01-05\n",
            "2023-01-06\n"
          ]
        }
      ],
      "source": [
        "x = np.datetime64('today','D') - np.timedelta64(1,'D')\n",
        "y = np.datetime64('today','D')\n",
        "z = np.datetime64('today','D') + np.timedelta64(1,'D')\n",
        "print(x,y,z , sep ='\\n')"
      ]
    },
    {
      "cell_type": "markdown",
      "metadata": {
        "id": "gZuN_QU4Bo7Y"
      },
      "source": [
        "#### 34. How to get all the dates corresponding to the month of July 2016? (★★☆) \n",
        "(**hint**: np.arange(dtype=datetime64\\['D'\\]))"
      ]
    },
    {
      "cell_type": "code",
      "execution_count": 37,
      "metadata": {
        "id": "BOQ3OmEWBo7e",
        "colab": {
          "base_uri": "https://localhost:8080/"
        },
        "outputId": "c680caea-0ee9-43e7-f23f-1559e258178e"
      },
      "outputs": [
        {
          "output_type": "stream",
          "name": "stdout",
          "text": [
            "['2016-07-01' '2016-07-02' '2016-07-03' '2016-07-04' '2016-07-05'\n",
            " '2016-07-06' '2016-07-07' '2016-07-08' '2016-07-09' '2016-07-10'\n",
            " '2016-07-11' '2016-07-12' '2016-07-13' '2016-07-14' '2016-07-15'\n",
            " '2016-07-16' '2016-07-17' '2016-07-18' '2016-07-19' '2016-07-20'\n",
            " '2016-07-21' '2016-07-22' '2016-07-23' '2016-07-24' '2016-07-25'\n",
            " '2016-07-26' '2016-07-27' '2016-07-28' '2016-07-29' '2016-07-30'\n",
            " '2016-07-31']\n"
          ]
        }
      ],
      "source": [
        "x = np.arange('2016-07', '2016-08', dtype = 'datetime64[D]')\n",
        "print(x)"
      ]
    },
    {
      "cell_type": "markdown",
      "metadata": {
        "id": "AjSj1MioBo7f"
      },
      "source": [
        "#### 35. How to compute ((A+B)\\*(-A/2)) in place (without copy)? (★★☆) \n",
        "(**hint**: np.add(out=), np.negative(out=), np.multiply(out=), np.divide(out=))"
      ]
    },
    {
      "cell_type": "code",
      "execution_count": 38,
      "metadata": {
        "id": "pifR6xyJBo7h",
        "colab": {
          "base_uri": "https://localhost:8080/"
        },
        "outputId": "7d3f1290-88ed-42ed-93ad-6180fa2d05ac"
      },
      "outputs": [
        {
          "output_type": "execute_result",
          "data": {
            "text/plain": [
              "array([-6., -6., -6.])"
            ]
          },
          "metadata": {},
          "execution_count": 38
        }
      ],
      "source": [
        "x = np.ones(3) * 2\n",
        "y = np.ones(3) * 4\n",
        "z = np.ones(3) * 6\n",
        "np.add(x,y,out = y)\n",
        "np.divide(x,2,out = x)\n",
        "np.negative(x, out = x)\n",
        "np.multiply(x,y, out = x)"
      ]
    },
    {
      "cell_type": "markdown",
      "metadata": {
        "id": "1FkzFAz3Bo7i"
      },
      "source": [
        "#### 36. Extract the integer part of a random array using 5 different methods (★★☆) \n",
        "(**hint**: %, np.floor, np.ceil, astype, np.trunc)"
      ]
    },
    {
      "cell_type": "code",
      "execution_count": 39,
      "metadata": {
        "id": "0kehBEOaBo7k",
        "colab": {
          "base_uri": "https://localhost:8080/"
        },
        "outputId": "4954554a-16ed-486a-dbc2-3f3559fe188f"
      },
      "outputs": [
        {
          "output_type": "stream",
          "name": "stdout",
          "text": [
            "[5. 1. 4. 3. 0. 5. 4. 7. 9. 7.]\n",
            "[5. 1. 4. 3. 0. 5. 4. 7. 9. 7.]\n",
            "[5. 1. 4. 3. 0. 5. 4. 7. 9. 7.]\n",
            "[5 1 4 3 0 5 4 7 9 7]\n",
            "[5. 1. 4. 3. 0. 5. 4. 7. 9. 7.]\n"
          ]
        }
      ],
      "source": [
        " x = np.random.uniform(0,10,10)\n",
        " print(x - x%1)\n",
        " print(np.floor(x))\n",
        " print(np.ceil(x) - 1)\n",
        " print(x.astype(int))\n",
        " print(np.trunc(x))"
      ]
    },
    {
      "cell_type": "markdown",
      "metadata": {
        "id": "YKPifX09Bo7m"
      },
      "source": [
        "#### 37. Create a 5x5 matrix with row values ranging from 0 to 4 (★★☆) \n",
        "(**hint**: np.arange)"
      ]
    },
    {
      "cell_type": "code",
      "execution_count": 40,
      "metadata": {
        "id": "0l1Gm3WLBo7n",
        "colab": {
          "base_uri": "https://localhost:8080/"
        },
        "outputId": "24ad4905-0988-4269-8501-da7923fc3b6d"
      },
      "outputs": [
        {
          "output_type": "execute_result",
          "data": {
            "text/plain": [
              "array([[0, 1, 2, 3, 4],\n",
              "       [0, 1, 2, 3, 4],\n",
              "       [0, 1, 2, 3, 4],\n",
              "       [0, 1, 2, 3, 4],\n",
              "       [0, 1, 2, 3, 4]])"
            ]
          },
          "metadata": {},
          "execution_count": 40
        }
      ],
      "source": [
        "x = np.zeros((5,5),dtype= int)\n",
        "x += np.arange(5)\n",
        "x"
      ]
    },
    {
      "cell_type": "markdown",
      "metadata": {
        "id": "vXkgjKuGBo7t"
      },
      "source": [
        "#### 38. Consider a generator function that generates 10 integers and use it to build an array (★☆☆) \n",
        "(**hint**: np.fromiter)"
      ]
    },
    {
      "cell_type": "code",
      "execution_count": 41,
      "metadata": {
        "id": "_GvqEr4tBo7v",
        "colab": {
          "base_uri": "https://localhost:8080/"
        },
        "outputId": "d77e3131-775c-44fc-f9ba-6d0f63bc98ec"
      },
      "outputs": [
        {
          "output_type": "stream",
          "name": "stdout",
          "text": [
            "[0. 1. 2. 3. 4. 5. 6. 7. 8. 9.]\n"
          ]
        }
      ],
      "source": [
        "def generate():\n",
        "  for i in range(10):yield i \n",
        "y = np.fromiter(generate(), dtype = float, count = -1)\n",
        "print(y)"
      ]
    },
    {
      "cell_type": "markdown",
      "metadata": {
        "id": "rH5chnflBo7w"
      },
      "source": [
        "#### 39. Create a vector of size 10 with values ranging from 0 to 1, both excluded (★★☆) \n",
        "(**hint**: np.linspace)"
      ]
    },
    {
      "cell_type": "code",
      "execution_count": 42,
      "metadata": {
        "id": "1tS2lCL3Bo7z",
        "colab": {
          "base_uri": "https://localhost:8080/"
        },
        "outputId": "0f9146d9-c5f0-4475-ca49-e661c72ac36e"
      },
      "outputs": [
        {
          "output_type": "execute_result",
          "data": {
            "text/plain": [
              "array([0.09090909, 0.18181818, 0.27272727, 0.36363636, 0.45454545,\n",
              "       0.54545455, 0.63636364, 0.72727273, 0.81818182, 0.90909091])"
            ]
          },
          "metadata": {},
          "execution_count": 42
        }
      ],
      "source": [
        "x = np.linspace(0,1,11,endpoint = False)[1:]\n",
        "x"
      ]
    },
    {
      "cell_type": "markdown",
      "metadata": {
        "id": "8Hgtt-3WBo70"
      },
      "source": [
        "#### 40. Create a random vector of size 10 and sort it (★★☆) \n",
        "(**hint**: sort)"
      ]
    },
    {
      "cell_type": "code",
      "execution_count": 43,
      "metadata": {
        "id": "DZ1p8xL6Bo72",
        "colab": {
          "base_uri": "https://localhost:8080/"
        },
        "outputId": "7ab90c1c-70fa-4e4e-98a3-b94f89b65544"
      },
      "outputs": [
        {
          "output_type": "execute_result",
          "data": {
            "text/plain": [
              "array([0.17228099, 0.17905544, 0.33356715, 0.47817522, 0.58507884,\n",
              "       0.65571411, 0.73844448, 0.74903648, 0.75704866, 0.99960041])"
            ]
          },
          "metadata": {},
          "execution_count": 43
        }
      ],
      "source": [
        "x = np.random.random(10)\n",
        "x.sort()\n",
        "x"
      ]
    },
    {
      "cell_type": "markdown",
      "metadata": {
        "id": "h5EO5CoRBo73"
      },
      "source": [
        "#### 41. How to sum a small array faster than np.sum? (★★☆) \n",
        "(**hint**: np.add.reduce)"
      ]
    },
    {
      "cell_type": "code",
      "execution_count": 44,
      "metadata": {
        "id": "fD7B80wpBo75",
        "colab": {
          "base_uri": "https://localhost:8080/"
        },
        "outputId": "a19d5c7e-66c8-4d42-fe4f-c6dde846afb1"
      },
      "outputs": [
        {
          "output_type": "execute_result",
          "data": {
            "text/plain": [
              "45"
            ]
          },
          "metadata": {},
          "execution_count": 44
        }
      ],
      "source": [
        "x = np.arange(10)\n",
        "np.add.reduce(x)"
      ]
    },
    {
      "cell_type": "markdown",
      "metadata": {
        "id": "M5gGwA8DBo77"
      },
      "source": [
        "#### 42. Consider two random array A and B, check if they are equal (★★☆) \n",
        "(**hint**: np.allclose, np.array\\_equal)"
      ]
    },
    {
      "cell_type": "code",
      "execution_count": 45,
      "metadata": {
        "id": "0pKfE0LjBo8A",
        "colab": {
          "base_uri": "https://localhost:8080/"
        },
        "outputId": "04ed6a2d-3861-42ec-972e-08e8257b590e"
      },
      "outputs": [
        {
          "output_type": "stream",
          "name": "stdout",
          "text": [
            "False\n",
            "False\n"
          ]
        }
      ],
      "source": [
        "x = np.random.randint(0,2,5)\n",
        "y = np.random.randint(0,2,5)\n",
        "e = np.allclose(x,y)\n",
        "print(e)\n",
        "e = np.array_equal(x,y)\n",
        "print(e)"
      ]
    },
    {
      "cell_type": "markdown",
      "metadata": {
        "id": "mMQiDr2LBo8B"
      },
      "source": [
        "#### 43. Make an array immutable (read-only) (★★☆) \n",
        "(**hint**: flags.writeable)"
      ]
    },
    {
      "cell_type": "code",
      "execution_count": 46,
      "metadata": {
        "id": "_N_jYuqfBo8D"
      },
      "outputs": [],
      "source": [
        "x = np.zeros(10)\n",
        "x.flags.writeable = False\n"
      ]
    },
    {
      "cell_type": "markdown",
      "metadata": {
        "id": "pQJagVDNBo8E"
      },
      "source": [
        "#### 44. Consider a random 10x2 matrix representing cartesian coordinates, convert them to polar coordinates (★★☆) \n",
        "(**hint**: np.sqrt, np.arctan2)"
      ]
    },
    {
      "cell_type": "code",
      "execution_count": 47,
      "metadata": {
        "id": "e_cwbXEBBo8G",
        "colab": {
          "base_uri": "https://localhost:8080/"
        },
        "outputId": "a48c0ee7-81f8-466c-967b-eb42f91ee00c"
      },
      "outputs": [
        {
          "output_type": "stream",
          "name": "stdout",
          "text": [
            "[0.13804678 0.52164294 0.8962799  0.63181901 0.85338739 0.67312766\n",
            " 0.9458519  0.99196554 0.82509567 0.4752176 ]\n",
            "[0.98285329 0.77258034 0.52564653 1.27034481 0.20786117 1.26885292\n",
            " 0.1331453  0.28878348 0.07008157 1.29474167]\n"
          ]
        }
      ],
      "source": [
        "x = np.random.random((10,2))\n",
        "y,z = x[:,0], x[:,1]\n",
        "r = np.sqrt(y**2 + z**2)\n",
        "t = np.arctan2(z,y)\n",
        "print(r)\n",
        "print(t)"
      ]
    },
    {
      "cell_type": "markdown",
      "metadata": {
        "id": "x_dDK4_XBo8H"
      },
      "source": [
        "#### 45. Create random vector of size 10 and replace the maximum value by 0 (★★☆) \n",
        "(**hint**: argmax)"
      ]
    },
    {
      "cell_type": "code",
      "execution_count": 48,
      "metadata": {
        "id": "V4h-n-OqBo8J",
        "colab": {
          "base_uri": "https://localhost:8080/"
        },
        "outputId": "22b1d257-4424-4f83-f283-fccc3aea0d3c"
      },
      "outputs": [
        {
          "output_type": "stream",
          "name": "stdout",
          "text": [
            "[0.79351865 0.34221433 0.26423384 0.76527097 0.47446365 0.53030501\n",
            " 0.52641229 0.07184874 0.8110441  0.        ]\n"
          ]
        }
      ],
      "source": [
        "x = np.random.random(10)\n",
        "x[x.argmax()] = 0 \n",
        "print(x)"
      ]
    },
    {
      "cell_type": "markdown",
      "metadata": {
        "id": "gPhkxKMpBo8M"
      },
      "source": [
        "#### 46. Create a structured array with `x` and `y` coordinates covering the \\[0,1\\]x\\[0,1\\] area (★★☆) \n",
        "(**hint**: np.meshgrid)"
      ]
    },
    {
      "cell_type": "code",
      "execution_count": 49,
      "metadata": {
        "id": "3tyrCkaaBo8O",
        "colab": {
          "base_uri": "https://localhost:8080/"
        },
        "outputId": "f1aea9a8-fcce-4264-d390-dea78d47536f"
      },
      "outputs": [
        {
          "output_type": "execute_result",
          "data": {
            "text/plain": [
              "array([[(0.  , 0.  ), (0.25, 0.  ), (0.5 , 0.  ), (0.75, 0.  ),\n",
              "        (1.  , 0.  )],\n",
              "       [(0.  , 0.25), (0.25, 0.25), (0.5 , 0.25), (0.75, 0.25),\n",
              "        (1.  , 0.25)],\n",
              "       [(0.  , 0.5 ), (0.25, 0.5 ), (0.5 , 0.5 ), (0.75, 0.5 ),\n",
              "        (1.  , 0.5 )],\n",
              "       [(0.  , 0.75), (0.25, 0.75), (0.5 , 0.75), (0.75, 0.75),\n",
              "        (1.  , 0.75)],\n",
              "       [(0.  , 1.  ), (0.25, 1.  ), (0.5 , 1.  ), (0.75, 1.  ),\n",
              "        (1.  , 1.  )]], dtype=[('x', '<f8'), ('y', '<f8')])"
            ]
          },
          "metadata": {},
          "execution_count": 49
        }
      ],
      "source": [
        "x = np.zeros((5,5),[('x',float),('y',float)])\n",
        "x['x'],x['y'] = np.meshgrid(np.linspace(0,1,5),np.linspace(0,1,5))\n",
        "x"
      ]
    },
    {
      "cell_type": "markdown",
      "metadata": {
        "id": "YD6kL6dEBo8P"
      },
      "source": [
        "####  47. Given two arrays, X and Y, construct the Cauchy matrix C (Cij =1/(xi - yj)) \n",
        "(**hint**: np.subtract.outer)"
      ]
    },
    {
      "cell_type": "code",
      "execution_count": 50,
      "metadata": {
        "id": "2R3WaVqXBo8R",
        "colab": {
          "base_uri": "https://localhost:8080/"
        },
        "outputId": "f5c9eb27-1bfc-4e8a-c110-12aef4934358"
      },
      "outputs": [
        {
          "output_type": "stream",
          "name": "stdout",
          "text": [
            "3638.163637117973\n"
          ]
        }
      ],
      "source": [
        "x = np.arange(8)\n",
        "y = x + 0.5 \n",
        "c = 1.0 / np.subtract.outer(x,y)\n",
        "print(np.linalg.det(c))"
      ]
    },
    {
      "cell_type": "markdown",
      "metadata": {
        "id": "baz6mQB3Bo8T"
      },
      "source": [
        "#### 48. Print the minimum and maximum representable value for each numpy scalar type (★★☆) \n",
        "(**hint**: np.iinfo, np.finfo, eps)"
      ]
    },
    {
      "cell_type": "code",
      "execution_count": 51,
      "metadata": {
        "id": "rtQy07mOBo8U",
        "colab": {
          "base_uri": "https://localhost:8080/"
        },
        "outputId": "7a077d98-91dd-4f10-ad04-72c28a359d2d"
      },
      "outputs": [
        {
          "output_type": "stream",
          "name": "stdout",
          "text": [
            "-128\n",
            "127\n",
            "-2147483648\n",
            "2147483647\n",
            "-9223372036854775808\n",
            "9223372036854775807\n",
            "-3.4028235e+38\n",
            "3.4028235e+38\n",
            "1.1920929e-07\n",
            "-1.7976931348623157e+308\n",
            "1.7976931348623157e+308\n",
            "2.220446049250313e-16\n"
          ]
        }
      ],
      "source": [
        "for dtype in [np.int8, np.int32 , np.int64]:\n",
        "  print(np.iinfo(dtype).min)\n",
        "  print(np.iinfo(dtype).max)\n",
        "for dtype in [np.float32, np.float64]:\n",
        "  print(np.finfo(dtype).min)\n",
        "  print(np.finfo(dtype).max)\n",
        "  print(np.finfo(dtype).eps)"
      ]
    },
    {
      "cell_type": "markdown",
      "metadata": {
        "id": "HwwL9FzABo8W"
      },
      "source": [
        "#### 49. How to print all the values of an array? (★★☆) \n",
        "(**hint**: np.set\\_printoptions)"
      ]
    },
    {
      "cell_type": "code",
      "execution_count": 52,
      "metadata": {
        "id": "7pzCNI0NBo8Z",
        "colab": {
          "base_uri": "https://localhost:8080/"
        },
        "outputId": "6302acc8-a31d-446c-9cbf-0f87463cf3cb"
      },
      "outputs": [
        {
          "output_type": "stream",
          "name": "stdout",
          "text": [
            "[[0. 0. 0. 0. 0. 0. 0. 0. 0. 0. 0. 0. 0. 0. 0. 0.]\n",
            " [0. 0. 0. 0. 0. 0. 0. 0. 0. 0. 0. 0. 0. 0. 0. 0.]\n",
            " [0. 0. 0. 0. 0. 0. 0. 0. 0. 0. 0. 0. 0. 0. 0. 0.]\n",
            " [0. 0. 0. 0. 0. 0. 0. 0. 0. 0. 0. 0. 0. 0. 0. 0.]\n",
            " [0. 0. 0. 0. 0. 0. 0. 0. 0. 0. 0. 0. 0. 0. 0. 0.]\n",
            " [0. 0. 0. 0. 0. 0. 0. 0. 0. 0. 0. 0. 0. 0. 0. 0.]\n",
            " [0. 0. 0. 0. 0. 0. 0. 0. 0. 0. 0. 0. 0. 0. 0. 0.]\n",
            " [0. 0. 0. 0. 0. 0. 0. 0. 0. 0. 0. 0. 0. 0. 0. 0.]\n",
            " [0. 0. 0. 0. 0. 0. 0. 0. 0. 0. 0. 0. 0. 0. 0. 0.]\n",
            " [0. 0. 0. 0. 0. 0. 0. 0. 0. 0. 0. 0. 0. 0. 0. 0.]\n",
            " [0. 0. 0. 0. 0. 0. 0. 0. 0. 0. 0. 0. 0. 0. 0. 0.]\n",
            " [0. 0. 0. 0. 0. 0. 0. 0. 0. 0. 0. 0. 0. 0. 0. 0.]\n",
            " [0. 0. 0. 0. 0. 0. 0. 0. 0. 0. 0. 0. 0. 0. 0. 0.]\n",
            " [0. 0. 0. 0. 0. 0. 0. 0. 0. 0. 0. 0. 0. 0. 0. 0.]\n",
            " [0. 0. 0. 0. 0. 0. 0. 0. 0. 0. 0. 0. 0. 0. 0. 0.]\n",
            " [0. 0. 0. 0. 0. 0. 0. 0. 0. 0. 0. 0. 0. 0. 0. 0.]]\n"
          ]
        }
      ],
      "source": [
        "np.set_printoptions()\n",
        "x = np.zeros((16,16))\n",
        "print(x)"
      ]
    },
    {
      "cell_type": "markdown",
      "metadata": {
        "id": "HHtsIkfTBo8a"
      },
      "source": [
        "#### 50. How to find the closest value (to a given scalar) in a vector? (★★☆) \n",
        "(**hint**: argmin)"
      ]
    },
    {
      "cell_type": "code",
      "execution_count": 56,
      "metadata": {
        "id": "zSSmXs7pBo8d",
        "colab": {
          "base_uri": "https://localhost:8080/"
        },
        "outputId": "66ee4b62-7856-46bc-8a38-b5468f862718"
      },
      "outputs": [
        {
          "output_type": "stream",
          "name": "stdout",
          "text": [
            "76\n"
          ]
        }
      ],
      "source": [
        "x = np.arange(100)\n",
        "y = np.random.uniform(0,100)\n",
        "index = (np.abs(x-y)).argmin()\n",
        "print(x[index])"
      ]
    },
    {
      "cell_type": "markdown",
      "metadata": {
        "id": "AoFLov7dBo8g"
      },
      "source": [
        "#### 51. Create a structured array representing a position (x,y) and a color (r,g,b) (★★☆) \n",
        "(**hint**: dtype)"
      ]
    },
    {
      "cell_type": "code",
      "execution_count": 57,
      "metadata": {
        "id": "TeNAmnXeBo8j",
        "colab": {
          "base_uri": "https://localhost:8080/"
        },
        "outputId": "02d171d5-5e56-4438-d90f-56a0262bc496"
      },
      "outputs": [
        {
          "output_type": "stream",
          "name": "stdout",
          "text": [
            "[((0., 0.), (0., 0., 0.)) ((0., 0.), (0., 0., 0.))\n",
            " ((0., 0.), (0., 0., 0.)) ((0., 0.), (0., 0., 0.))\n",
            " ((0., 0.), (0., 0., 0.)) ((0., 0.), (0., 0., 0.))\n",
            " ((0., 0.), (0., 0., 0.)) ((0., 0.), (0., 0., 0.))\n",
            " ((0., 0.), (0., 0., 0.)) ((0., 0.), (0., 0., 0.))]\n"
          ]
        },
        {
          "output_type": "stream",
          "name": "stderr",
          "text": [
            "<ipython-input-57-a09e702c813f>:1: FutureWarning: Passing (type, 1) or '1type' as a synonym of type is deprecated; in a future version of numpy, it will be understood as (type, (1,)) / '(1,)type'.\n",
            "  x = np.zeros(10,[('position',[('x', float, 1),\n"
          ]
        }
      ],
      "source": [
        "x = np.zeros(10,[('position',[('x', float, 1),\n",
        "                              ('y', float, 1)]),\n",
        "                 ('color',[('r',float,1),\n",
        "                           ('g',float,1),\n",
        "                           ('b',float,1)])])\n",
        "print(x)"
      ]
    },
    {
      "cell_type": "markdown",
      "metadata": {
        "id": "rAHIMrDiBo8k"
      },
      "source": [
        "#### 52. Consider a random vector with shape (100,2) representing coordinates, find point by point distances (★★☆) \n",
        "(**hint**: np.atleast\\_2d, T, np.sqrt)"
      ]
    },
    {
      "cell_type": "code",
      "execution_count": 58,
      "metadata": {
        "id": "ZRr1jpZDBo8m",
        "colab": {
          "base_uri": "https://localhost:8080/"
        },
        "outputId": "c6470008-9ed1-4a13-e064-6e40ca705882"
      },
      "outputs": [
        {
          "output_type": "stream",
          "name": "stdout",
          "text": [
            "[[0.         0.03327075 0.39164117 ... 0.44263824 0.13721258 0.2457244 ]\n",
            " [0.03327075 0.         0.37977423 ... 0.44842125 0.13635549 0.25410625]\n",
            " [0.39164117 0.37977423 0.         ... 0.22887453 0.51353152 0.23302403]\n",
            " ...\n",
            " [0.44263824 0.44842125 0.22887453 ... 0.         0.57984595 0.19765494]\n",
            " [0.13721258 0.13635549 0.51353152 ... 0.57984595 0.         0.38285855]\n",
            " [0.2457244  0.25410625 0.23302403 ... 0.19765494 0.38285855 0.        ]]\n"
          ]
        }
      ],
      "source": [
        "import scipy\n",
        "import scipy.spatial\n",
        "z = np.random.random((100,2))\n",
        "d = scipy.spatial.distance.cdist(z,z)\n",
        "print(d)"
      ]
    },
    {
      "cell_type": "markdown",
      "metadata": {
        "id": "b8C_dt0-Bo8n"
      },
      "source": [
        "#### 53. How to convert a float (32 bits) array into an integer (32 bits) in place? \n",
        "(**hint**: astype(copy=False))"
      ]
    },
    {
      "cell_type": "code",
      "execution_count": 59,
      "metadata": {
        "id": "JSFD0CsSBo8q",
        "colab": {
          "base_uri": "https://localhost:8080/"
        },
        "outputId": "4f7e99ed-7c2d-41c1-98f4-542c913e5d34"
      },
      "outputs": [
        {
          "output_type": "execute_result",
          "data": {
            "text/plain": [
              "array([0, 1, 2, 3, 4, 5, 6, 7, 8, 9], dtype=int32)"
            ]
          },
          "metadata": {},
          "execution_count": 59
        }
      ],
      "source": [
        "x = np.arange(10, dtype = np.float32)\n",
        "x = x.astype(np.int32, copy = False)\n",
        "x "
      ]
    },
    {
      "cell_type": "markdown",
      "metadata": {
        "id": "ko0RJuRMBo8s"
      },
      "source": [
        "#### 54. How to read the following file? (★★☆) \n",
        "(**hint**: np.genfromtxt)"
      ]
    },
    {
      "cell_type": "markdown",
      "metadata": {
        "id": "6XNhN4ZNBo8v"
      },
      "source": [
        "```\n",
        "1, 2, 3, 4, 5\n",
        "6,  ,  , 7, 8\n",
        " ,  , 9,10,11\n",
        "```"
      ]
    },
    {
      "cell_type": "code",
      "execution_count": 61,
      "metadata": {
        "id": "k_hesP_aBo8x",
        "colab": {
          "base_uri": "https://localhost:8080/"
        },
        "outputId": "a8100902-0625-44f3-8346-cad4946b09c4"
      },
      "outputs": [
        {
          "output_type": "stream",
          "name": "stdout",
          "text": [
            "[[ 1  2  3  4  5]\n",
            " [ 6 -1 -1  7  8]\n",
            " [-1 -1  9 10 11]]\n"
          ]
        },
        {
          "output_type": "stream",
          "name": "stderr",
          "text": [
            "<ipython-input-61-88d4e89eef54>:4: DeprecationWarning: `np.int` is a deprecated alias for the builtin `int`. To silence this warning, use `int` by itself. Doing this will not modify any behavior and is safe. When replacing `np.int`, you may wish to use e.g. `np.int64` or `np.int32` to specify the precision. If you wish to review your current use, check the release note link for additional information.\n",
            "Deprecated in NumPy 1.20; for more details and guidance: https://numpy.org/devdocs/release/1.20.0-notes.html#deprecations\n",
            "  x = np.genfromtxt(s, delimiter=',', dtype=np.int)\n"
          ]
        }
      ],
      "source": [
        "from numpy.lib.npyio import genfromtxt\n",
        "from io import StringIO \n",
        "s = StringIO(\"\"\"1, 2, 3, 4, 5\\n6,  ,  , 7, 8\\n ,  , 9,10,11\\n\"\"\")\n",
        "x = np.genfromtxt(s, delimiter=',', dtype=np.int)\n",
        "print(x)"
      ]
    },
    {
      "cell_type": "markdown",
      "metadata": {
        "id": "F4vngigpBo8y"
      },
      "source": [
        "#### 55. What is the equivalent of enumerate for numpy arrays? (★★☆) \n",
        "(**hint**: np.ndenumerate, np.ndindex)"
      ]
    },
    {
      "cell_type": "code",
      "execution_count": 62,
      "metadata": {
        "id": "oONxrEIVBo80",
        "colab": {
          "base_uri": "https://localhost:8080/"
        },
        "outputId": "ac1d14cf-d26a-4578-f027-c4a6d24ed3a1"
      },
      "outputs": [
        {
          "output_type": "stream",
          "name": "stdout",
          "text": [
            "(0, 0) 0\n",
            "(0, 1) 1\n",
            "(0, 2) 2\n",
            "(1, 0) 3\n",
            "(1, 1) 4\n",
            "(1, 2) 5\n",
            "(2, 0) 6\n",
            "(2, 1) 7\n",
            "(2, 2) 8\n",
            "(0, 0) 0\n",
            "(0, 1) 1\n",
            "(0, 2) 2\n",
            "(1, 0) 3\n",
            "(1, 1) 4\n",
            "(1, 2) 5\n",
            "(2, 0) 6\n",
            "(2, 1) 7\n",
            "(2, 2) 8\n"
          ]
        }
      ],
      "source": [
        "x = np.arange(9).reshape(3,3)\n",
        "for index, value in np.ndenumerate(x):\n",
        "  print(index, value)\n",
        "for index in np.ndindex(x.shape):\n",
        "  print(index, x[index])"
      ]
    },
    {
      "cell_type": "markdown",
      "metadata": {
        "id": "JrbTTEvzBo81"
      },
      "source": [
        "#### 56. Generate a generic 2D Gaussian-like array (★★☆) \n",
        "(**hint**: np.meshgrid, np.exp)"
      ]
    },
    {
      "cell_type": "code",
      "execution_count": 63,
      "metadata": {
        "id": "sRnl_cSuBo84",
        "colab": {
          "base_uri": "https://localhost:8080/"
        },
        "outputId": "5c09473e-b7b8-45a3-9c75-7ea617701c96"
      },
      "outputs": [
        {
          "output_type": "stream",
          "name": "stdout",
          "text": [
            "[[0.36787944 0.44822088 0.51979489 0.57375342 0.60279818 0.60279818\n",
            "  0.57375342 0.51979489 0.44822088 0.36787944]\n",
            " [0.44822088 0.54610814 0.63331324 0.69905581 0.73444367 0.73444367\n",
            "  0.69905581 0.63331324 0.54610814 0.44822088]\n",
            " [0.51979489 0.63331324 0.73444367 0.81068432 0.85172308 0.85172308\n",
            "  0.81068432 0.73444367 0.63331324 0.51979489]\n",
            " [0.57375342 0.69905581 0.81068432 0.89483932 0.9401382  0.9401382\n",
            "  0.89483932 0.81068432 0.69905581 0.57375342]\n",
            " [0.60279818 0.73444367 0.85172308 0.9401382  0.98773022 0.98773022\n",
            "  0.9401382  0.85172308 0.73444367 0.60279818]\n",
            " [0.60279818 0.73444367 0.85172308 0.9401382  0.98773022 0.98773022\n",
            "  0.9401382  0.85172308 0.73444367 0.60279818]\n",
            " [0.57375342 0.69905581 0.81068432 0.89483932 0.9401382  0.9401382\n",
            "  0.89483932 0.81068432 0.69905581 0.57375342]\n",
            " [0.51979489 0.63331324 0.73444367 0.81068432 0.85172308 0.85172308\n",
            "  0.81068432 0.73444367 0.63331324 0.51979489]\n",
            " [0.44822088 0.54610814 0.63331324 0.69905581 0.73444367 0.73444367\n",
            "  0.69905581 0.63331324 0.54610814 0.44822088]\n",
            " [0.36787944 0.44822088 0.51979489 0.57375342 0.60279818 0.60279818\n",
            "  0.57375342 0.51979489 0.44822088 0.36787944]]\n"
          ]
        }
      ],
      "source": [
        "x,y = np.meshgrid(np.linspace(-1,1,10), np.linspace(-1,1,10))\n",
        "d = np.sqrt(x*x + y*y)\n",
        "sigma , mu = 1.0, 0.0\n",
        "g = np.exp(-( (d-mu)**2 / (2.0 * sigma**2)))\n",
        "print(g)"
      ]
    },
    {
      "cell_type": "markdown",
      "metadata": {
        "id": "ACtReHsqBo85"
      },
      "source": [
        "#### 57. How to randomly place p elements in a 2D array? (★★☆) \n",
        "(**hint**: np.put, np.random.choice)"
      ]
    },
    {
      "cell_type": "code",
      "execution_count": 64,
      "metadata": {
        "id": "4jPEeCiaBo87",
        "colab": {
          "base_uri": "https://localhost:8080/"
        },
        "outputId": "75e07a70-1976-4b2e-bcbb-1b74432f15ad"
      },
      "outputs": [
        {
          "output_type": "stream",
          "name": "stdout",
          "text": [
            "[[0. 0. 0. 0. 0. 0. 1. 0. 0. 0.]\n",
            " [0. 0. 0. 0. 0. 0. 0. 0. 0. 0.]\n",
            " [0. 0. 0. 0. 0. 0. 0. 0. 0. 0.]\n",
            " [0. 0. 0. 0. 0. 0. 0. 0. 1. 0.]\n",
            " [0. 0. 0. 0. 0. 0. 0. 0. 0. 0.]\n",
            " [0. 0. 0. 0. 0. 0. 0. 0. 0. 0.]\n",
            " [0. 0. 0. 0. 0. 0. 0. 0. 0. 0.]\n",
            " [0. 0. 0. 0. 0. 0. 1. 0. 0. 0.]\n",
            " [0. 0. 0. 0. 0. 0. 0. 0. 0. 0.]\n",
            " [0. 0. 0. 0. 0. 0. 0. 0. 0. 0.]]\n"
          ]
        }
      ],
      "source": [
        "n = 10\n",
        "p = 3 \n",
        "x = np.zeros((n,n))\n",
        "np.put(x,np.random.choice(range(n*n),p,replace = False),1)\n",
        "print(x)"
      ]
    },
    {
      "cell_type": "markdown",
      "metadata": {
        "id": "70xvXcM6Bo9C"
      },
      "source": [
        "#### 58. Subtract the mean of each row of a matrix (★★☆) \n",
        "(**hint**: mean(axis=,keepdims=))"
      ]
    },
    {
      "cell_type": "code",
      "execution_count": 65,
      "metadata": {
        "id": "sJn4VfZoBo9E",
        "colab": {
          "base_uri": "https://localhost:8080/"
        },
        "outputId": "a271683a-857c-43ee-cb5d-10ad95ff0b93"
      },
      "outputs": [
        {
          "output_type": "stream",
          "name": "stdout",
          "text": [
            "[[ 0.19656966 -0.02028564  0.27765602  0.23335985 -0.60193013 -0.44362395\n",
            "  -0.15362278  0.28374849  0.13879266  0.08933581]\n",
            " [-0.03538937  0.22845084  0.5628778   0.24141298  0.41410736 -0.27738297\n",
            "  -0.38946012 -0.25474711 -0.28179198 -0.20807742]\n",
            " [ 0.19381861 -0.22308501 -0.03406706 -0.03685394  0.14448885 -0.28213036\n",
            "  -0.17217195  0.45470044  0.05729229 -0.10199187]\n",
            " [-0.0775279   0.3105839   0.05864082  0.39892369 -0.06807185 -0.43858524\n",
            "  -0.41134886 -0.01375656  0.54409687 -0.30295487]\n",
            " [ 0.17095419 -0.06886963 -0.46961609  0.14309605  0.08818469  0.12496176\n",
            "  -0.19155714 -0.19988622 -0.02234103  0.42507342]]\n"
          ]
        }
      ],
      "source": [
        "x = np.random.rand(5,10)\n",
        "y = x-x.mean(axis =1 , keepdims= True)\n",
        "y = x-x.mean(axis=1).reshape(-1,1)\n",
        "print(y)"
      ]
    },
    {
      "cell_type": "markdown",
      "metadata": {
        "id": "3fxklJ8OBo9K"
      },
      "source": [
        "#### 59. How to sort an array by the nth column? (★★☆) \n",
        "(**hint**: argsort)"
      ]
    },
    {
      "cell_type": "code",
      "execution_count": 66,
      "metadata": {
        "id": "6Q06WN9JBo9M",
        "colab": {
          "base_uri": "https://localhost:8080/"
        },
        "outputId": "105da9f2-c9d5-495f-ca04-c0e92786eabb"
      },
      "outputs": [
        {
          "output_type": "stream",
          "name": "stdout",
          "text": [
            "[[0 4 4]\n",
            " [2 7 9]\n",
            " [7 4 8]]\n",
            "[[0 4 4]\n",
            " [7 4 8]\n",
            " [2 7 9]]\n"
          ]
        }
      ],
      "source": [
        "x = np.random.randint(0,10,(3,3))\n",
        "print(x)\n",
        "print(x[x[:,1].argsort()])"
      ]
    },
    {
      "cell_type": "markdown",
      "metadata": {
        "id": "WVuNBWKaBo9P"
      },
      "source": [
        "#### 60. How to tell if a given 2D array has null columns? (★★☆) \n",
        "(**hint**: any, ~)"
      ]
    },
    {
      "cell_type": "code",
      "execution_count": 67,
      "metadata": {
        "id": "aohxaeC8Bo9R",
        "colab": {
          "base_uri": "https://localhost:8080/"
        },
        "outputId": "5ab0b71f-9ac9-4c14-9dbe-8682b241fe5b"
      },
      "outputs": [
        {
          "output_type": "stream",
          "name": "stdout",
          "text": [
            "True\n"
          ]
        }
      ],
      "source": [
        "x = np.random.randint(0,3,(3,10))\n",
        "print((~x.any(axis=0)).any())"
      ]
    },
    {
      "cell_type": "markdown",
      "metadata": {
        "id": "AuCdELAwBo9S"
      },
      "source": [
        "#### 61. Find the nearest value from a given value in an array (★★☆) \n",
        "(**hint**: np.abs, argmin, flat)"
      ]
    },
    {
      "cell_type": "code",
      "execution_count": 68,
      "metadata": {
        "id": "wo-2750TBo9U",
        "colab": {
          "base_uri": "https://localhost:8080/"
        },
        "outputId": "79a05a72-fbad-4612-d41b-84e2ef1f85a4"
      },
      "outputs": [
        {
          "output_type": "stream",
          "name": "stdout",
          "text": [
            "0.41790799610510365\n"
          ]
        }
      ],
      "source": [
        "x = np.random.uniform(0,1,10)\n",
        "y = 0.5\n",
        "m =x.flat[np.abs(x - y).argmin()]\n",
        "print(m)"
      ]
    },
    {
      "cell_type": "markdown",
      "metadata": {
        "id": "Jhr87sKHBo9U"
      },
      "source": [
        "#### 62. Considering two arrays with shape (1,3) and (3,1), how to compute their sum using an iterator? (★★☆) \n",
        "(**hint**: np.nditer)"
      ]
    },
    {
      "cell_type": "code",
      "execution_count": 69,
      "metadata": {
        "id": "n7pI952RBo9W",
        "colab": {
          "base_uri": "https://localhost:8080/"
        },
        "outputId": "b3836059-f62a-422f-9b54-8afbfb818ed9"
      },
      "outputs": [
        {
          "output_type": "stream",
          "name": "stdout",
          "text": [
            "[[0 1 2]\n",
            " [1 2 3]\n",
            " [2 3 4]]\n"
          ]
        }
      ],
      "source": [
        "a = np.arange(3).reshape(3,1)\n",
        "b = np.arange(3).reshape(1,3)\n",
        "it = np.nditer([a,b,None])\n",
        "for x,y,z in it:\n",
        "   z[...] = x + y\n",
        "print(it.operands[2]) "
      ]
    },
    {
      "cell_type": "markdown",
      "metadata": {
        "id": "49iRNN7yBo9W"
      },
      "source": [
        "#### 63. Create an array class that has a name attribute (★★☆) \n",
        "(**hint**: class method)"
      ]
    },
    {
      "cell_type": "code",
      "execution_count": 70,
      "metadata": {
        "id": "miqyCzIFBo9Y",
        "colab": {
          "base_uri": "https://localhost:8080/"
        },
        "outputId": "8e9ad5bd-a08f-433a-ebba-ba19de8033d6"
      },
      "outputs": [
        {
          "output_type": "stream",
          "name": "stdout",
          "text": [
            "range_10\n"
          ]
        }
      ],
      "source": [
        "class NamedArray(np.ndarray):\n",
        "    def __new__(cls, array, name=\"no name\"):\n",
        "        obj = np.asarray(array).view(cls)\n",
        "        obj.name = name\n",
        "        return obj\n",
        "    def __array_finalize__(self, obj):\n",
        "        if obj is None: return\n",
        "        self.info = getattr(obj, 'name', \"no name\")\n",
        "\n",
        "Z = NamedArray(np.arange(10), \"range_10\")\n",
        "print (Z.name)"
      ]
    },
    {
      "cell_type": "markdown",
      "metadata": {
        "id": "5MCj2TWmBo9Z"
      },
      "source": [
        "#### 64. Consider a given vector, how to add 1 to each element indexed by a second vector (be careful with repeated indices)? (★★★) \n",
        "(**hint**: np.bincount | np.add.at)"
      ]
    },
    {
      "cell_type": "code",
      "execution_count": 71,
      "metadata": {
        "id": "EmpQclZVBo9a",
        "colab": {
          "base_uri": "https://localhost:8080/"
        },
        "outputId": "2da9a36d-2017-4189-d3eb-e5d5a0920d0b"
      },
      "outputs": [
        {
          "output_type": "stream",
          "name": "stdout",
          "text": [
            "[1. 5. 1. 3. 3. 5. 2. 5. 2. 3.]\n"
          ]
        }
      ],
      "source": [
        "x = np.ones(10)\n",
        "i = np.random.randint(0,len(x),20)\n",
        "x += np.bincount(i, minlength= len(x))\n",
        "print(x)"
      ]
    },
    {
      "cell_type": "markdown",
      "metadata": {
        "id": "kdp-w-SYBo9a"
      },
      "source": [
        "#### 65. How to accumulate elements of a vector (X) to an array (F) based on an index list (I)? (★★★) \n",
        "(**hint**: np.bincount)"
      ]
    },
    {
      "cell_type": "code",
      "execution_count": 72,
      "metadata": {
        "id": "MqQ1np6rBo9b",
        "colab": {
          "base_uri": "https://localhost:8080/"
        },
        "outputId": "3b02dcc7-a031-46cc-b25c-0d7cf358a416"
      },
      "outputs": [
        {
          "output_type": "stream",
          "name": "stdout",
          "text": [
            "[0. 7. 0. 6. 5. 0. 0. 0. 0. 3.]\n"
          ]
        }
      ],
      "source": [
        "x = [1,2,3,4,5,6]\n",
        "i = [1,3,9,3,4,1]\n",
        "f =np.bincount(i,x)\n",
        "print(f)"
      ]
    },
    {
      "cell_type": "markdown",
      "metadata": {
        "id": "qGq1i1pwBo9c"
      },
      "source": [
        "#### 66. Considering a (w,h,3) image of (dtype=ubyte), compute the number of unique colors (★★★) \n",
        "(**hint**: np.unique)"
      ]
    },
    {
      "cell_type": "code",
      "execution_count": 73,
      "metadata": {
        "id": "5oLCydzUBo9n",
        "colab": {
          "base_uri": "https://localhost:8080/"
        },
        "outputId": "fe84bb0e-00d9-4d84-8ab9-e4966045c6cc"
      },
      "outputs": [
        {
          "output_type": "stream",
          "name": "stdout",
          "text": [
            "8\n"
          ]
        }
      ],
      "source": [
        "w,h = 16,16\n",
        "i =np.random.randint(0,2,(h,w,3)).astype(np.ubyte)\n",
        "f = i[...,0]*(256*256) + i[...,1]*256 +i[...,2]\n",
        "n = len(np.unique(f))\n",
        "print(n)"
      ]
    },
    {
      "cell_type": "markdown",
      "metadata": {
        "id": "qm7lbAjFBo9o"
      },
      "source": [
        "#### 67. Considering a four dimensions array, how to get sum over the last two axis at once? (★★★) \n",
        "(**hint**: sum(axis=(-2,-1)))"
      ]
    },
    {
      "cell_type": "code",
      "execution_count": 74,
      "metadata": {
        "id": "a-LGnHeDBo9p",
        "colab": {
          "base_uri": "https://localhost:8080/"
        },
        "outputId": "14702723-c787-421e-bdec-a25fc8e89a1d"
      },
      "outputs": [
        {
          "output_type": "stream",
          "name": "stdout",
          "text": [
            "3\n"
          ]
        }
      ],
      "source": [
        "sum =a.reshape(a.shape[:-2] + (-1,)).sum(axis=-1)\n",
        "print(sum)"
      ]
    },
    {
      "cell_type": "markdown",
      "metadata": {
        "id": "gVpi1wbPBo9q"
      },
      "source": [
        "#### 68. Considering a one-dimensional vector D, how to compute means of subsets of D using a vector S of same size describing subset  indices? (★★★) \n",
        "(**hint**: np.bincount)"
      ]
    },
    {
      "cell_type": "code",
      "execution_count": 75,
      "metadata": {
        "id": "3A99EzGcBo9r",
        "colab": {
          "base_uri": "https://localhost:8080/"
        },
        "outputId": "bbf98978-f19d-4833-8de5-ef3933111edd"
      },
      "outputs": [
        {
          "output_type": "stream",
          "name": "stdout",
          "text": [
            "1      0.972362\n",
            "2      0.878708\n",
            "3      0.502404\n",
            "4      0.139422\n",
            "6      0.838648\n",
            "12     0.816664\n",
            "15     0.767457\n",
            "16     0.611711\n",
            "17     0.370477\n",
            "18     0.896931\n",
            "19     0.315936\n",
            "20     0.756183\n",
            "21     0.232673\n",
            "23     0.446613\n",
            "24     0.599601\n",
            "25     0.758852\n",
            "26     0.307538\n",
            "28     0.627815\n",
            "30     0.610117\n",
            "32     0.445247\n",
            "33     0.182670\n",
            "34     0.817117\n",
            "37     0.421104\n",
            "41     0.230424\n",
            "42     0.715871\n",
            "48     0.886235\n",
            "49     0.566974\n",
            "52     0.381758\n",
            "53     0.740327\n",
            "54     0.561443\n",
            "55     0.944682\n",
            "56     0.637977\n",
            "58     0.277358\n",
            "60     0.808965\n",
            "65     0.441128\n",
            "67     0.615389\n",
            "68     0.412969\n",
            "69     0.360047\n",
            "74     0.051297\n",
            "76     0.295233\n",
            "78     0.438972\n",
            "79     0.502898\n",
            "80     0.437069\n",
            "81     0.663120\n",
            "82     0.522357\n",
            "83     0.930390\n",
            "84     0.368524\n",
            "86     0.359946\n",
            "87     0.513875\n",
            "89     0.332324\n",
            "90     0.376795\n",
            "91     0.358328\n",
            "92     0.609268\n",
            "93     0.320040\n",
            "94     0.225314\n",
            "96     0.635230\n",
            "97     0.077887\n",
            "99     0.900648\n",
            "100    0.658994\n",
            "dtype: float64\n"
          ]
        }
      ],
      "source": [
        "import pandas as pd\n",
        "d =np.random.uniform(0,1,100)\n",
        "s = np.random.randint(0,101,100)\n",
        "print(pd.Series(d).groupby(s).mean())"
      ]
    },
    {
      "cell_type": "markdown",
      "metadata": {
        "id": "9xTCCe6HBo9r"
      },
      "source": [
        "#### 69. How to get the diagonal of a dot product? (★★★) \n",
        "(**hint**: np.diag)"
      ]
    },
    {
      "cell_type": "code",
      "execution_count": 76,
      "metadata": {
        "id": "26e_lRsuBo9s",
        "colab": {
          "base_uri": "https://localhost:8080/"
        },
        "outputId": "1ae676ff-c1de-4b84-d926-73c2c0334aad"
      },
      "outputs": [
        {
          "output_type": "stream",
          "name": "stdout",
          "text": [
            "[0.4287436  0.62692141 1.5994752  1.44019066 1.56684388]\n"
          ]
        }
      ],
      "source": [
        "a = np.random.uniform(0,1,(5,5))\n",
        "b = np.random.uniform(0,1,(5,5))\n",
        "print(np.sum(a * b.T, axis=1))"
      ]
    },
    {
      "cell_type": "markdown",
      "metadata": {
        "id": "zwxN5kk_Bo9t"
      },
      "source": [
        "#### 70. Consider the vector \\[1, 2, 3, 4, 5\\], how to build a new vector with 3 consecutive zeros interleaved between each value? (★★★) \n",
        "(**hint**: array\\[::4\\])"
      ]
    },
    {
      "cell_type": "code",
      "execution_count": 77,
      "metadata": {
        "id": "uWHNEndrBo9w",
        "colab": {
          "base_uri": "https://localhost:8080/"
        },
        "outputId": "66932d01-ddca-4bdb-cd8d-d195712d2f41"
      },
      "outputs": [
        {
          "output_type": "stream",
          "name": "stdout",
          "text": [
            "[1. 0. 0. 0. 2. 0. 0. 0. 3. 0. 0. 0. 4. 0. 0. 0. 5.]\n"
          ]
        }
      ],
      "source": [
        "x = np.array([1,2,3,4,5])\n",
        "nz = 3\n",
        "y = np.zeros(len(x) + (len(x)-1)*(nz))\n",
        "y[::nz+1] = x\n",
        "print(y)"
      ]
    },
    {
      "cell_type": "markdown",
      "metadata": {
        "id": "KH9mU1N3Bo9w"
      },
      "source": [
        "#### 71. Consider an array of dimension (5,5,3), how to mulitply it by an array with dimensions (5,5)? (★★★) \n",
        "(**hint**: array\\[:, :, None\\])"
      ]
    },
    {
      "cell_type": "code",
      "execution_count": 78,
      "metadata": {
        "collapsed": true,
        "id": "Ydqm9pdaBo9x",
        "colab": {
          "base_uri": "https://localhost:8080/"
        },
        "outputId": "7ef9e5d5-7451-4cc5-9776-55eab758b8e2"
      },
      "outputs": [
        {
          "output_type": "stream",
          "name": "stdout",
          "text": [
            "[[[2. 2. 2.]\n",
            "  [2. 2. 2.]\n",
            "  [2. 2. 2.]\n",
            "  [2. 2. 2.]\n",
            "  [2. 2. 2.]]\n",
            "\n",
            " [[2. 2. 2.]\n",
            "  [2. 2. 2.]\n",
            "  [2. 2. 2.]\n",
            "  [2. 2. 2.]\n",
            "  [2. 2. 2.]]\n",
            "\n",
            " [[2. 2. 2.]\n",
            "  [2. 2. 2.]\n",
            "  [2. 2. 2.]\n",
            "  [2. 2. 2.]\n",
            "  [2. 2. 2.]]\n",
            "\n",
            " [[2. 2. 2.]\n",
            "  [2. 2. 2.]\n",
            "  [2. 2. 2.]\n",
            "  [2. 2. 2.]\n",
            "  [2. 2. 2.]]\n",
            "\n",
            " [[2. 2. 2.]\n",
            "  [2. 2. 2.]\n",
            "  [2. 2. 2.]\n",
            "  [2. 2. 2.]\n",
            "  [2. 2. 2.]]]\n"
          ]
        }
      ],
      "source": [
        "a = np.ones((5,5,3))\n",
        "b = 2*np.ones((5,5))\n",
        "print(a * b[:,:,None])"
      ]
    },
    {
      "cell_type": "markdown",
      "metadata": {
        "id": "umkrTfvCBo9y"
      },
      "source": [
        "#### 72. How to swap two rows of an array? (★★★) \n",
        "(**hint**: array\\[\\[\\]\\] = array\\[\\[\\]\\])"
      ]
    },
    {
      "cell_type": "code",
      "execution_count": 79,
      "metadata": {
        "id": "pLvtiIDjBo90",
        "colab": {
          "base_uri": "https://localhost:8080/"
        },
        "outputId": "6cf7f800-89a6-4cf6-9e65-9615b352d0f6"
      },
      "outputs": [
        {
          "output_type": "stream",
          "name": "stdout",
          "text": [
            "[[ 5  6  7  8  9]\n",
            " [ 0  1  2  3  4]\n",
            " [10 11 12 13 14]\n",
            " [15 16 17 18 19]\n",
            " [20 21 22 23 24]]\n"
          ]
        }
      ],
      "source": [
        "a = np.arange(25).reshape(5,5)\n",
        "a[[0,1]] = a[[1,0]]\n",
        "print(a)"
      ]
    },
    {
      "cell_type": "markdown",
      "metadata": {
        "id": "-cxTzWFRBo91"
      },
      "source": [
        "#### 73. Consider a set of 10 triplets describing 10 triangles (with shared vertices), find the set of unique line segments composing all the  triangles (★★★) \n",
        "(**hint**: repeat, np.roll, np.sort, view, np.unique)"
      ]
    },
    {
      "cell_type": "code",
      "execution_count": 80,
      "metadata": {
        "id": "AiEIPjz0Bo94",
        "colab": {
          "base_uri": "https://localhost:8080/"
        },
        "outputId": "66947790-95b4-47e9-d210-6c50adc1bba8"
      },
      "outputs": [
        {
          "output_type": "stream",
          "name": "stdout",
          "text": [
            "[( 0, 16) ( 0, 87) ( 2, 20) ( 2, 94) ( 4,  4) ( 4, 40) ( 9, 19) ( 9, 91)\n",
            " (14, 54) (14, 76) (16, 87) (19, 32) (19, 44) (19, 91) (20, 94) (28, 87)\n",
            " (28, 92) (32, 44) (40, 43) (40, 46) (43, 46) (45, 48) (45, 87) (48, 87)\n",
            " (54, 76) (54, 80) (54, 89) (80, 89) (87, 92)]\n"
          ]
        }
      ],
      "source": [
        "faces = np.random.randint(0,100,(10,3))\n",
        "f = np.roll(faces.repeat(2,axis=1),-1,axis=1)\n",
        "f = f.reshape(len(f)*3,2)\n",
        "f = np.sort(f,axis=1)\n",
        "g = f.view( dtype=[('p0',f.dtype),('p1',f.dtype)])\n",
        "g = np.unique(g)\n",
        "print(g)"
      ]
    },
    {
      "cell_type": "markdown",
      "metadata": {
        "id": "ZtMwJ3oYBo95"
      },
      "source": [
        "#### 74. Given an array C that is a bincount, how to produce an array A such that np.bincount(A) == C? (★★★) \n",
        "(**hint**: np.repeat)"
      ]
    },
    {
      "cell_type": "code",
      "execution_count": 81,
      "metadata": {
        "id": "LfYo5VmpBo96",
        "colab": {
          "base_uri": "https://localhost:8080/"
        },
        "outputId": "e82cda62-a16f-4255-d7ff-c2e84625fc9e"
      },
      "outputs": [
        {
          "output_type": "stream",
          "name": "stdout",
          "text": [
            "[1 1 2 3 4 4 6]\n"
          ]
        }
      ],
      "source": [
        "c = np.bincount([1,1,2,3,4,4,6])\n",
        "a = np.repeat(np.arange(len(c)),c)\n",
        "print(a)"
      ]
    },
    {
      "cell_type": "markdown",
      "metadata": {
        "id": "65Jf28xUBo97"
      },
      "source": [
        "#### 75. How to compute averages using a sliding window over an array? (★★★) \n",
        "(**hint**: np.cumsum)"
      ]
    },
    {
      "cell_type": "code",
      "execution_count": 82,
      "metadata": {
        "id": "GiTjWYpFBo98",
        "colab": {
          "base_uri": "https://localhost:8080/"
        },
        "outputId": "926f235e-903d-44b8-c789-9aa290679538"
      },
      "outputs": [
        {
          "output_type": "stream",
          "name": "stdout",
          "text": [
            "[ 1.  2.  3.  4.  5.  6.  7.  8.  9. 10. 11. 12. 13. 14. 15. 16. 17. 18.]\n"
          ]
        }
      ],
      "source": [
        "def moving_average(a, n=3):\n",
        "  ret = np.cumsum(a, dtype=float)\n",
        "  ret[n:] = ret[n:] - ret[:-n]\n",
        "  return ret[n -1:] / n\n",
        "z = np.arange(20)\n",
        "print(moving_average(z, n=3))"
      ]
    },
    {
      "cell_type": "markdown",
      "metadata": {
        "id": "t3nJaohNBo99"
      },
      "source": [
        "#### 76. Consider a one-dimensional array Z, build a two-dimensional array whose first row is (Z\\[0\\],Z\\[1\\],Z\\[2\\]) and each subsequent row is  shifted by 1 (last row should be (Z\\[-3\\],Z\\[-2\\],Z\\[-1\\]) (★★★) \n",
        "(**hint**: from numpy.lib import stride_tricks)"
      ]
    },
    {
      "cell_type": "code",
      "execution_count": 83,
      "metadata": {
        "id": "8jDs0gyhBo9-",
        "colab": {
          "base_uri": "https://localhost:8080/"
        },
        "outputId": "69185d1d-d36b-4623-9116-bdd1a7878ae2"
      },
      "outputs": [
        {
          "output_type": "stream",
          "name": "stdout",
          "text": [
            "[[0 1 2]\n",
            " [1 2 3]\n",
            " [2 3 4]\n",
            " [3 4 5]\n",
            " [4 5 6]\n",
            " [5 6 7]\n",
            " [6 7 8]\n",
            " [7 8 9]]\n"
          ]
        }
      ],
      "source": [
        "from numpy.lib import stride_tricks\n",
        "def rolling(a, window):\n",
        "  shape = (a.size - window + 1, window)\n",
        "  strides = (a.itemsize, a.itemsize)\n",
        "  return stride_tricks.as_strided(a, shape=shape,strides=strides)\n",
        "z = rolling(np.arange(10),3)\n",
        "print(z)"
      ]
    },
    {
      "cell_type": "markdown",
      "metadata": {
        "id": "NWn4-IxZBo9_"
      },
      "source": [
        "#### 77. How to negate a boolean, or to change the sign of a float inplace? (★★★) \n",
        "(**hint**: np.logical_not, np.negative)"
      ]
    },
    {
      "cell_type": "code",
      "execution_count": 84,
      "metadata": {
        "id": "CsQ0oB1lBo-A",
        "colab": {
          "base_uri": "https://localhost:8080/"
        },
        "outputId": "566c2e97-834c-419d-e067-10d65baff1f1"
      },
      "outputs": [
        {
          "output_type": "execute_result",
          "data": {
            "text/plain": [
              "array([ 0.54329893, -0.67474967, -0.17222885, -0.15826696, -0.75529358,\n",
              "       -0.12184033, -0.67297811,  0.48840122, -0.49343699, -0.8788439 ,\n",
              "       -0.05037564,  0.75800219, -0.98563767,  0.67444689,  0.23103709,\n",
              "       -0.85082837,  0.37539203,  0.49820465,  0.69328532, -0.05761572,\n",
              "       -0.83079028,  0.3000304 ,  0.09733464,  0.53997249,  0.85830285,\n",
              "        0.81826083,  0.89374692,  0.008205  , -0.14643639, -0.80021056,\n",
              "       -0.62505411, -0.10686259,  0.48819276,  0.63210436, -0.66244087,\n",
              "        0.14268145, -0.09704234, -0.23504218, -0.88677543,  0.83232846,\n",
              "        0.14052606,  0.67694154,  0.95466752,  0.62254341, -0.98558467,\n",
              "        0.02655946,  0.54183357, -0.17713183,  0.57770441,  0.94944693,\n",
              "        0.51092858, -0.42912287, -0.59490265, -0.15563046, -0.1136125 ,\n",
              "        0.59710053,  0.56584013, -0.93268838, -0.46589248, -0.20171551,\n",
              "       -0.78550212, -0.4261355 , -0.30970394,  0.44208307,  0.76579457,\n",
              "       -0.09584093, -0.95504079,  0.86778028, -0.55586625,  0.01192611,\n",
              "        0.20834405, -0.50693998,  0.92396564,  0.38794537, -0.78657768,\n",
              "       -0.79507682, -0.9969285 ,  0.80295594,  0.91038865, -0.57360445,\n",
              "       -0.44828667,  0.14592945, -0.47083495,  0.40238326,  0.10492215,\n",
              "        0.66495417,  0.57437617,  0.05171242,  0.6576121 ,  0.72507674,\n",
              "       -0.1168957 ,  0.90417167, -0.52963463,  0.40543077,  0.61450778,\n",
              "       -0.55933313, -0.92676855,  0.90980801, -0.50314399,  0.06984262])"
            ]
          },
          "metadata": {},
          "execution_count": 84
        }
      ],
      "source": [
        "Z = np.random.randint(0,2,100)\n",
        "np.logical_not(Z, out=Z)\n",
        "\n",
        "Z = np.random.uniform(-1.0,1.0,100)\n",
        "np.negative(Z, out=Z)"
      ]
    },
    {
      "cell_type": "markdown",
      "metadata": {
        "id": "IVRJW8coBo-E"
      },
      "source": [
        "#### 78. Consider 2 sets of points P0,P1 describing lines (2d) and a point p, how to compute distance from p to each line i  (P0\\[i\\],P1\\[i\\])? (★★★)"
      ]
    },
    {
      "cell_type": "code",
      "execution_count": 85,
      "metadata": {
        "id": "6hrPKeN6Bo-F",
        "colab": {
          "base_uri": "https://localhost:8080/"
        },
        "outputId": "22e8c698-ce40-4c7d-8441-c3caa7c285fe"
      },
      "outputs": [
        {
          "output_type": "stream",
          "name": "stdout",
          "text": [
            "[2.96678826 2.07314858 9.85086002 2.58967566 1.20323989 1.45265329\n",
            " 3.56509643 7.13647461 7.02002304 1.54770439]\n"
          ]
        }
      ],
      "source": [
        "def distance(P0, P1, p):\n",
        "    T = P1 - P0\n",
        "    L = (T**2).sum(axis=1)\n",
        "    U = -((P0[:,0]-p[...,0])*T[:,0] + (P0[:,1]-p[...,1])*T[:,1]) / L\n",
        "    U = U.reshape(len(U),1)\n",
        "    D = P0 + U*T - p\n",
        "    return np.sqrt((D**2).sum(axis=1))\n",
        "\n",
        "P0 = np.random.uniform(-10,10,(10,2))\n",
        "P1 = np.random.uniform(-10,10,(10,2))\n",
        "p  = np.random.uniform(-10,10,( 1,2))\n",
        "print(distance(P0, P1, p))"
      ]
    },
    {
      "cell_type": "markdown",
      "metadata": {
        "id": "TDrK_GgSBo-G"
      },
      "source": [
        "#### 79. Consider 2 sets of points P0,P1 describing lines (2d) and a set of points P, how to compute distance from each point j (P\\[j\\]) to each line i (P0\\[i\\],P1\\[i\\])? (★★★)"
      ]
    },
    {
      "cell_type": "code",
      "execution_count": 86,
      "metadata": {
        "id": "HvSkRcmVBo-H",
        "colab": {
          "base_uri": "https://localhost:8080/"
        },
        "outputId": "258b8f17-c001-413c-c67b-25894fb468f4"
      },
      "outputs": [
        {
          "output_type": "stream",
          "name": "stdout",
          "text": [
            "[[ 9.77674882 11.30405797 12.85256341  2.80801766  3.9046585   1.6216006\n",
            "  11.50216524  5.18061817  8.66143531  1.33227838]\n",
            " [ 0.46822235  5.60877179  4.52334237  4.01115145  3.84734425  5.56205732\n",
            "   5.88315009  0.10327282  3.48685774  1.62794986]\n",
            " [15.64744846  5.44882339  5.68429095 10.20463287  9.94993263 17.64764101\n",
            "   3.69020297 11.35571372  9.4329456  14.20691478]\n",
            " [ 0.62218887  4.36249579  6.39711392 11.17923578 11.99645332  5.36159886\n",
            "   9.7477932  11.76565731 11.82231623  8.63127782]\n",
            " [ 0.20478973  3.26793106  5.30104498 11.58871862 12.33437762  5.46863826\n",
            "   8.84918087 11.80200131 11.37906702  8.79811352]\n",
            " [14.72569879 14.27054675 15.47988895  2.30050261  1.1306892   6.2774864\n",
            "  11.20601827  0.6815819   5.72717901  3.44174954]\n",
            " [12.78245703 13.10888036 14.45170328  0.29227008  0.8491234   4.44579214\n",
            "  11.32728537  2.45192184  6.88424285  1.56387641]\n",
            " [ 1.61616514  1.20950108  3.22155294 12.14637196 12.75104336  5.4380209\n",
            "   7.01415405 11.63658881 10.32581157  8.88228158]\n",
            " [13.1484941   8.91021936  9.79874238  3.94689262  3.23780231  9.7402035\n",
            "   4.31080033  3.15907984  0.22016718  6.57152433]\n",
            " [ 2.28183046  5.5245594   4.08233649  8.1349373   8.10212887  1.033585\n",
            "   2.97550761  4.67329377  0.84470076  2.85028475]]\n"
          ]
        }
      ],
      "source": [
        "P0 = np.random.uniform(-10, 10, (10,2))\n",
        "P1 = np.random.uniform(-10,10,(10,2))\n",
        "p = np.random.uniform(-10, 10, (10,2))\n",
        "print(np.array([distance(P0,P1,p_i) for p_i in p]))"
      ]
    },
    {
      "cell_type": "markdown",
      "metadata": {
        "id": "j1v5PhYlBo-I"
      },
      "source": [
        "#### 80. Consider an arbitrary array, write a function that extract a subpart with a fixed shape and centered on a given element (pad with a `fill` value when necessary) (★★★) \n",
        "(**hint**: minimum, maximum)"
      ]
    },
    {
      "cell_type": "code",
      "execution_count": 87,
      "metadata": {
        "id": "WmGkQ4f7Bo-I",
        "colab": {
          "base_uri": "https://localhost:8080/"
        },
        "outputId": "59b90502-720a-4930-e449-ff9062b6cbf2"
      },
      "outputs": [
        {
          "output_type": "stream",
          "name": "stdout",
          "text": [
            "[[8 6 4 0 3 3 6 3 9 1]\n",
            " [2 2 4 3 7 0 4 1 6 6]\n",
            " [3 8 3 0 2 1 4 0 4 0]\n",
            " [8 6 1 0 5 3 7 7 9 2]\n",
            " [2 1 8 5 2 2 1 1 7 3]\n",
            " [2 4 9 2 7 2 5 0 6 0]\n",
            " [8 5 9 3 4 0 7 9 0 3]\n",
            " [7 2 3 8 2 7 3 6 2 6]\n",
            " [7 9 0 7 1 5 1 1 3 0]\n",
            " [7 1 1 4 9 7 7 0 9 0]]\n",
            "[[0 0 0 0 0]\n",
            " [0 8 6 4 0]\n",
            " [0 2 2 4 3]\n",
            " [0 3 8 3 0]\n",
            " [0 8 6 1 0]]\n"
          ]
        },
        {
          "output_type": "stream",
          "name": "stderr",
          "text": [
            "<ipython-input-87-f2b5781f38bf>:23: FutureWarning: Using a non-tuple sequence for multidimensional indexing is deprecated; use `arr[tuple(seq)]` instead of `arr[seq]`. In the future this will be interpreted as an array index, `arr[np.array(seq)]`, which will result either in an error or a different result.\n",
            "  R[r] = Z[z]\n"
          ]
        }
      ],
      "source": [
        "Z = np.random.randint(0,10,(10,10))\n",
        "shape = (5,5)\n",
        "fill  = 0\n",
        "position = (1,1)\n",
        "\n",
        "R = np.ones(shape, dtype=Z.dtype)*fill\n",
        "P  = np.array(list(position)).astype(int)\n",
        "Rs = np.array(list(R.shape)).astype(int)\n",
        "Zs = np.array(list(Z.shape)).astype(int)\n",
        "\n",
        "R_start = np.zeros((len(shape),)).astype(int)\n",
        "R_stop  = np.array(list(shape)).astype(int)\n",
        "Z_start = (P-Rs//2)\n",
        "Z_stop  = (P+Rs//2)+Rs%2\n",
        "\n",
        "R_start = (R_start - np.minimum(Z_start,0)).tolist()\n",
        "Z_start = (np.maximum(Z_start,0)).tolist()\n",
        "R_stop = np.maximum(R_start, (R_stop - np.maximum(Z_stop-Zs,0))).tolist()\n",
        "Z_stop = (np.minimum(Z_stop,Zs)).tolist()\n",
        "\n",
        "r = [slice(start,stop) for start,stop in zip(R_start,R_stop)]\n",
        "z = [slice(start,stop) for start,stop in zip(Z_start,Z_stop)]\n",
        "R[r] = Z[z]\n",
        "print(Z)\n",
        "print(R)"
      ]
    },
    {
      "cell_type": "markdown",
      "metadata": {
        "id": "8KYL996rBo-J"
      },
      "source": [
        "#### 81. Consider an array Z = \\[1,2,3,4,5,6,7,8,9,10,11,12,13,14\\], how to generate an array R = \\[\\[1,2,3,4\\], \\[2,3,4,5\\], \\[3,4,5,6\\], ..., \\[11,12,13,14\\]\\]? (★★★) \n",
        "(**hint**: stride\\_tricks.as\\_strided)"
      ]
    },
    {
      "cell_type": "code",
      "execution_count": 88,
      "metadata": {
        "id": "wnejTtHEBo-K",
        "colab": {
          "base_uri": "https://localhost:8080/"
        },
        "outputId": "1217ab11-8a9f-49d5-e9cd-7610062ac9cd"
      },
      "outputs": [
        {
          "output_type": "stream",
          "name": "stdout",
          "text": [
            "[[ 1  2  3  4]\n",
            " [ 2  3  4  5]\n",
            " [ 3  4  5  6]\n",
            " [ 4  5  6  7]\n",
            " [ 5  6  7  8]\n",
            " [ 6  7  8  9]\n",
            " [ 7  8  9 10]\n",
            " [ 8  9 10 11]\n",
            " [ 9 10 11 12]\n",
            " [10 11 12 13]\n",
            " [11 12 13 14]]\n"
          ]
        }
      ],
      "source": [
        "Z = np.arange(1,15,dtype=np.uint32)\n",
        "R = stride_tricks.as_strided(Z,(11,4),(4,4))\n",
        "print(R)"
      ]
    },
    {
      "cell_type": "markdown",
      "metadata": {
        "id": "bx1AU-OFBo-L"
      },
      "source": [
        "#### 82. Compute a matrix rank (★★★) \n",
        "(**hint**: np.linalg.svd) (suggestion: np.linalg.svd)"
      ]
    },
    {
      "cell_type": "code",
      "execution_count": 89,
      "metadata": {
        "id": "VSuPyDgYBo-M",
        "colab": {
          "base_uri": "https://localhost:8080/"
        },
        "outputId": "6e2b1c85-7294-44f0-a662-0086c72489ec"
      },
      "outputs": [
        {
          "output_type": "stream",
          "name": "stdout",
          "text": [
            "10\n"
          ]
        }
      ],
      "source": [
        "Z = np.random.uniform(0,1,(10,10))\n",
        "U, S, V = np.linalg.svd(Z) # Singular Value Decomposition\n",
        "rank = np.sum(S > 1e-10)\n",
        "print(rank)"
      ]
    },
    {
      "cell_type": "markdown",
      "metadata": {
        "id": "Fpj0RvolBo-M"
      },
      "source": [
        "#### 83. How to find the most frequent value in an array? \n",
        "(**hint**: np.bincount, argmax)"
      ]
    },
    {
      "cell_type": "code",
      "execution_count": 90,
      "metadata": {
        "id": "HfaImYX4Bo-N",
        "colab": {
          "base_uri": "https://localhost:8080/"
        },
        "outputId": "7c804aaf-d72c-4496-c6db-da612bfb781b"
      },
      "outputs": [
        {
          "output_type": "stream",
          "name": "stdout",
          "text": [
            "4\n"
          ]
        }
      ],
      "source": [
        "Z = np.random.randint(0,10,50)\n",
        "print(np.bincount(Z).argmax())"
      ]
    },
    {
      "cell_type": "markdown",
      "metadata": {
        "id": "_0wAVTsKBo-O"
      },
      "source": [
        "#### 84. Extract all the contiguous 3x3 blocks from a random 10x10 matrix (★★★) \n",
        "(**hint**: stride\\_tricks.as\\_strided)"
      ]
    },
    {
      "cell_type": "code",
      "execution_count": 91,
      "metadata": {
        "id": "VuOOLpXTBo-P",
        "colab": {
          "base_uri": "https://localhost:8080/"
        },
        "outputId": "058d4742-bee7-4645-90db-41b260777b12"
      },
      "outputs": [
        {
          "output_type": "stream",
          "name": "stdout",
          "text": [
            "[[[[2 1 2]\n",
            "   [0 0 4]\n",
            "   [3 3 3]]\n",
            "\n",
            "  [[1 2 1]\n",
            "   [0 4 4]\n",
            "   [3 3 4]]\n",
            "\n",
            "  [[2 1 3]\n",
            "   [4 4 2]\n",
            "   [3 4 2]]\n",
            "\n",
            "  [[1 3 4]\n",
            "   [4 2 0]\n",
            "   [4 2 3]]\n",
            "\n",
            "  [[3 4 2]\n",
            "   [2 0 4]\n",
            "   [2 3 2]]\n",
            "\n",
            "  [[4 2 0]\n",
            "   [0 4 4]\n",
            "   [3 2 1]]\n",
            "\n",
            "  [[2 0 0]\n",
            "   [4 4 1]\n",
            "   [2 1 3]]\n",
            "\n",
            "  [[0 0 2]\n",
            "   [4 1 4]\n",
            "   [1 3 0]]]\n",
            "\n",
            "\n",
            " [[[0 0 4]\n",
            "   [3 3 3]\n",
            "   [4 2 1]]\n",
            "\n",
            "  [[0 4 4]\n",
            "   [3 3 4]\n",
            "   [2 1 1]]\n",
            "\n",
            "  [[4 4 2]\n",
            "   [3 4 2]\n",
            "   [1 1 1]]\n",
            "\n",
            "  [[4 2 0]\n",
            "   [4 2 3]\n",
            "   [1 1 1]]\n",
            "\n",
            "  [[2 0 4]\n",
            "   [2 3 2]\n",
            "   [1 1 2]]\n",
            "\n",
            "  [[0 4 4]\n",
            "   [3 2 1]\n",
            "   [1 2 1]]\n",
            "\n",
            "  [[4 4 1]\n",
            "   [2 1 3]\n",
            "   [2 1 3]]\n",
            "\n",
            "  [[4 1 4]\n",
            "   [1 3 0]\n",
            "   [1 3 4]]]\n",
            "\n",
            "\n",
            " [[[3 3 3]\n",
            "   [4 2 1]\n",
            "   [1 3 3]]\n",
            "\n",
            "  [[3 3 4]\n",
            "   [2 1 1]\n",
            "   [3 3 1]]\n",
            "\n",
            "  [[3 4 2]\n",
            "   [1 1 1]\n",
            "   [3 1 0]]\n",
            "\n",
            "  [[4 2 3]\n",
            "   [1 1 1]\n",
            "   [1 0 1]]\n",
            "\n",
            "  [[2 3 2]\n",
            "   [1 1 2]\n",
            "   [0 1 4]]\n",
            "\n",
            "  [[3 2 1]\n",
            "   [1 2 1]\n",
            "   [1 4 2]]\n",
            "\n",
            "  [[2 1 3]\n",
            "   [2 1 3]\n",
            "   [4 2 4]]\n",
            "\n",
            "  [[1 3 0]\n",
            "   [1 3 4]\n",
            "   [2 4 2]]]\n",
            "\n",
            "\n",
            " [[[4 2 1]\n",
            "   [1 3 3]\n",
            "   [2 0 2]]\n",
            "\n",
            "  [[2 1 1]\n",
            "   [3 3 1]\n",
            "   [0 2 0]]\n",
            "\n",
            "  [[1 1 1]\n",
            "   [3 1 0]\n",
            "   [2 0 2]]\n",
            "\n",
            "  [[1 1 1]\n",
            "   [1 0 1]\n",
            "   [0 2 3]]\n",
            "\n",
            "  [[1 1 2]\n",
            "   [0 1 4]\n",
            "   [2 3 1]]\n",
            "\n",
            "  [[1 2 1]\n",
            "   [1 4 2]\n",
            "   [3 1 1]]\n",
            "\n",
            "  [[2 1 3]\n",
            "   [4 2 4]\n",
            "   [1 1 1]]\n",
            "\n",
            "  [[1 3 4]\n",
            "   [2 4 2]\n",
            "   [1 1 2]]]\n",
            "\n",
            "\n",
            " [[[1 3 3]\n",
            "   [2 0 2]\n",
            "   [0 4 0]]\n",
            "\n",
            "  [[3 3 1]\n",
            "   [0 2 0]\n",
            "   [4 0 4]]\n",
            "\n",
            "  [[3 1 0]\n",
            "   [2 0 2]\n",
            "   [0 4 3]]\n",
            "\n",
            "  [[1 0 1]\n",
            "   [0 2 3]\n",
            "   [4 3 1]]\n",
            "\n",
            "  [[0 1 4]\n",
            "   [2 3 1]\n",
            "   [3 1 3]]\n",
            "\n",
            "  [[1 4 2]\n",
            "   [3 1 1]\n",
            "   [1 3 2]]\n",
            "\n",
            "  [[4 2 4]\n",
            "   [1 1 1]\n",
            "   [3 2 4]]\n",
            "\n",
            "  [[2 4 2]\n",
            "   [1 1 2]\n",
            "   [2 4 0]]]\n",
            "\n",
            "\n",
            " [[[2 0 2]\n",
            "   [0 4 0]\n",
            "   [4 1 2]]\n",
            "\n",
            "  [[0 2 0]\n",
            "   [4 0 4]\n",
            "   [1 2 1]]\n",
            "\n",
            "  [[2 0 2]\n",
            "   [0 4 3]\n",
            "   [2 1 2]]\n",
            "\n",
            "  [[0 2 3]\n",
            "   [4 3 1]\n",
            "   [1 2 1]]\n",
            "\n",
            "  [[2 3 1]\n",
            "   [3 1 3]\n",
            "   [2 1 3]]\n",
            "\n",
            "  [[3 1 1]\n",
            "   [1 3 2]\n",
            "   [1 3 3]]\n",
            "\n",
            "  [[1 1 1]\n",
            "   [3 2 4]\n",
            "   [3 3 1]]\n",
            "\n",
            "  [[1 1 2]\n",
            "   [2 4 0]\n",
            "   [3 1 2]]]\n",
            "\n",
            "\n",
            " [[[0 4 0]\n",
            "   [4 1 2]\n",
            "   [4 1 3]]\n",
            "\n",
            "  [[4 0 4]\n",
            "   [1 2 1]\n",
            "   [1 3 2]]\n",
            "\n",
            "  [[0 4 3]\n",
            "   [2 1 2]\n",
            "   [3 2 2]]\n",
            "\n",
            "  [[4 3 1]\n",
            "   [1 2 1]\n",
            "   [2 2 0]]\n",
            "\n",
            "  [[3 1 3]\n",
            "   [2 1 3]\n",
            "   [2 0 2]]\n",
            "\n",
            "  [[1 3 2]\n",
            "   [1 3 3]\n",
            "   [0 2 0]]\n",
            "\n",
            "  [[3 2 4]\n",
            "   [3 3 1]\n",
            "   [2 0 0]]\n",
            "\n",
            "  [[2 4 0]\n",
            "   [3 1 2]\n",
            "   [0 0 1]]]\n",
            "\n",
            "\n",
            " [[[4 1 2]\n",
            "   [4 1 3]\n",
            "   [0 1 3]]\n",
            "\n",
            "  [[1 2 1]\n",
            "   [1 3 2]\n",
            "   [1 3 1]]\n",
            "\n",
            "  [[2 1 2]\n",
            "   [3 2 2]\n",
            "   [3 1 3]]\n",
            "\n",
            "  [[1 2 1]\n",
            "   [2 2 0]\n",
            "   [1 3 2]]\n",
            "\n",
            "  [[2 1 3]\n",
            "   [2 0 2]\n",
            "   [3 2 0]]\n",
            "\n",
            "  [[1 3 3]\n",
            "   [0 2 0]\n",
            "   [2 0 4]]\n",
            "\n",
            "  [[3 3 1]\n",
            "   [2 0 0]\n",
            "   [0 4 2]]\n",
            "\n",
            "  [[3 1 2]\n",
            "   [0 0 1]\n",
            "   [4 2 4]]]]\n"
          ]
        }
      ],
      "source": [
        "Z = np.random.randint(0,5,(10,10))\n",
        "n = 3\n",
        "i = 1 + (Z.shape[0]-3)\n",
        "j = 1 + (Z.shape[1]-3)\n",
        "C = stride_tricks.as_strided(Z, shape=(i, j, n, n), strides=Z.strides + Z.strides)\n",
        "print(C)"
      ]
    },
    {
      "cell_type": "markdown",
      "metadata": {
        "id": "qk9N6WnCBo-S"
      },
      "source": [
        "#### 85. Create a 2D array subclass such that Z\\[i,j\\] == Z\\[j,i\\] (★★★) \n",
        "(**hint**: class method)"
      ]
    },
    {
      "cell_type": "code",
      "execution_count": 92,
      "metadata": {
        "id": "eiuVdfEjBo-S",
        "colab": {
          "base_uri": "https://localhost:8080/"
        },
        "outputId": "bf27ac2f-c999-421d-adc6-f4819f0a651f"
      },
      "outputs": [
        {
          "output_type": "stream",
          "name": "stdout",
          "text": [
            "[[ 5 10 10  9  9]\n",
            " [10  7  4 11  3]\n",
            " [10  4  4 42  4]\n",
            " [ 9 11 42  3 11]\n",
            " [ 9  3  4 11  8]]\n"
          ]
        }
      ],
      "source": [
        "class Symetric(np.ndarray):\n",
        "    def __setitem__(self, index, value):\n",
        "        i,j = index\n",
        "        super(Symetric, self).__setitem__((i,j), value)\n",
        "        super(Symetric, self).__setitem__((j,i), value)\n",
        "\n",
        "def symetric(Z):\n",
        "    return np.asarray(Z + Z.T - np.diag(Z.diagonal())).view(Symetric)\n",
        "\n",
        "S = symetric(np.random.randint(0,10,(5,5)))\n",
        "S[2,3] = 42\n",
        "print(S)"
      ]
    },
    {
      "cell_type": "markdown",
      "metadata": {
        "id": "CqdPQ8FZBo-T"
      },
      "source": [
        "#### 86. Consider a set of p matrices wich shape (n,n) and a set of p vectors with shape (n,1). How to compute the sum of of the p matrix products at once? (result has shape (n,1)) (★★★) \n",
        "(**hint**: np.tensordot)"
      ]
    },
    {
      "cell_type": "code",
      "execution_count": 93,
      "metadata": {
        "id": "xMGpdsR0Bo-U",
        "colab": {
          "base_uri": "https://localhost:8080/"
        },
        "outputId": "8f126b5a-734d-469b-8adc-4b49a8a20625"
      },
      "outputs": [
        {
          "output_type": "stream",
          "name": "stdout",
          "text": [
            "[[200.]\n",
            " [200.]\n",
            " [200.]\n",
            " [200.]\n",
            " [200.]\n",
            " [200.]\n",
            " [200.]\n",
            " [200.]\n",
            " [200.]\n",
            " [200.]\n",
            " [200.]\n",
            " [200.]\n",
            " [200.]\n",
            " [200.]\n",
            " [200.]\n",
            " [200.]\n",
            " [200.]\n",
            " [200.]\n",
            " [200.]\n",
            " [200.]]\n"
          ]
        }
      ],
      "source": [
        "p, n = 10, 20\n",
        "M = np.ones((p,n,n))\n",
        "V = np.ones((p,n,1))\n",
        "S = np.tensordot(M, V, axes=[[0, 2], [0, 1]])\n",
        "print(S)"
      ]
    },
    {
      "cell_type": "markdown",
      "metadata": {
        "id": "V1GfAK0SBo-V"
      },
      "source": [
        "#### 87. Consider a 16x16 array, how to get the block-sum (block size is 4x4)? (★★★) \n",
        "(**hint**: np.add.reduceat)"
      ]
    },
    {
      "cell_type": "code",
      "execution_count": 94,
      "metadata": {
        "id": "BHxNuxmkBo-W",
        "colab": {
          "base_uri": "https://localhost:8080/"
        },
        "outputId": "c722e2b8-35f4-4d5a-865b-0de0559fbb33"
      },
      "outputs": [
        {
          "output_type": "stream",
          "name": "stdout",
          "text": [
            "[[16. 16. 16. 16.]\n",
            " [16. 16. 16. 16.]\n",
            " [16. 16. 16. 16.]\n",
            " [16. 16. 16. 16.]]\n"
          ]
        }
      ],
      "source": [
        "Z = np.ones((16,16))\n",
        "k = 4\n",
        "S = np.add.reduceat(np.add.reduceat(Z, np.arange(0, Z.shape[0], k), axis=0),\n",
        "                                       np.arange(0, Z.shape[1], k), axis=1)\n",
        "print(S)"
      ]
    },
    {
      "cell_type": "markdown",
      "metadata": {
        "id": "TAWoxW0vBo-X"
      },
      "source": [
        "#### 88. How to implement the Game of Life using numpy arrays? (★★★)"
      ]
    },
    {
      "cell_type": "code",
      "execution_count": 95,
      "metadata": {
        "id": "UocM7-urBo-Y",
        "colab": {
          "base_uri": "https://localhost:8080/"
        },
        "outputId": "df9dfda4-0da4-43e3-87e7-600f3b874d93"
      },
      "outputs": [
        {
          "output_type": "stream",
          "name": "stdout",
          "text": [
            "[[0 0 0 ... 0 0 0]\n",
            " [0 0 0 ... 0 0 0]\n",
            " [0 0 0 ... 0 0 0]\n",
            " ...\n",
            " [0 0 0 ... 0 0 0]\n",
            " [0 0 0 ... 0 0 0]\n",
            " [0 0 0 ... 0 0 0]]\n"
          ]
        }
      ],
      "source": [
        "def iterate(Z):\n",
        "\n",
        "    N = (Z[0:-2,0:-2] + Z[0:-2,1:-1] + Z[0:-2,2:] +\n",
        "         Z[1:-1,0:-2]                + Z[1:-1,2:] +\n",
        "         Z[2:  ,0:-2] + Z[2:  ,1:-1] + Z[2:  ,2:])\n",
        "    birth = (N==3) & (Z[1:-1,1:-1]==0)\n",
        "    survive = ((N==2) | (N==3)) & (Z[1:-1,1:-1]==1)\n",
        "    Z[...] = 0\n",
        "    Z[1:-1,1:-1][birth | survive] = 1\n",
        "    return Z\n",
        "\n",
        "Z = np.random.randint(0,2,(50,50))\n",
        "for i in range(100): Z = iterate(Z)\n",
        "print(Z)"
      ]
    },
    {
      "cell_type": "markdown",
      "metadata": {
        "id": "upTYbIYQBo-Y"
      },
      "source": [
        "#### 89. How to get the n largest values of an array (★★★) \n",
        "(**hint**: np.argsort | np.argpartition)"
      ]
    },
    {
      "cell_type": "code",
      "execution_count": 96,
      "metadata": {
        "id": "5n_uTlbEBo-Z",
        "colab": {
          "base_uri": "https://localhost:8080/"
        },
        "outputId": "ccc3a49d-2611-46ad-a8e2-3e5afc918e23"
      },
      "outputs": [
        {
          "output_type": "stream",
          "name": "stdout",
          "text": [
            "[9995 9996 9997 9998 9999]\n"
          ]
        }
      ],
      "source": [
        "Z = np.arange(10000)\n",
        "np.random.shuffle(Z)\n",
        "n = 5\n",
        "print (Z[np.argsort(Z)[-n:]])"
      ]
    },
    {
      "cell_type": "markdown",
      "metadata": {
        "id": "pcSgCh6MBo-a"
      },
      "source": [
        "#### 90. Given an arbitrary number of vectors, build the cartesian product (every combinations of every item) (★★★) \n",
        "(**hint**: np.indices)"
      ]
    },
    {
      "cell_type": "code",
      "execution_count": 97,
      "metadata": {
        "scrolled": true,
        "id": "PoE0WHv2Bo-b",
        "colab": {
          "base_uri": "https://localhost:8080/"
        },
        "outputId": "c55fb2d6-ff3c-47b6-9276-e5f09e0dc846"
      },
      "outputs": [
        {
          "output_type": "stream",
          "name": "stdout",
          "text": [
            "[[1 4 6]\n",
            " [1 4 7]\n",
            " [1 5 6]\n",
            " [1 5 7]\n",
            " [2 4 6]\n",
            " [2 4 7]\n",
            " [2 5 6]\n",
            " [2 5 7]\n",
            " [3 4 6]\n",
            " [3 4 7]\n",
            " [3 5 6]\n",
            " [3 5 7]]\n"
          ]
        }
      ],
      "source": [
        "def cartesian(arrays):\n",
        "    arrays = [np.asarray(a) for a in arrays]\n",
        "    shape = (len(x) for x in arrays)\n",
        "\n",
        "    ix = np.indices(shape, dtype=int)\n",
        "    ix = ix.reshape(len(arrays), -1).T\n",
        "\n",
        "    for n, arr in enumerate(arrays):\n",
        "        ix[:, n] = arrays[n][ix[:, n]]\n",
        "\n",
        "    return ix\n",
        "\n",
        "print (cartesian(([1, 2, 3], [4, 5], [6, 7])))"
      ]
    },
    {
      "cell_type": "markdown",
      "metadata": {
        "id": "eM-hgdEWBo-c"
      },
      "source": [
        "#### 91. How to create a record array from a regular array? (★★★) \n",
        "(**hint**: np.core.records.fromarrays)"
      ]
    },
    {
      "cell_type": "code",
      "execution_count": 98,
      "metadata": {
        "id": "iHXNf9KSBo-d",
        "colab": {
          "base_uri": "https://localhost:8080/"
        },
        "outputId": "a3f659a8-bd9e-49a4-8183-985b4a5259b1"
      },
      "outputs": [
        {
          "output_type": "stream",
          "name": "stdout",
          "text": [
            "[(b'Hello', 2.5, 3) (b'World', 3.6, 2)]\n"
          ]
        }
      ],
      "source": [
        "Z = np.array([(\"Hello\", 2.5, 3),\n",
        "              (\"World\", 3.6, 2)])\n",
        "R = np.core.records.fromarrays(Z.T, \n",
        "                               names='col1, col2, col3',\n",
        "                               formats = 'S8, f8, i8')\n",
        "print(R)"
      ]
    },
    {
      "cell_type": "markdown",
      "metadata": {
        "id": "y1PHXzVvBo-d"
      },
      "source": [
        "#### 92. Consider a large vector Z, compute Z to the power of 3 using 3 different methods (★★★) \n",
        "(**hint**: np.power, \\*, np.einsum)"
      ]
    },
    {
      "cell_type": "code",
      "execution_count": 101,
      "metadata": {
        "id": "l7Me8QDrBo-e",
        "colab": {
          "base_uri": "https://localhost:8080/",
          "height": 339
        },
        "outputId": "ed7f0b51-8052-4e79-dbb7-4dc2b09c2e63"
      },
      "outputs": [
        {
          "output_type": "error",
          "ename": "TypeError",
          "evalue": "ignored",
          "traceback": [
            "\u001b[0;31m---------------------------------------------------------------------------\u001b[0m",
            "\u001b[0;31mTypeError\u001b[0m                                 Traceback (most recent call last)",
            "\u001b[0;32m<ipython-input-101-a370807230cb>\u001b[0m in \u001b[0;36m<module>\u001b[0;34m\u001b[0m\n\u001b[0;32m----> 1\u001b[0;31m \u001b[0mx\u001b[0m \u001b[0;34m=\u001b[0m \u001b[0mnp\u001b[0m\u001b[0;34m.\u001b[0m\u001b[0mrandom\u001b[0m\u001b[0;34m.\u001b[0m\u001b[0mrand\u001b[0m\u001b[0;34m(\u001b[0m\u001b[0;36m5e7\u001b[0m\u001b[0;34m)\u001b[0m\u001b[0;34m\u001b[0m\u001b[0;34m\u001b[0m\u001b[0m\n\u001b[0m\u001b[1;32m      2\u001b[0m \u001b[0;34m\u001b[0m\u001b[0m\n\u001b[1;32m      3\u001b[0m \u001b[0mget_ipython\u001b[0m\u001b[0;34m(\u001b[0m\u001b[0;34m)\u001b[0m\u001b[0;34m.\u001b[0m\u001b[0mrun_line_magic\u001b[0m\u001b[0;34m(\u001b[0m\u001b[0;34m'timeit'\u001b[0m\u001b[0;34m,\u001b[0m \u001b[0;34m'np.power(x,3)'\u001b[0m\u001b[0;34m)\u001b[0m\u001b[0;34m\u001b[0m\u001b[0;34m\u001b[0m\u001b[0m\n\u001b[1;32m      4\u001b[0m \u001b[0mget_ipython\u001b[0m\u001b[0;34m(\u001b[0m\u001b[0;34m)\u001b[0m\u001b[0;34m.\u001b[0m\u001b[0mrun_line_magic\u001b[0m\u001b[0;34m(\u001b[0m\u001b[0;34m'timeit'\u001b[0m\u001b[0;34m,\u001b[0m \u001b[0;34m'x*x*x'\u001b[0m\u001b[0;34m)\u001b[0m\u001b[0;34m\u001b[0m\u001b[0;34m\u001b[0m\u001b[0m\n\u001b[1;32m      5\u001b[0m \u001b[0mget_ipython\u001b[0m\u001b[0;34m(\u001b[0m\u001b[0;34m)\u001b[0m\u001b[0;34m.\u001b[0m\u001b[0mrun_line_magic\u001b[0m\u001b[0;34m(\u001b[0m\u001b[0;34m'timeit'\u001b[0m\u001b[0;34m,\u001b[0m \u001b[0;34m\"np.einsum('i,i,i->i',x,x,x)\"\u001b[0m\u001b[0;34m)\u001b[0m\u001b[0;34m\u001b[0m\u001b[0;34m\u001b[0m\u001b[0m\n",
            "\u001b[0;32mmtrand.pyx\u001b[0m in \u001b[0;36mnumpy.random.mtrand.RandomState.rand\u001b[0;34m()\u001b[0m\n",
            "\u001b[0;32mmtrand.pyx\u001b[0m in \u001b[0;36mnumpy.random.mtrand.RandomState.random_sample\u001b[0;34m()\u001b[0m\n",
            "\u001b[0;32m_common.pyx\u001b[0m in \u001b[0;36mnumpy.random._common.double_fill\u001b[0;34m()\u001b[0m\n",
            "\u001b[0;31mTypeError\u001b[0m: 'float' object cannot be interpreted as an integer"
          ]
        }
      ],
      "source": [
        "x = np.random.rand(5e7)\n",
        "\n",
        "%timeit np.power(x,3)\n",
        "%timeit x*x*x\n",
        "%timeit np.einsum('i,i,i->i',x,x,x)"
      ]
    },
    {
      "cell_type": "markdown",
      "metadata": {
        "id": "bF-p3X8pBo-f"
      },
      "source": [
        "#### 93. Consider two arrays A and B of shape (8,3) and (2,2). How to find rows of A that contain elements of each row of B regardless of the order of the elements in B? (★★★) \n",
        "(**hint**: np.where)"
      ]
    },
    {
      "cell_type": "code",
      "execution_count": 103,
      "metadata": {
        "id": "U4FRQLJUBo-g",
        "colab": {
          "base_uri": "https://localhost:8080/"
        },
        "outputId": "fc48620d-9a32-4bb9-a244-763692b7a83c"
      },
      "outputs": [
        {
          "output_type": "stream",
          "name": "stdout",
          "text": [
            "[1 3 5 6 7]\n"
          ]
        }
      ],
      "source": [
        "A = np.random.randint(0,5,(8,3))\n",
        "B = np.random.randint(0,5,(2,2))\n",
        "\n",
        "C = (A[..., np.newaxis, np.newaxis] == B)\n",
        "rows = np.where(C.any((3,1)).all(1))[0]\n",
        "print(rows)"
      ]
    },
    {
      "cell_type": "markdown",
      "metadata": {
        "id": "7HQ5KD4mBo-h"
      },
      "source": [
        "#### 94. Considering a 10x3 matrix, extract rows with unequal values (e.g. \\[2,2,3\\]) (★★★)"
      ]
    },
    {
      "cell_type": "code",
      "execution_count": 104,
      "metadata": {
        "id": "-zdAJPC2Bo-h",
        "colab": {
          "base_uri": "https://localhost:8080/"
        },
        "outputId": "1b51e220-9617-4a79-a380-25f6b1312304"
      },
      "outputs": [
        {
          "output_type": "stream",
          "name": "stdout",
          "text": [
            "[[0 3 3]\n",
            " [0 1 0]\n",
            " [1 0 4]\n",
            " [0 0 4]\n",
            " [1 4 0]\n",
            " [1 2 1]\n",
            " [1 1 2]\n",
            " [2 3 4]\n",
            " [3 4 4]\n",
            " [2 3 0]]\n",
            "[[0 3 3]\n",
            " [0 1 0]\n",
            " [1 0 4]\n",
            " [0 0 4]\n",
            " [1 4 0]\n",
            " [1 2 1]\n",
            " [1 1 2]\n",
            " [2 3 4]\n",
            " [3 4 4]\n",
            " [2 3 0]]\n",
            "[[0 3 3]\n",
            " [0 1 0]\n",
            " [1 0 4]\n",
            " [0 0 4]\n",
            " [1 4 0]\n",
            " [1 2 1]\n",
            " [1 1 2]\n",
            " [2 3 4]\n",
            " [3 4 4]\n",
            " [2 3 0]]\n"
          ]
        }
      ],
      "source": [
        "Z = np.random.randint(0,5,(10,3))\n",
        "print(Z)\n",
        "\n",
        "E = np.all(Z[:,1:] == Z[:,:-1], axis=1)\n",
        "U = Z[~E]\n",
        "print(U)\n",
        "U = Z[Z.max(axis=1) != Z.min(axis=1),:]\n",
        "print(U)"
      ]
    },
    {
      "cell_type": "markdown",
      "metadata": {
        "id": "GUYPkg1_Bo-j"
      },
      "source": [
        "#### 95. Convert a vector of ints into a matrix binary representation (★★★) \n",
        "(**hint**: np.unpackbits)"
      ]
    },
    {
      "cell_type": "code",
      "execution_count": 105,
      "metadata": {
        "id": "roQwVTgeBo-l",
        "colab": {
          "base_uri": "https://localhost:8080/"
        },
        "outputId": "a5a66584-cf68-4319-d991-1169eff3ba9d"
      },
      "outputs": [
        {
          "output_type": "stream",
          "name": "stdout",
          "text": [
            "[[0 0 0 0 0 0 0 0]\n",
            " [0 0 0 0 0 0 0 1]\n",
            " [0 0 0 0 0 0 1 0]\n",
            " [0 0 0 0 0 0 1 1]\n",
            " [0 0 0 0 1 1 1 1]\n",
            " [0 0 0 1 0 0 0 0]\n",
            " [0 0 1 0 0 0 0 0]\n",
            " [0 1 0 0 0 0 0 0]\n",
            " [1 0 0 0 0 0 0 0]]\n"
          ]
        }
      ],
      "source": [
        "I = np.array([0, 1, 2, 3, 15, 16, 32, 64, 128], dtype=np.uint8)\n",
        "print(np.unpackbits(I[:, np.newaxis], axis=1))"
      ]
    },
    {
      "cell_type": "markdown",
      "metadata": {
        "id": "v5wu8xWrBo-m"
      },
      "source": [
        "#### 96. Given a two dimensional array, how to extract unique rows? (★★★) \n",
        "(**hint**: np.ascontiguousarray)"
      ]
    },
    {
      "cell_type": "code",
      "execution_count": 106,
      "metadata": {
        "id": "5w5CCKRiBo-n",
        "colab": {
          "base_uri": "https://localhost:8080/"
        },
        "outputId": "c47a237e-7125-43ed-87fd-1cea6184abaa"
      },
      "outputs": [
        {
          "output_type": "stream",
          "name": "stdout",
          "text": [
            "[[0 0 4]\n",
            " [0 1 0]\n",
            " [0 3 3]\n",
            " [1 0 4]\n",
            " [1 1 2]\n",
            " [1 2 1]\n",
            " [1 4 0]\n",
            " [2 3 0]\n",
            " [2 3 4]\n",
            " [3 4 4]]\n"
          ]
        }
      ],
      "source": [
        "uZ = np.unique(Z, axis=0)\n",
        "print(uZ)"
      ]
    },
    {
      "cell_type": "markdown",
      "metadata": {
        "id": "RoP_k2vXBo-n"
      },
      "source": [
        "#### 97. Considering 2 vectors A & B, write the einsum equivalent of inner, outer, sum, and mul function (★★★) \n",
        "(**hint**: np.einsum)"
      ]
    },
    {
      "cell_type": "code",
      "execution_count": 107,
      "metadata": {
        "id": "yRZwVhN9Bo-o",
        "colab": {
          "base_uri": "https://localhost:8080/"
        },
        "outputId": "4e2df1b9-139f-4987-8b4f-9d9c0ca76eb0"
      },
      "outputs": [
        {
          "output_type": "execute_result",
          "data": {
            "text/plain": [
              "array([[0.23410323, 0.11701333, 0.04324591, 0.22295964, 0.12677395,\n",
              "        0.25628836, 0.30122659, 0.10846137, 0.29091991, 0.07253233],\n",
              "       [0.65734882, 0.32856691, 0.1214321 , 0.62605823, 0.35597417,\n",
              "        0.71964341, 0.84582745, 0.30455346, 0.81688687, 0.20366674],\n",
              "       [0.6143382 , 0.30706863, 0.11348674, 0.58509496, 0.33268262,\n",
              "        0.67255683, 0.79048459, 0.2846264 , 0.7634376 , 0.19034073],\n",
              "       [0.27682369, 0.13836658, 0.05113766, 0.26364655, 0.14990836,\n",
              "        0.30305728, 0.35619609, 0.128254  , 0.34400859, 0.08576843],\n",
              "       [0.34949386, 0.17468977, 0.06456203, 0.33285753, 0.18926144,\n",
              "        0.38261414, 0.44970264, 0.1619225 , 0.43431575, 0.10828387],\n",
              "       [0.62938687, 0.31459051, 0.11626669, 0.5994273 , 0.34083193,\n",
              "        0.68903161, 0.8098481 , 0.29159853, 0.78213858, 0.19500327],\n",
              "       [0.23153183, 0.11572805, 0.04277089, 0.22051063, 0.12538145,\n",
              "        0.25347327, 0.29791789, 0.10727002, 0.28772442, 0.07173563],\n",
              "       [0.06149045, 0.03073517, 0.01135914, 0.05856343, 0.03329893,\n",
              "        0.06731768, 0.07912133, 0.02848888, 0.07641414, 0.01905162],\n",
              "       [0.18195394, 0.09094722, 0.03361237, 0.17329272, 0.09853354,\n",
              "        0.19919707, 0.23412477, 0.0843003 , 0.22611403, 0.05637489],\n",
              "       [0.39865604, 0.19926283, 0.07364376, 0.37967954, 0.21588425,\n",
              "        0.43643525, 0.51296087, 0.18469962, 0.49540956, 0.12351582]])"
            ]
          },
          "metadata": {},
          "execution_count": 107
        }
      ],
      "source": [
        "A = np.random.uniform(0,1,10)\n",
        "B = np.random.uniform(0,1,10)\n",
        "\n",
        "np.einsum('i->', A)       \n",
        "np.einsum('i,i->i', A, B) \n",
        "np.einsum('i,i', A, B)    \n",
        "np.einsum('i,j->ij', A, B) "
      ]
    },
    {
      "cell_type": "markdown",
      "metadata": {
        "id": "UkSdRnqABo-p"
      },
      "source": [
        "#### 98. Considering a path described by two vectors (X,Y), how to sample it using equidistant samples (★★★)? \n",
        "(**hint**: np.cumsum, np.interp)"
      ]
    },
    {
      "cell_type": "code",
      "execution_count": 108,
      "metadata": {
        "collapsed": true,
        "id": "JN08iQ1QBo-q"
      },
      "outputs": [],
      "source": [
        "phi = np.arange(0, 10*np.pi, 0.1)\n",
        "a = 1\n",
        "x = a*phi*np.cos(phi)\n",
        "y = a*phi*np.sin(phi)\n",
        "\n",
        "dr = (np.diff(x)**2 + np.diff(y)**2)**.5 # segment lengths\n",
        "r = np.zeros_like(x)\n",
        "r[1:] = np.cumsum(dr)                # integrate path\n",
        "r_int = np.linspace(0, r.max(), 200) # regular spaced path\n",
        "x_int = np.interp(r_int, r, x)       # integrate path\n",
        "y_int = np.interp(r_int, r, y)"
      ]
    },
    {
      "cell_type": "markdown",
      "metadata": {
        "id": "mEWLhHpUBo-q"
      },
      "source": [
        "#### 99. Given an integer n and a 2D array X, select from X the rows which can be interpreted as draws from a multinomial distribution with n degrees, i.e., the rows which only contain integers and which sum to n. (★★★) \n",
        "(**hint**: np.logical\\_and.reduce, np.mod)"
      ]
    },
    {
      "cell_type": "code",
      "execution_count": 109,
      "metadata": {
        "id": "KaYrYxXtBo-r",
        "colab": {
          "base_uri": "https://localhost:8080/"
        },
        "outputId": "e77eeba7-2fd8-416a-de6f-63fd487b82db"
      },
      "outputs": [
        {
          "output_type": "stream",
          "name": "stdout",
          "text": [
            "[[2. 0. 1. 1.]]\n"
          ]
        }
      ],
      "source": [
        "X = np.asarray([[1.0, 0.0, 3.0, 8.0],\n",
        "                [2.0, 0.0, 1.0, 1.0],\n",
        "                [1.5, 2.5, 1.0, 0.0]])\n",
        "n = 4\n",
        "M = np.logical_and.reduce(np.mod(X, 1) == 0, axis=-1)\n",
        "M &= (X.sum(axis=-1) == n)\n",
        "print(X[M])"
      ]
    },
    {
      "cell_type": "markdown",
      "metadata": {
        "id": "9ysyMlQSBo-s"
      },
      "source": [
        "#### 100. Compute bootstrapped 95% confidence intervals for the mean of a 1D array X (i.e., resample the elements of an array with replacement N times, compute the mean of each sample, and then compute percentiles over the means). (★★★) \n",
        "(**hint**: np.percentile)"
      ]
    },
    {
      "cell_type": "code",
      "execution_count": 110,
      "metadata": {
        "id": "lWOogv4eBo-s",
        "colab": {
          "base_uri": "https://localhost:8080/"
        },
        "outputId": "ca1d03a9-61ab-4f84-98ec-ecc90fbb53bf"
      },
      "outputs": [
        {
          "output_type": "stream",
          "name": "stdout",
          "text": [
            "[-0.11851929  0.23362296]\n"
          ]
        }
      ],
      "source": [
        "X = np.random.randn(100) # random 1D array\n",
        "N = 1000 # number of bootstrap samples\n",
        "idx = np.random.randint(0, X.size, (N, X.size))\n",
        "means = X[idx].mean(axis=1)\n",
        "confint = np.percentile(means, [2.5, 97.5])\n",
        "print(confint)"
      ]
    }
  ],
  "metadata": {
    "kernelspec": {
      "display_name": "Python 3",
      "language": "python",
      "name": "python3"
    },
    "language_info": {
      "codemirror_mode": {
        "name": "ipython",
        "version": 3
      },
      "file_extension": ".py",
      "mimetype": "text/x-python",
      "name": "python",
      "nbconvert_exporter": "python",
      "pygments_lexer": "ipython3",
      "version": "3.8.3"
    },
    "colab": {
      "provenance": [],
      "include_colab_link": true
    }
  },
  "nbformat": 4,
  "nbformat_minor": 0
}