{
  "cells": [
    {
      "cell_type": "markdown",
      "metadata": {
        "id": "view-in-github",
        "colab_type": "text"
      },
      "source": [
        "<a href=\"https://colab.research.google.com/github/ShreeKeshavan/Numpy_Task/blob/main/Numpy_Assingment.ipynb\" target=\"_parent\"><img src=\"https://colab.research.google.com/assets/colab-badge.svg\" alt=\"Open In Colab\"/></a>"
      ]
    },
    {
      "cell_type": "markdown",
      "metadata": {
        "id": "cgBB9rBoBo2s"
      },
      "source": [
        "# Numpy\n",
        "\n"
      ]
    },
    {
      "cell_type": "markdown",
      "metadata": {
        "id": "212sgPSlBo3h"
      },
      "source": [
        "#### 1. Import the numpy package under the name `np` (★☆☆) \n",
        "(**hint**: import … as …)"
      ]
    },
    {
      "cell_type": "code",
      "execution_count": 1,
      "metadata": {
        "collapsed": true,
        "id": "H_gH2fiBBo3n"
      },
      "outputs": [],
      "source": [
        "import numpy as np"
      ]
    },
    {
      "cell_type": "markdown",
      "metadata": {
        "id": "OLn-cXB8Bo36"
      },
      "source": [
        "#### 2. Print the numpy version and the configuration (★☆☆) \n",
        "(**hint**: np.\\_\\_version\\_\\_, np.show\\_config)"
      ]
    },
    {
      "cell_type": "code",
      "source": [
        "np.__version__"
      ],
      "metadata": {
        "id": "AkP4Hsx1DZg7",
        "outputId": "bef08816-9b86-4621-b8ac-97249c858f4f",
        "colab": {
          "base_uri": "https://localhost:8080/",
          "height": 36
        }
      },
      "execution_count": 2,
      "outputs": [
        {
          "output_type": "execute_result",
          "data": {
            "text/plain": [
              "'1.21.6'"
            ],
            "application/vnd.google.colaboratory.intrinsic+json": {
              "type": "string"
            }
          },
          "metadata": {},
          "execution_count": 2
        }
      ]
    },
    {
      "cell_type": "code",
      "execution_count": 5,
      "metadata": {
        "id": "n_Ks7VLlBo4C",
        "outputId": "9729eb65-dde4-4324-c91f-15b865a2caf8",
        "colab": {
          "base_uri": "https://localhost:8080/"
        }
      },
      "outputs": [
        {
          "output_type": "stream",
          "name": "stdout",
          "text": [
            "blas_mkl_info:\n",
            "  NOT AVAILABLE\n",
            "blis_info:\n",
            "  NOT AVAILABLE\n",
            "openblas_info:\n",
            "    libraries = ['openblas', 'openblas']\n",
            "    library_dirs = ['/usr/local/lib']\n",
            "    language = c\n",
            "    define_macros = [('HAVE_CBLAS', None)]\n",
            "    runtime_library_dirs = ['/usr/local/lib']\n",
            "blas_opt_info:\n",
            "    libraries = ['openblas', 'openblas']\n",
            "    library_dirs = ['/usr/local/lib']\n",
            "    language = c\n",
            "    define_macros = [('HAVE_CBLAS', None)]\n",
            "    runtime_library_dirs = ['/usr/local/lib']\n",
            "lapack_mkl_info:\n",
            "  NOT AVAILABLE\n",
            "openblas_lapack_info:\n",
            "    libraries = ['openblas', 'openblas']\n",
            "    library_dirs = ['/usr/local/lib']\n",
            "    language = c\n",
            "    define_macros = [('HAVE_CBLAS', None)]\n",
            "    runtime_library_dirs = ['/usr/local/lib']\n",
            "lapack_opt_info:\n",
            "    libraries = ['openblas', 'openblas']\n",
            "    library_dirs = ['/usr/local/lib']\n",
            "    language = c\n",
            "    define_macros = [('HAVE_CBLAS', None)]\n",
            "    runtime_library_dirs = ['/usr/local/lib']\n",
            "Supported SIMD extensions in this NumPy install:\n",
            "    baseline = SSE,SSE2,SSE3\n",
            "    found = SSSE3,SSE41,POPCNT,SSE42,AVX,F16C,FMA3,AVX2\n",
            "    not found = AVX512F,AVX512CD,AVX512_KNL,AVX512_KNM,AVX512_SKX,AVX512_CLX,AVX512_CNL,AVX512_ICL\n"
          ]
        }
      ],
      "source": [
        "np.show_config()"
      ]
    },
    {
      "cell_type": "markdown",
      "metadata": {
        "id": "KBZ2jfAiBo4F"
      },
      "source": [
        "#### 3. Create a null vector of size 10 (★☆☆) \n",
        "(**hint**: np.zeros)"
      ]
    },
    {
      "cell_type": "code",
      "execution_count": 3,
      "metadata": {
        "id": "cuPLJlWZBo4L",
        "outputId": "f48a9c1c-eda2-4e66-c9b2-d73e44e63be1",
        "colab": {
          "base_uri": "https://localhost:8080/"
        }
      },
      "outputs": [
        {
          "output_type": "execute_result",
          "data": {
            "text/plain": [
              "array([0., 0., 0., 0., 0., 0., 0.])"
            ]
          },
          "metadata": {},
          "execution_count": 3
        }
      ],
      "source": [
        "np.zeros(7)"
      ]
    },
    {
      "cell_type": "markdown",
      "metadata": {
        "id": "GnEqDnOjBo4Q"
      },
      "source": [
        "#### 4.  How to find the memory size of any array (★☆☆) \n",
        "(**hint**: size, itemsize)"
      ]
    },
    {
      "cell_type": "code",
      "execution_count": 6,
      "metadata": {
        "id": "ub-Rrop4Bo4c",
        "colab": {
          "base_uri": "https://localhost:8080/"
        },
        "outputId": "109adc27-a860-4ea4-82d7-042a9432acaf"
      },
      "outputs": [
        {
          "output_type": "execute_result",
          "data": {
            "text/plain": [
              "40"
            ]
          },
          "metadata": {},
          "execution_count": 6
        }
      ],
      "source": [
        "x = np.array([10,20,30,40,50])\n",
        "(x.size * x.itemsize)"
      ]
    },
    {
      "cell_type": "markdown",
      "metadata": {
        "id": "lFbfC1M4Bo4j"
      },
      "source": [
        "#### 5.  How to get the documentation of the numpy add function from the command line? (★☆☆) \n",
        "(**hint**: np.info)"
      ]
    },
    {
      "cell_type": "code",
      "execution_count": 7,
      "metadata": {
        "collapsed": true,
        "id": "gXJT9uoBBo4n",
        "colab": {
          "base_uri": "https://localhost:8080/"
        },
        "outputId": "761716a3-5b39-4c18-ae92-b63a1a80fde3"
      },
      "outputs": [
        {
          "output_type": "stream",
          "name": "stdout",
          "text": [
            "add(x1, x2, /, out=None, *, where=True, casting='same_kind', order='K', dtype=None, subok=True[, signature, extobj])\n",
            "\n",
            "Add arguments element-wise.\n",
            "\n",
            "Parameters\n",
            "----------\n",
            "x1, x2 : array_like\n",
            "    The arrays to be added.\n",
            "    If ``x1.shape != x2.shape``, they must be broadcastable to a common\n",
            "    shape (which becomes the shape of the output).\n",
            "out : ndarray, None, or tuple of ndarray and None, optional\n",
            "    A location into which the result is stored. If provided, it must have\n",
            "    a shape that the inputs broadcast to. If not provided or None,\n",
            "    a freshly-allocated array is returned. A tuple (possible only as a\n",
            "    keyword argument) must have length equal to the number of outputs.\n",
            "where : array_like, optional\n",
            "    This condition is broadcast over the input. At locations where the\n",
            "    condition is True, the `out` array will be set to the ufunc result.\n",
            "    Elsewhere, the `out` array will retain its original value.\n",
            "    Note that if an uninitialized `out` array is created via the default\n",
            "    ``out=None``, locations within it where the condition is False will\n",
            "    remain uninitialized.\n",
            "**kwargs\n",
            "    For other keyword-only arguments, see the\n",
            "    :ref:`ufunc docs <ufuncs.kwargs>`.\n",
            "\n",
            "Returns\n",
            "-------\n",
            "add : ndarray or scalar\n",
            "    The sum of `x1` and `x2`, element-wise.\n",
            "    This is a scalar if both `x1` and `x2` are scalars.\n",
            "\n",
            "Notes\n",
            "-----\n",
            "Equivalent to `x1` + `x2` in terms of array broadcasting.\n",
            "\n",
            "Examples\n",
            "--------\n",
            ">>> np.add(1.0, 4.0)\n",
            "5.0\n",
            ">>> x1 = np.arange(9.0).reshape((3, 3))\n",
            ">>> x2 = np.arange(3.0)\n",
            ">>> np.add(x1, x2)\n",
            "array([[  0.,   2.,   4.],\n",
            "       [  3.,   5.,   7.],\n",
            "       [  6.,   8.,  10.]])\n",
            "\n",
            "The ``+`` operator can be used as a shorthand for ``np.add`` on ndarrays.\n",
            "\n",
            ">>> x1 = np.arange(9.0).reshape((3, 3))\n",
            ">>> x2 = np.arange(3.0)\n",
            ">>> x1 + x2\n",
            "array([[ 0.,  2.,  4.],\n",
            "       [ 3.,  5.,  7.],\n",
            "       [ 6.,  8., 10.]])\n"
          ]
        }
      ],
      "source": [
        "np.info(np.add)"
      ]
    },
    {
      "cell_type": "markdown",
      "metadata": {
        "id": "rF5Kq3-TBo4p"
      },
      "source": [
        "#### 6.  Create a null vector of size 10 but the fifth value which is 1 (★☆☆) \n",
        "(**hint**: array\\[4\\])"
      ]
    },
    {
      "cell_type": "code",
      "execution_count": 8,
      "metadata": {
        "id": "1zKVgAJ2Bo4t",
        "colab": {
          "base_uri": "https://localhost:8080/"
        },
        "outputId": "df6e23e6-7495-439a-83e4-a7e378a0c6c2"
      },
      "outputs": [
        {
          "output_type": "execute_result",
          "data": {
            "text/plain": [
              "array([0., 0., 0., 0., 1., 0., 0., 0., 0., 0.])"
            ]
          },
          "metadata": {},
          "execution_count": 8
        }
      ],
      "source": [
        "x = np.zeros(10)\n",
        "x[4] = 1\n",
        "x"
      ]
    },
    {
      "cell_type": "markdown",
      "metadata": {
        "id": "rKgutGcpBo4v"
      },
      "source": [
        "#### 7.  Create a vector with values ranging from 10 to 49 (★☆☆) \n",
        "(**hint**: np.arange)"
      ]
    },
    {
      "cell_type": "code",
      "execution_count": 9,
      "metadata": {
        "id": "UOZHIN7kBo45",
        "colab": {
          "base_uri": "https://localhost:8080/"
        },
        "outputId": "6cfed425-ed48-4a9e-dd1a-9344947f3ed1"
      },
      "outputs": [
        {
          "output_type": "execute_result",
          "data": {
            "text/plain": [
              "array([10, 11, 12, 13, 14, 15, 16, 17, 18, 19, 20, 21, 22, 23, 24, 25, 26,\n",
              "       27, 28, 29, 30, 31, 32, 33, 34, 35, 36, 37, 38, 39, 40, 41, 42, 43,\n",
              "       44, 45, 46, 47, 48, 49])"
            ]
          },
          "metadata": {},
          "execution_count": 9
        }
      ],
      "source": [
        "np.arange(10,50)"
      ]
    },
    {
      "cell_type": "markdown",
      "metadata": {
        "id": "CvNWqyoKBo47"
      },
      "source": [
        "#### 8.  Reverse a vector (first element becomes last) (★☆☆) \n",
        "(**hint**: array\\[::-1\\])"
      ]
    },
    {
      "cell_type": "code",
      "execution_count": 10,
      "metadata": {
        "id": "-OvvuSPHBo4_",
        "colab": {
          "base_uri": "https://localhost:8080/"
        },
        "outputId": "99f27d8b-c463-4290-b455-9fdd6b0621cd"
      },
      "outputs": [
        {
          "output_type": "execute_result",
          "data": {
            "text/plain": [
              "array([49, 48, 47, 46, 45, 44, 43, 42, 41, 40, 39, 38, 37, 36, 35, 34, 33,\n",
              "       32, 31, 30, 29, 28, 27, 26, 25, 24, 23, 22, 21, 20, 19, 18, 17, 16,\n",
              "       15, 14, 13, 12, 11, 10])"
            ]
          },
          "metadata": {},
          "execution_count": 10
        }
      ],
      "source": [
        "np.arange(10,50)[::-1]"
      ]
    },
    {
      "cell_type": "markdown",
      "metadata": {
        "id": "Hp0ASiq3Bo5B"
      },
      "source": [
        "#### 9.  Create a 3x3 matrix with values ranging from 0 to 8 (★☆☆) \n",
        "(**hint**: reshape)"
      ]
    },
    {
      "cell_type": "code",
      "execution_count": 11,
      "metadata": {
        "id": "l6FLjMmYBo5H",
        "colab": {
          "base_uri": "https://localhost:8080/"
        },
        "outputId": "a25f352b-5ff4-410b-d7eb-bdbeafa4a66b"
      },
      "outputs": [
        {
          "output_type": "execute_result",
          "data": {
            "text/plain": [
              "array([[0, 1, 2],\n",
              "       [3, 4, 5],\n",
              "       [6, 7, 8]])"
            ]
          },
          "metadata": {},
          "execution_count": 11
        }
      ],
      "source": [
        "np.arange(0,9).reshape(3,3)"
      ]
    },
    {
      "cell_type": "markdown",
      "metadata": {
        "id": "FC1HZBnNBo5J"
      },
      "source": [
        "#### 10. Find indices of non-zero elements from \\[1,2,0,0,4,0\\] (★☆☆) \n",
        "(**hint**: np.nonzero)"
      ]
    },
    {
      "cell_type": "code",
      "execution_count": 12,
      "metadata": {
        "id": "OydVCxOOBo5P",
        "colab": {
          "base_uri": "https://localhost:8080/"
        },
        "outputId": "8371ccb1-41f3-4633-b5e6-e8523f4c8315"
      },
      "outputs": [
        {
          "output_type": "execute_result",
          "data": {
            "text/plain": [
              "(array([0, 1, 4]),)"
            ]
          },
          "metadata": {},
          "execution_count": 12
        }
      ],
      "source": [
        "np.nonzero([1,2,0,0,4,0])"
      ]
    },
    {
      "cell_type": "markdown",
      "metadata": {
        "id": "kr2k3W_FBo5S"
      },
      "source": [
        "#### 11. Create a 3x3 identity matrix (★☆☆) \n",
        "(**hint**: np.eye)"
      ]
    },
    {
      "cell_type": "code",
      "execution_count": 13,
      "metadata": {
        "id": "Ev6UCOj8Bo5b",
        "colab": {
          "base_uri": "https://localhost:8080/"
        },
        "outputId": "b1e406a2-585a-4d0a-bc0c-4888c43ab179"
      },
      "outputs": [
        {
          "output_type": "execute_result",
          "data": {
            "text/plain": [
              "array([[1., 0., 0.],\n",
              "       [0., 1., 0.],\n",
              "       [0., 0., 1.]])"
            ]
          },
          "metadata": {},
          "execution_count": 13
        }
      ],
      "source": [
        "np.eye(3)"
      ]
    },
    {
      "cell_type": "markdown",
      "metadata": {
        "id": "qrOsR4hrBo5e"
      },
      "source": [
        "#### 12. Create a 3x3x3 array with random values (★☆☆) \n",
        "(**hint**: np.random.random)"
      ]
    },
    {
      "cell_type": "code",
      "execution_count": 14,
      "metadata": {
        "collapsed": true,
        "id": "CGAw5NxSBo5g",
        "colab": {
          "base_uri": "https://localhost:8080/"
        },
        "outputId": "3c478d2e-6f38-4ed1-fb4e-bef0fe359f48"
      },
      "outputs": [
        {
          "output_type": "execute_result",
          "data": {
            "text/plain": [
              "array([[[0.05170481, 0.18307956, 0.34220937],\n",
              "        [0.96453783, 0.67556683, 0.4864193 ],\n",
              "        [0.12576824, 0.86076837, 0.93430711]],\n",
              "\n",
              "       [[0.66885482, 0.41633186, 0.41895568],\n",
              "        [0.79221367, 0.11287646, 0.32395241],\n",
              "        [0.24272494, 0.49314537, 0.39832481]],\n",
              "\n",
              "       [[0.56822287, 0.32632462, 0.4808499 ],\n",
              "        [0.24629312, 0.20667932, 0.81678129],\n",
              "        [0.51009014, 0.85338864, 0.6139067 ]]])"
            ]
          },
          "metadata": {},
          "execution_count": 14
        }
      ],
      "source": [
        "np.random.random((3,3,3))"
      ]
    },
    {
      "cell_type": "markdown",
      "metadata": {
        "id": "mMIZkjLbBo5h"
      },
      "source": [
        "#### 13. Create a 10x10 array with random values and find the minimum and maximum values (★☆☆) \n",
        "(**hint**: min, max)"
      ]
    },
    {
      "cell_type": "code",
      "execution_count": 15,
      "metadata": {
        "id": "fI-45GTMBo5k",
        "colab": {
          "base_uri": "https://localhost:8080/"
        },
        "outputId": "cfb5d94f-ac7e-4f22-d2b1-9dc4003a7325"
      },
      "outputs": [
        {
          "output_type": "execute_result",
          "data": {
            "text/plain": [
              "0.006120655234546524"
            ]
          },
          "metadata": {},
          "execution_count": 15
        }
      ],
      "source": [
        "np.random.random((10,10)).min()"
      ]
    },
    {
      "cell_type": "markdown",
      "metadata": {
        "id": "F9cCnb9FBo5m"
      },
      "source": [
        "#### 14. Create a random vector of size 30 and find the mean value (★☆☆) \n",
        "(**hint**: mean)"
      ]
    },
    {
      "cell_type": "code",
      "execution_count": 16,
      "metadata": {
        "id": "q3n1U05mBo5z",
        "colab": {
          "base_uri": "https://localhost:8080/"
        },
        "outputId": "d517ff0c-2bbb-420f-f78b-a853d9a89b60"
      },
      "outputs": [
        {
          "output_type": "execute_result",
          "data": {
            "text/plain": [
              "0.2679336317681078"
            ]
          },
          "metadata": {},
          "execution_count": 16
        }
      ],
      "source": [
        "np.random.random(10).mean()"
      ]
    },
    {
      "cell_type": "markdown",
      "metadata": {
        "id": "W2b77oUwBo52"
      },
      "source": [
        "#### 15. Create a 2d array with 1 on the border and 0 inside (★☆☆) \n",
        "(**hint**: array\\[1:-1, 1:-1\\])"
      ]
    },
    {
      "cell_type": "code",
      "execution_count": 17,
      "metadata": {
        "id": "DFHr2D9iBo57",
        "colab": {
          "base_uri": "https://localhost:8080/"
        },
        "outputId": "df38d332-63f2-4645-b3e3-8acd15cbd58e"
      },
      "outputs": [
        {
          "output_type": "execute_result",
          "data": {
            "text/plain": [
              "array([[1., 1., 1., 1., 1., 1., 1., 1., 1., 1.],\n",
              "       [1., 0., 0., 0., 0., 0., 0., 0., 0., 1.],\n",
              "       [1., 0., 0., 0., 0., 0., 0., 0., 0., 1.],\n",
              "       [1., 0., 0., 0., 0., 0., 0., 0., 0., 1.],\n",
              "       [1., 0., 0., 0., 0., 0., 0., 0., 0., 1.],\n",
              "       [1., 0., 0., 0., 0., 0., 0., 0., 0., 1.],\n",
              "       [1., 0., 0., 0., 0., 0., 0., 0., 0., 1.],\n",
              "       [1., 0., 0., 0., 0., 0., 0., 0., 0., 1.],\n",
              "       [1., 0., 0., 0., 0., 0., 0., 0., 0., 1.],\n",
              "       [1., 1., 1., 1., 1., 1., 1., 1., 1., 1.]])"
            ]
          },
          "metadata": {},
          "execution_count": 17
        }
      ],
      "source": [
        "x = np.ones((10,10))\n",
        "x[1:-1,1:-1] = 0\n",
        "x"
      ]
    },
    {
      "cell_type": "markdown",
      "metadata": {
        "id": "D4aSFO3OBo5-"
      },
      "source": [
        "#### 16. How to add a border (filled with 0's) around an existing array? (★☆☆) \n",
        "(**hint**: np.pad)"
      ]
    },
    {
      "cell_type": "code",
      "execution_count": 18,
      "metadata": {
        "id": "DkPwJrxSBo6B",
        "colab": {
          "base_uri": "https://localhost:8080/"
        },
        "outputId": "6c82e3b7-ebaa-4a2a-a442-b8013eaa7d85"
      },
      "outputs": [
        {
          "output_type": "execute_result",
          "data": {
            "text/plain": [
              "array([[0., 0., 0., 0., 0.],\n",
              "       [0., 1., 1., 1., 0.],\n",
              "       [0., 1., 1., 1., 0.],\n",
              "       [0., 1., 1., 1., 0.],\n",
              "       [0., 0., 0., 0., 0.]])"
            ]
          },
          "metadata": {},
          "execution_count": 18
        }
      ],
      "source": [
        "x = np.ones((3,3))\n",
        "np.pad(x, pad_width = 1, mode = 'constant', constant_values = 0)"
      ]
    },
    {
      "cell_type": "markdown",
      "metadata": {
        "id": "1MIhL_kqBo6D"
      },
      "source": [
        "#### 17. What is the result of the following expression? (★☆☆) \n",
        "(**hint**: NaN = not a number, inf = infinity)"
      ]
    },
    {
      "cell_type": "markdown",
      "metadata": {
        "id": "BaQFUdCQBo6H"
      },
      "source": [
        "```python\n",
        "0 * np.nan\n",
        "np.nan == np.nan\n",
        "np.inf > np.nan\n",
        "np.nan - np.nan\n",
        "0.3 == 3 * 0.1\n",
        "```"
      ]
    },
    {
      "cell_type": "code",
      "execution_count": 19,
      "metadata": {
        "id": "ksIGfpc1Bo6K",
        "colab": {
          "base_uri": "https://localhost:8080/"
        },
        "outputId": "3f6657e1-20fe-4626-8954-54f5e5345938"
      },
      "outputs": [
        {
          "output_type": "execute_result",
          "data": {
            "text/plain": [
              "False"
            ]
          },
          "metadata": {},
          "execution_count": 19
        }
      ],
      "source": [
        "False"
      ]
    },
    {
      "cell_type": "markdown",
      "metadata": {
        "id": "t9p4trg2Bo6N"
      },
      "source": [
        "#### 18. Create a 5x5 matrix with values 1,2,3,4 just below the diagonal (★☆☆) \n",
        "(**hint**: np.diag)"
      ]
    },
    {
      "cell_type": "code",
      "execution_count": 20,
      "metadata": {
        "id": "dS43FgUzBo6P",
        "colab": {
          "base_uri": "https://localhost:8080/"
        },
        "outputId": "3eaaca3b-7969-45fe-faec-485e77e5e6b5"
      },
      "outputs": [
        {
          "output_type": "execute_result",
          "data": {
            "text/plain": [
              "array([[0, 0, 0, 0, 0],\n",
              "       [0, 1, 0, 0, 0],\n",
              "       [0, 0, 2, 0, 0],\n",
              "       [0, 0, 0, 3, 0],\n",
              "       [0, 0, 0, 0, 4]])"
            ]
          },
          "metadata": {},
          "execution_count": 20
        }
      ],
      "source": [
        "np.diag([0,1,2,3,4])"
      ]
    },
    {
      "cell_type": "markdown",
      "metadata": {
        "id": "etddUXXEBo6R"
      },
      "source": [
        "#### 19. Create a 8x8 matrix and fill it with a checkerboard pattern (★☆☆) \n",
        "(**hint**: array\\[::2\\])"
      ]
    },
    {
      "cell_type": "code",
      "execution_count": 21,
      "metadata": {
        "id": "zOndVJBXBo6S",
        "colab": {
          "base_uri": "https://localhost:8080/"
        },
        "outputId": "36eddc50-cd90-4e3c-af8d-4a2298b9c772"
      },
      "outputs": [
        {
          "output_type": "execute_result",
          "data": {
            "text/plain": [
              "array([[0, 1, 0, 1, 0, 1, 0, 1],\n",
              "       [1, 0, 1, 0, 1, 0, 1, 0],\n",
              "       [0, 1, 0, 1, 0, 1, 0, 1],\n",
              "       [1, 0, 1, 0, 1, 0, 1, 0],\n",
              "       [0, 1, 0, 1, 0, 1, 0, 1],\n",
              "       [1, 0, 1, 0, 1, 0, 1, 0],\n",
              "       [0, 1, 0, 1, 0, 1, 0, 1],\n",
              "       [1, 0, 1, 0, 1, 0, 1, 0]])"
            ]
          },
          "metadata": {},
          "execution_count": 21
        }
      ],
      "source": [
        "x = np.zeros((8,8),dtype = int)\n",
        "x[1::2,::2] = 1\n",
        "x[::2,1::2] = 1\n",
        "x"
      ]
    },
    {
      "cell_type": "markdown",
      "metadata": {
        "id": "DCBt8lhNBo6U"
      },
      "source": [
        "#### 20. Consider a (6,7,8) shape array, what is the index (x,y,z) of the 100th element? \n",
        "(**hint**: np.unravel_index)"
      ]
    },
    {
      "cell_type": "code",
      "execution_count": 22,
      "metadata": {
        "id": "7RRs_U6iBo6X",
        "colab": {
          "base_uri": "https://localhost:8080/"
        },
        "outputId": "365ab906-e5a5-4b4e-e217-fb8af79f7d2d"
      },
      "outputs": [
        {
          "output_type": "execute_result",
          "data": {
            "text/plain": [
              "(1, 5, 4)"
            ]
          },
          "metadata": {},
          "execution_count": 22
        }
      ],
      "source": [
        "np.unravel_index(100,(6,7,8))"
      ]
    },
    {
      "cell_type": "markdown",
      "metadata": {
        "id": "Vukn0fHvBo6a"
      },
      "source": [
        "#### 21. Create a checkerboard 8x8 matrix using the tile function (★☆☆) \n",
        "(**hint**: np.tile)"
      ]
    },
    {
      "cell_type": "code",
      "execution_count": 23,
      "metadata": {
        "id": "dIUPqud_Bo6d",
        "colab": {
          "base_uri": "https://localhost:8080/"
        },
        "outputId": "b1ec63de-06b9-4090-b20c-37a81f4adc7c"
      },
      "outputs": [
        {
          "output_type": "execute_result",
          "data": {
            "text/plain": [
              "array([[0, 1, 0, 1, 0, 1, 0, 1],\n",
              "       [1, 0, 1, 0, 1, 0, 1, 0],\n",
              "       [0, 1, 0, 1, 0, 1, 0, 1],\n",
              "       [1, 0, 1, 0, 1, 0, 1, 0],\n",
              "       [0, 1, 0, 1, 0, 1, 0, 1],\n",
              "       [1, 0, 1, 0, 1, 0, 1, 0],\n",
              "       [0, 1, 0, 1, 0, 1, 0, 1],\n",
              "       [1, 0, 1, 0, 1, 0, 1, 0]])"
            ]
          },
          "metadata": {},
          "execution_count": 23
        }
      ],
      "source": [
        "x = np.array([[0,1],[1,0]])\n",
        "y = np.tile(x,(4,4))\n",
        "y"
      ]
    },
    {
      "cell_type": "markdown",
      "metadata": {
        "id": "OerQHqCsBo6g"
      },
      "source": [
        "#### 22. Normalize a 5x5 random matrix (★☆☆) \n",
        "(**hint**: (x - min) / (max - min))"
      ]
    },
    {
      "cell_type": "code",
      "execution_count": 24,
      "metadata": {
        "id": "Y4hLSe3oBo6i",
        "colab": {
          "base_uri": "https://localhost:8080/"
        },
        "outputId": "1c9f9d27-6865-4ec2-e03f-db3226c3c87c"
      },
      "outputs": [
        {
          "output_type": "execute_result",
          "data": {
            "text/plain": [
              "array([[-0.57376105, -0.60242629, -0.61145451, -0.47297593, -0.65167657],\n",
              "       [-0.24747245, -0.70196669, -0.81480765, -0.63438965, -0.65698155],\n",
              "       [-0.75905869, -0.49261184, -1.        ,  0.        , -0.48446289],\n",
              "       [-0.96504213, -0.72986648, -0.98293465, -0.70300228, -0.91685134],\n",
              "       [-0.54737635, -0.43993818, -0.84043121, -0.73599041, -0.09719473]])"
            ]
          },
          "metadata": {},
          "execution_count": 24
        }
      ],
      "source": [
        "x = np.random.random((5,5))\n",
        "ma, mi = x.max(), x.min()\n",
        "y = (x - ma) / (ma - mi)\n",
        "y"
      ]
    },
    {
      "cell_type": "markdown",
      "metadata": {
        "id": "uA-ORAyRBo6j"
      },
      "source": [
        "#### 23. Create a custom dtype that describes a color as four unsigned bytes (RGBA) (★☆☆) \n",
        "(**hint**: np.dtype)"
      ]
    },
    {
      "cell_type": "code",
      "execution_count": 25,
      "metadata": {
        "collapsed": true,
        "id": "6p3klstIBo6l",
        "colab": {
          "base_uri": "https://localhost:8080/"
        },
        "outputId": "69076887-a03f-4808-9f15-c5521de8a307"
      },
      "outputs": [
        {
          "output_type": "stream",
          "name": "stderr",
          "text": [
            "<ipython-input-25-3c9bf20abe2a>:1: FutureWarning: Passing (type, 1) or '1type' as a synonym of type is deprecated; in a future version of numpy, it will be understood as (type, (1,)) / '(1,)type'.\n",
            "  color = np.dtype([(\"R\", np.ubyte, 1),\n"
          ]
        },
        {
          "output_type": "execute_result",
          "data": {
            "text/plain": [
              "dtype([('R', 'u1'), ('G', 'u1'), ('B', 'u1'), ('A', 'u1')])"
            ]
          },
          "metadata": {},
          "execution_count": 25
        }
      ],
      "source": [
        "color = np.dtype([(\"R\", np.ubyte, 1),\n",
        "                  (\"G\", np.ubyte, 1),\n",
        "                  (\"B\", np.ubyte, 1),\n",
        "                  (\"A\", np.ubyte, 1)])\n",
        "color"
      ]
    },
    {
      "cell_type": "markdown",
      "metadata": {
        "id": "403hDGz7Bo6o"
      },
      "source": [
        "#### 24. Multiply a 5x3 matrix by a 3x2 matrix (real matrix product) (★☆☆) \n",
        "(**hint**: np.dot | @)"
      ]
    },
    {
      "cell_type": "code",
      "execution_count": 26,
      "metadata": {
        "id": "VxmqVcKCBo6q",
        "colab": {
          "base_uri": "https://localhost:8080/"
        },
        "outputId": "ae7132d9-e9d2-4bc0-e1c5-53e8e371aba0"
      },
      "outputs": [
        {
          "output_type": "execute_result",
          "data": {
            "text/plain": [
              "array([[3, 3],\n",
              "       [3, 3],\n",
              "       [3, 3],\n",
              "       [3, 3],\n",
              "       [3, 3]])"
            ]
          },
          "metadata": {},
          "execution_count": 26
        }
      ],
      "source": [
        "np.dot(np.ones((5,3),dtype =int), np.ones((3,2),dtype =int))"
      ]
    },
    {
      "cell_type": "markdown",
      "metadata": {
        "id": "qGTie1uxBo6r"
      },
      "source": [
        "#### 25. Given a 1D array, negate all elements which are between 3 and 8, in place. (★☆☆) \n",
        "(**hint**: >, <=)"
      ]
    },
    {
      "cell_type": "code",
      "execution_count": 27,
      "metadata": {
        "id": "beo742HrBo6t",
        "colab": {
          "base_uri": "https://localhost:8080/"
        },
        "outputId": "1f87686c-2e4f-40ad-fb6c-c24a9e13848f"
      },
      "outputs": [
        {
          "output_type": "execute_result",
          "data": {
            "text/plain": [
              "array([ 0,  1,  2,  3, -4, -5, -6, -7, -8,  9, 10])"
            ]
          },
          "metadata": {},
          "execution_count": 27
        }
      ],
      "source": [
        "x = np.arange(11)\n",
        "x[(3 < x) & (x <= 8)] *= -1 \n",
        "x"
      ]
    },
    {
      "cell_type": "markdown",
      "metadata": {
        "id": "0ld7A3ZSBo6u"
      },
      "source": [
        "#### 26. What is the output of the following script? (★☆☆) \n",
        "(**hint**: np.sum)"
      ]
    },
    {
      "cell_type": "markdown",
      "metadata": {
        "id": "8LU12n9wBo6w"
      },
      "source": [
        "```python\n",
        "# Author: Jake VanderPlas\n",
        "\n",
        "print(sum(range(5),-1))\n",
        "from numpy import *\n",
        "print(sum(range(5),-1))\n",
        "```"
      ]
    },
    {
      "cell_type": "code",
      "execution_count": 28,
      "metadata": {
        "id": "pJHnc2o_Bo6y",
        "colab": {
          "base_uri": "https://localhost:8080/"
        },
        "outputId": "ae66097b-69ef-4c5e-cd46-f35d0c3f5cc4"
      },
      "outputs": [
        {
          "output_type": "stream",
          "name": "stdout",
          "text": [
            "9\n",
            "10\n"
          ]
        }
      ],
      "source": [
        "print(sum(range(5),-1))\n",
        "from numpy import *\n",
        "print(sum(range(5),-1))"
      ]
    },
    {
      "cell_type": "markdown",
      "metadata": {
        "id": "wqwbegudBo6z"
      },
      "source": [
        "#### 27. Consider an integer vector Z, which of these expressions are legal? (★☆☆)"
      ]
    },
    {
      "cell_type": "markdown",
      "metadata": {
        "id": "VV6BEkz7Bo60"
      },
      "source": [
        "```python\n",
        "Z**Z\n",
        "2 << Z >> 2\n",
        "Z <- Z\n",
        "1j*Z\n",
        "Z/1/1\n",
        "Z<Z>Z\n",
        "```"
      ]
    },
    {
      "cell_type": "code",
      "execution_count": 30,
      "metadata": {
        "id": "cXcrFHMnBo62"
      },
      "outputs": [],
      "source": [
        "2 << Z >> 2, Z <- Z, 1j*Z, Z/1/1"
      ]
    },
    {
      "cell_type": "markdown",
      "metadata": {
        "id": "Tkis_gL_Bo64"
      },
      "source": [
        "#### 28. What are the result of the following expressions?"
      ]
    },
    {
      "cell_type": "markdown",
      "metadata": {
        "id": "vEMbg0zeBo69"
      },
      "source": [
        "```python\n",
        "np.array(0) / np.array(0)\n",
        "np.array(0) // np.array(0)\n",
        "np.array([np.nan]).astype(int).astype(float)\n",
        "```"
      ]
    },
    {
      "cell_type": "code",
      "execution_count": 31,
      "metadata": {
        "id": "zCAuaLFRBo6_",
        "colab": {
          "base_uri": "https://localhost:8080/"
        },
        "outputId": "a27e104e-31fd-4a7b-abbb-402a2bd27097"
      },
      "outputs": [
        {
          "output_type": "execute_result",
          "data": {
            "text/plain": [
              "[-9.22337204e+18]"
            ]
          },
          "metadata": {},
          "execution_count": 31
        }
      ],
      "source": [
        "nan\n",
        "0\n",
        "[-9.22337204e+18]"
      ]
    },
    {
      "cell_type": "markdown",
      "metadata": {
        "id": "IjSBAiu-Bo7A"
      },
      "source": [
        "#### 29. How to round away from zero a float array ? (★☆☆) \n",
        "(**hint**: np.uniform, np.copysign, np.ceil, np.abs)"
      ]
    },
    {
      "cell_type": "code",
      "execution_count": 32,
      "metadata": {
        "id": "FhUaOSBkBo7C",
        "colab": {
          "base_uri": "https://localhost:8080/"
        },
        "outputId": "9c0f0fa3-286d-4acc-ae10-9a69c990c960"
      },
      "outputs": [
        {
          "output_type": "stream",
          "name": "stdout",
          "text": [
            "[ -6.  -2.   7.  -3.   2.   7.   1. -10.   6.  -4.]\n"
          ]
        }
      ],
      "source": [
        "x = np.random.uniform(-10,+10,10)\n",
        "print(np.copysign(np.ceil(np.abs(x)), x))"
      ]
    },
    {
      "cell_type": "markdown",
      "metadata": {
        "id": "EaOeBy1YBo7E"
      },
      "source": [
        "#### 30. How to find common values between two arrays? (★☆☆) \n",
        "(**hint**: np.intersect1d)"
      ]
    },
    {
      "cell_type": "code",
      "execution_count": 33,
      "metadata": {
        "id": "bM6bWxI-Bo7F",
        "colab": {
          "base_uri": "https://localhost:8080/"
        },
        "outputId": "6cb0d1f9-e34c-4518-fda6-e98ee0ee89f8"
      },
      "outputs": [
        {
          "output_type": "stream",
          "name": "stdout",
          "text": [
            "[2 7 8 9]\n"
          ]
        }
      ],
      "source": [
        "x = np.random.randint(0,10,10) \n",
        "y = np.random.randint(0,10,10)\n",
        "print(np.intersect1d(x,y))"
      ]
    },
    {
      "cell_type": "markdown",
      "metadata": {
        "id": "foeXyvx3Bo7G"
      },
      "source": [
        "#### 31. How to ignore all numpy warnings (not recommended)? (★☆☆) \n",
        "(**hint**: np.seterr, np.errstate)"
      ]
    },
    {
      "cell_type": "code",
      "execution_count": 34,
      "metadata": {
        "id": "hd-kDPVxBo7J"
      },
      "outputs": [],
      "source": [
        "with np.errstate(divide='ignore'):\n",
        "    Z = np.ones(1) / 0  "
      ]
    },
    {
      "cell_type": "markdown",
      "metadata": {
        "id": "8WsylJ2DBo7K"
      },
      "source": [
        "#### 32. Is the following expressions true? (★☆☆) \n",
        "(**hint**: imaginary number)"
      ]
    },
    {
      "cell_type": "markdown",
      "metadata": {
        "id": "QhBWsI8ZBo7M"
      },
      "source": [
        "```python\n",
        "np.sqrt(-1) == np.emath.sqrt(-1)\n",
        "```"
      ]
    },
    {
      "cell_type": "code",
      "execution_count": 35,
      "metadata": {
        "id": "cfoolmc4Bo7O",
        "colab": {
          "base_uri": "https://localhost:8080/"
        },
        "outputId": "45c24e00-4f23-4a51-b773-040b47c52278"
      },
      "outputs": [
        {
          "output_type": "execute_result",
          "data": {
            "text/plain": [
              "False"
            ]
          },
          "metadata": {},
          "execution_count": 35
        }
      ],
      "source": [
        "False"
      ]
    },
    {
      "cell_type": "markdown",
      "metadata": {
        "id": "S4IMU7hDBo7T"
      },
      "source": [
        "#### 33. How to get the dates of yesterday, today and tomorrow? (★☆☆) \n",
        "(**hint**: np.datetime64, np.timedelta64)"
      ]
    },
    {
      "cell_type": "code",
      "execution_count": 36,
      "metadata": {
        "collapsed": true,
        "id": "5LDXa_ceBo7V",
        "colab": {
          "base_uri": "https://localhost:8080/"
        },
        "outputId": "282b1990-76ec-49b9-dc4f-801feab9490d"
      },
      "outputs": [
        {
          "output_type": "stream",
          "name": "stdout",
          "text": [
            "2023-01-04\n",
            "2023-01-05\n",
            "2023-01-06\n"
          ]
        }
      ],
      "source": [
        "x = np.datetime64('today','D') - np.timedelta64(1,'D')\n",
        "y = np.datetime64('today','D')\n",
        "z = np.datetime64('today','D') + np.timedelta64(1,'D')\n",
        "print(x,y,z , sep ='\\n')"
      ]
    },
    {
      "cell_type": "markdown",
      "metadata": {
        "id": "gZuN_QU4Bo7Y"
      },
      "source": [
        "#### 34. How to get all the dates corresponding to the month of July 2016? (★★☆) \n",
        "(**hint**: np.arange(dtype=datetime64\\['D'\\]))"
      ]
    },
    {
      "cell_type": "code",
      "execution_count": 37,
      "metadata": {
        "id": "BOQ3OmEWBo7e",
        "colab": {
          "base_uri": "https://localhost:8080/"
        },
        "outputId": "04db5d90-1442-4b83-fb69-39b2374de2cb"
      },
      "outputs": [
        {
          "output_type": "stream",
          "name": "stdout",
          "text": [
            "['2016-07-01' '2016-07-02' '2016-07-03' '2016-07-04' '2016-07-05'\n",
            " '2016-07-06' '2016-07-07' '2016-07-08' '2016-07-09' '2016-07-10'\n",
            " '2016-07-11' '2016-07-12' '2016-07-13' '2016-07-14' '2016-07-15'\n",
            " '2016-07-16' '2016-07-17' '2016-07-18' '2016-07-19' '2016-07-20'\n",
            " '2016-07-21' '2016-07-22' '2016-07-23' '2016-07-24' '2016-07-25'\n",
            " '2016-07-26' '2016-07-27' '2016-07-28' '2016-07-29' '2016-07-30'\n",
            " '2016-07-31']\n"
          ]
        }
      ],
      "source": [
        "x = np.arange('2016-07', '2016-08', dtype = 'datetime64[D]')\n",
        "print(x)"
      ]
    },
    {
      "cell_type": "markdown",
      "metadata": {
        "id": "AjSj1MioBo7f"
      },
      "source": [
        "#### 35. How to compute ((A+B)\\*(-A/2)) in place (without copy)? (★★☆) \n",
        "(**hint**: np.add(out=), np.negative(out=), np.multiply(out=), np.divide(out=))"
      ]
    },
    {
      "cell_type": "code",
      "execution_count": 38,
      "metadata": {
        "id": "pifR6xyJBo7h",
        "colab": {
          "base_uri": "https://localhost:8080/"
        },
        "outputId": "7c1ff984-98e8-4d6d-908a-0f520e701f37"
      },
      "outputs": [
        {
          "output_type": "execute_result",
          "data": {
            "text/plain": [
              "array([-6., -6., -6.])"
            ]
          },
          "metadata": {},
          "execution_count": 38
        }
      ],
      "source": [
        "x = np.ones(3) * 2\n",
        "y = np.ones(3) * 4\n",
        "z = np.ones(3) * 6\n",
        "np.add(x,y,out = y)\n",
        "np.divide(x,2,out = x)\n",
        "np.negative(x, out = x)\n",
        "np.multiply(x,y, out = x)"
      ]
    },
    {
      "cell_type": "markdown",
      "metadata": {
        "id": "1FkzFAz3Bo7i"
      },
      "source": [
        "#### 36. Extract the integer part of a random array using 5 different methods (★★☆) \n",
        "(**hint**: %, np.floor, np.ceil, astype, np.trunc)"
      ]
    },
    {
      "cell_type": "code",
      "execution_count": 39,
      "metadata": {
        "id": "0kehBEOaBo7k",
        "colab": {
          "base_uri": "https://localhost:8080/"
        },
        "outputId": "962476b0-d2a2-49f8-df85-bf793bfa7f46"
      },
      "outputs": [
        {
          "output_type": "stream",
          "name": "stdout",
          "text": [
            "[5. 7. 2. 2. 9. 0. 2. 8. 6. 5.]\n",
            "[5. 7. 2. 2. 9. 0. 2. 8. 6. 5.]\n",
            "[5. 7. 2. 2. 9. 0. 2. 8. 6. 5.]\n",
            "[5 7 2 2 9 0 2 8 6 5]\n",
            "[5. 7. 2. 2. 9. 0. 2. 8. 6. 5.]\n"
          ]
        }
      ],
      "source": [
        " x = np.random.uniform(0,10,10)\n",
        " print(x - x%1)\n",
        " print(np.floor(x))\n",
        " print(np.ceil(x) - 1)\n",
        " print(x.astype(int))\n",
        " print(np.trunc(x))"
      ]
    },
    {
      "cell_type": "markdown",
      "metadata": {
        "id": "YKPifX09Bo7m"
      },
      "source": [
        "#### 37. Create a 5x5 matrix with row values ranging from 0 to 4 (★★☆) \n",
        "(**hint**: np.arange)"
      ]
    },
    {
      "cell_type": "code",
      "execution_count": 40,
      "metadata": {
        "id": "0l1Gm3WLBo7n",
        "colab": {
          "base_uri": "https://localhost:8080/"
        },
        "outputId": "470e9adb-4174-40df-b8cd-231e89e3e869"
      },
      "outputs": [
        {
          "output_type": "execute_result",
          "data": {
            "text/plain": [
              "array([[0, 1, 2, 3, 4],\n",
              "       [0, 1, 2, 3, 4],\n",
              "       [0, 1, 2, 3, 4],\n",
              "       [0, 1, 2, 3, 4],\n",
              "       [0, 1, 2, 3, 4]])"
            ]
          },
          "metadata": {},
          "execution_count": 40
        }
      ],
      "source": [
        "x = np.zeros((5,5),dtype= int)\n",
        "x += np.arange(5)\n",
        "x"
      ]
    },
    {
      "cell_type": "markdown",
      "metadata": {
        "id": "vXkgjKuGBo7t"
      },
      "source": [
        "#### 38. Consider a generator function that generates 10 integers and use it to build an array (★☆☆) \n",
        "(**hint**: np.fromiter)"
      ]
    },
    {
      "cell_type": "code",
      "execution_count": 41,
      "metadata": {
        "id": "_GvqEr4tBo7v",
        "colab": {
          "base_uri": "https://localhost:8080/"
        },
        "outputId": "cc835c97-8bdf-4b5e-a0c9-0e7482fa82c8"
      },
      "outputs": [
        {
          "output_type": "stream",
          "name": "stdout",
          "text": [
            "[0. 1. 2. 3. 4. 5. 6. 7. 8. 9.]\n"
          ]
        }
      ],
      "source": [
        "def generate():\n",
        "  for i in range(10):yield i \n",
        "y = np.fromiter(generate(), dtype = float, count = -1)\n",
        "print(y)"
      ]
    },
    {
      "cell_type": "markdown",
      "metadata": {
        "id": "rH5chnflBo7w"
      },
      "source": [
        "#### 39. Create a vector of size 10 with values ranging from 0 to 1, both excluded (★★☆) \n",
        "(**hint**: np.linspace)"
      ]
    },
    {
      "cell_type": "code",
      "execution_count": 42,
      "metadata": {
        "id": "1tS2lCL3Bo7z",
        "colab": {
          "base_uri": "https://localhost:8080/"
        },
        "outputId": "a25e5cc0-fe70-4acd-ae77-9c77dc963ac9"
      },
      "outputs": [
        {
          "output_type": "execute_result",
          "data": {
            "text/plain": [
              "array([0.09090909, 0.18181818, 0.27272727, 0.36363636, 0.45454545,\n",
              "       0.54545455, 0.63636364, 0.72727273, 0.81818182, 0.90909091])"
            ]
          },
          "metadata": {},
          "execution_count": 42
        }
      ],
      "source": [
        "x = np.linspace(0,1,11,endpoint = False)[1:]\n",
        "x"
      ]
    },
    {
      "cell_type": "markdown",
      "metadata": {
        "id": "8Hgtt-3WBo70"
      },
      "source": [
        "#### 40. Create a random vector of size 10 and sort it (★★☆) \n",
        "(**hint**: sort)"
      ]
    },
    {
      "cell_type": "code",
      "execution_count": 43,
      "metadata": {
        "id": "DZ1p8xL6Bo72",
        "colab": {
          "base_uri": "https://localhost:8080/"
        },
        "outputId": "dd14a470-86bb-47f1-8397-224964b2eb31"
      },
      "outputs": [
        {
          "output_type": "execute_result",
          "data": {
            "text/plain": [
              "array([0.03057059, 0.09273669, 0.30079792, 0.43707397, 0.57579563,\n",
              "       0.59172547, 0.71499962, 0.83784794, 0.91444688, 0.98721458])"
            ]
          },
          "metadata": {},
          "execution_count": 43
        }
      ],
      "source": [
        "x = np.random.random(10)\n",
        "x.sort()\n",
        "x"
      ]
    },
    {
      "cell_type": "markdown",
      "metadata": {
        "id": "h5EO5CoRBo73"
      },
      "source": [
        "#### 41. How to sum a small array faster than np.sum? (★★☆) \n",
        "(**hint**: np.add.reduce)"
      ]
    },
    {
      "cell_type": "code",
      "execution_count": 44,
      "metadata": {
        "id": "fD7B80wpBo75",
        "colab": {
          "base_uri": "https://localhost:8080/"
        },
        "outputId": "d78f0690-f5b0-4c0f-e372-9e37d03a304f"
      },
      "outputs": [
        {
          "output_type": "execute_result",
          "data": {
            "text/plain": [
              "45"
            ]
          },
          "metadata": {},
          "execution_count": 44
        }
      ],
      "source": [
        "x = np.arange(10)\n",
        "np.add.reduce(x)"
      ]
    },
    {
      "cell_type": "markdown",
      "metadata": {
        "id": "M5gGwA8DBo77"
      },
      "source": [
        "#### 42. Consider two random array A and B, check if they are equal (★★☆) \n",
        "(**hint**: np.allclose, np.array\\_equal)"
      ]
    },
    {
      "cell_type": "code",
      "execution_count": 45,
      "metadata": {
        "id": "0pKfE0LjBo8A",
        "colab": {
          "base_uri": "https://localhost:8080/"
        },
        "outputId": "5a0a78e1-9447-4d27-ae9b-abdbe5f8d67f"
      },
      "outputs": [
        {
          "output_type": "stream",
          "name": "stdout",
          "text": [
            "False\n",
            "False\n"
          ]
        }
      ],
      "source": [
        "x = np.random.randint(0,2,5)\n",
        "y = np.random.randint(0,2,5)\n",
        "e = np.allclose(x,y)\n",
        "print(e)\n",
        "e = np.array_equal(x,y)\n",
        "print(e)"
      ]
    },
    {
      "cell_type": "markdown",
      "metadata": {
        "id": "mMQiDr2LBo8B"
      },
      "source": [
        "#### 43. Make an array immutable (read-only) (★★☆) \n",
        "(**hint**: flags.writeable)"
      ]
    },
    {
      "cell_type": "code",
      "execution_count": 46,
      "metadata": {
        "id": "_N_jYuqfBo8D"
      },
      "outputs": [],
      "source": [
        "x = np.zeros(10)\n",
        "x.flags.writeable = False\n"
      ]
    },
    {
      "cell_type": "markdown",
      "metadata": {
        "id": "pQJagVDNBo8E"
      },
      "source": [
        "#### 44. Consider a random 10x2 matrix representing cartesian coordinates, convert them to polar coordinates (★★☆) \n",
        "(**hint**: np.sqrt, np.arctan2)"
      ]
    },
    {
      "cell_type": "code",
      "execution_count": 47,
      "metadata": {
        "id": "e_cwbXEBBo8G",
        "colab": {
          "base_uri": "https://localhost:8080/"
        },
        "outputId": "2bd0a028-1021-43d6-b339-d562c93d7c6c"
      },
      "outputs": [
        {
          "output_type": "stream",
          "name": "stdout",
          "text": [
            "[0.90850288 0.87159428 0.98553039 0.91972172 0.29991413 0.33557748\n",
            " 0.90671834 0.4971723  0.65759854 0.0375419 ]\n",
            "[1.06232065e+00 8.17516662e-01 9.40699326e-01 8.07583567e-01\n",
            " 6.86775573e-01 8.69438163e-01 7.49649997e-01 1.16931006e+00\n",
            " 4.79619205e-01 9.29129232e-04]\n"
          ]
        }
      ],
      "source": [
        "x = np.random.random((10,2))\n",
        "y,z = x[:,0], x[:,1]\n",
        "r = np.sqrt(y**2 + z**2)\n",
        "t = np.arctan2(z,y)\n",
        "print(r)\n",
        "print(t)"
      ]
    },
    {
      "cell_type": "markdown",
      "metadata": {
        "id": "x_dDK4_XBo8H"
      },
      "source": [
        "#### 45. Create random vector of size 10 and replace the maximum value by 0 (★★☆) \n",
        "(**hint**: argmax)"
      ]
    },
    {
      "cell_type": "code",
      "execution_count": 48,
      "metadata": {
        "id": "V4h-n-OqBo8J",
        "colab": {
          "base_uri": "https://localhost:8080/"
        },
        "outputId": "95e73fac-6f81-4af2-89d2-c7e45987b530"
      },
      "outputs": [
        {
          "output_type": "stream",
          "name": "stdout",
          "text": [
            "[0.         0.29212243 0.83296494 0.66872326 0.59483077 0.09807765\n",
            " 0.89311847 0.12441702 0.86886776 0.7546534 ]\n"
          ]
        }
      ],
      "source": [
        "x = np.random.random(10)\n",
        "x[x.argmax()] = 0 \n",
        "print(x)"
      ]
    },
    {
      "cell_type": "markdown",
      "metadata": {
        "id": "gPhkxKMpBo8M"
      },
      "source": [
        "#### 46. Create a structured array with `x` and `y` coordinates covering the \\[0,1\\]x\\[0,1\\] area (★★☆) \n",
        "(**hint**: np.meshgrid)"
      ]
    },
    {
      "cell_type": "code",
      "execution_count": 49,
      "metadata": {
        "id": "3tyrCkaaBo8O",
        "colab": {
          "base_uri": "https://localhost:8080/"
        },
        "outputId": "80b267c4-b215-4be3-b824-a4d2ea9fe261"
      },
      "outputs": [
        {
          "output_type": "execute_result",
          "data": {
            "text/plain": [
              "array([[(0.  , 0.  ), (0.25, 0.  ), (0.5 , 0.  ), (0.75, 0.  ),\n",
              "        (1.  , 0.  )],\n",
              "       [(0.  , 0.25), (0.25, 0.25), (0.5 , 0.25), (0.75, 0.25),\n",
              "        (1.  , 0.25)],\n",
              "       [(0.  , 0.5 ), (0.25, 0.5 ), (0.5 , 0.5 ), (0.75, 0.5 ),\n",
              "        (1.  , 0.5 )],\n",
              "       [(0.  , 0.75), (0.25, 0.75), (0.5 , 0.75), (0.75, 0.75),\n",
              "        (1.  , 0.75)],\n",
              "       [(0.  , 1.  ), (0.25, 1.  ), (0.5 , 1.  ), (0.75, 1.  ),\n",
              "        (1.  , 1.  )]], dtype=[('x', '<f8'), ('y', '<f8')])"
            ]
          },
          "metadata": {},
          "execution_count": 49
        }
      ],
      "source": [
        "x = np.zeros((5,5),[('x',float),('y',float)])\n",
        "x['x'],x['y'] = np.meshgrid(np.linspace(0,1,5),np.linspace(0,1,5))\n",
        "x"
      ]
    },
    {
      "cell_type": "markdown",
      "metadata": {
        "id": "YD6kL6dEBo8P"
      },
      "source": [
        "####  47. Given two arrays, X and Y, construct the Cauchy matrix C (Cij =1/(xi - yj)) \n",
        "(**hint**: np.subtract.outer)"
      ]
    },
    {
      "cell_type": "code",
      "execution_count": 50,
      "metadata": {
        "id": "2R3WaVqXBo8R",
        "colab": {
          "base_uri": "https://localhost:8080/"
        },
        "outputId": "07649601-8edc-4df7-8fea-52c3c8b7e704"
      },
      "outputs": [
        {
          "output_type": "stream",
          "name": "stdout",
          "text": [
            "3638.163637117973\n"
          ]
        }
      ],
      "source": [
        "x = np.arange(8)\n",
        "y = x + 0.5 \n",
        "c = 1.0 / np.subtract.outer(x,y)\n",
        "print(np.linalg.det(c))"
      ]
    },
    {
      "cell_type": "markdown",
      "metadata": {
        "id": "baz6mQB3Bo8T"
      },
      "source": [
        "#### 48. Print the minimum and maximum representable value for each numpy scalar type (★★☆) \n",
        "(**hint**: np.iinfo, np.finfo, eps)"
      ]
    },
    {
      "cell_type": "code",
      "execution_count": 51,
      "metadata": {
        "id": "rtQy07mOBo8U",
        "colab": {
          "base_uri": "https://localhost:8080/"
        },
        "outputId": "f7e126ea-d08e-4247-d780-de4a68ff475a"
      },
      "outputs": [
        {
          "output_type": "stream",
          "name": "stdout",
          "text": [
            "-128\n",
            "127\n",
            "-2147483648\n",
            "2147483647\n",
            "-9223372036854775808\n",
            "9223372036854775807\n",
            "-3.4028235e+38\n",
            "3.4028235e+38\n",
            "1.1920929e-07\n",
            "-1.7976931348623157e+308\n",
            "1.7976931348623157e+308\n",
            "2.220446049250313e-16\n"
          ]
        }
      ],
      "source": [
        "for dtype in [np.int8, np.int32 , np.int64]:\n",
        "  print(np.iinfo(dtype).min)\n",
        "  print(np.iinfo(dtype).max)\n",
        "for dtype in [np.float32, np.float64]:\n",
        "  print(np.finfo(dtype).min)\n",
        "  print(np.finfo(dtype).max)\n",
        "  print(np.finfo(dtype).eps)"
      ]
    },
    {
      "cell_type": "markdown",
      "metadata": {
        "id": "HwwL9FzABo8W"
      },
      "source": [
        "#### 49. How to print all the values of an array? (★★☆) \n",
        "(**hint**: np.set\\_printoptions)"
      ]
    },
    {
      "cell_type": "code",
      "execution_count": 52,
      "metadata": {
        "id": "7pzCNI0NBo8Z",
        "colab": {
          "base_uri": "https://localhost:8080/"
        },
        "outputId": "cc9da043-c1e3-455b-adc8-664a1a7b0174"
      },
      "outputs": [
        {
          "output_type": "stream",
          "name": "stdout",
          "text": [
            "[[0. 0. 0. 0. 0. 0. 0. 0. 0. 0. 0. 0. 0. 0. 0. 0.]\n",
            " [0. 0. 0. 0. 0. 0. 0. 0. 0. 0. 0. 0. 0. 0. 0. 0.]\n",
            " [0. 0. 0. 0. 0. 0. 0. 0. 0. 0. 0. 0. 0. 0. 0. 0.]\n",
            " [0. 0. 0. 0. 0. 0. 0. 0. 0. 0. 0. 0. 0. 0. 0. 0.]\n",
            " [0. 0. 0. 0. 0. 0. 0. 0. 0. 0. 0. 0. 0. 0. 0. 0.]\n",
            " [0. 0. 0. 0. 0. 0. 0. 0. 0. 0. 0. 0. 0. 0. 0. 0.]\n",
            " [0. 0. 0. 0. 0. 0. 0. 0. 0. 0. 0. 0. 0. 0. 0. 0.]\n",
            " [0. 0. 0. 0. 0. 0. 0. 0. 0. 0. 0. 0. 0. 0. 0. 0.]\n",
            " [0. 0. 0. 0. 0. 0. 0. 0. 0. 0. 0. 0. 0. 0. 0. 0.]\n",
            " [0. 0. 0. 0. 0. 0. 0. 0. 0. 0. 0. 0. 0. 0. 0. 0.]\n",
            " [0. 0. 0. 0. 0. 0. 0. 0. 0. 0. 0. 0. 0. 0. 0. 0.]\n",
            " [0. 0. 0. 0. 0. 0. 0. 0. 0. 0. 0. 0. 0. 0. 0. 0.]\n",
            " [0. 0. 0. 0. 0. 0. 0. 0. 0. 0. 0. 0. 0. 0. 0. 0.]\n",
            " [0. 0. 0. 0. 0. 0. 0. 0. 0. 0. 0. 0. 0. 0. 0. 0.]\n",
            " [0. 0. 0. 0. 0. 0. 0. 0. 0. 0. 0. 0. 0. 0. 0. 0.]\n",
            " [0. 0. 0. 0. 0. 0. 0. 0. 0. 0. 0. 0. 0. 0. 0. 0.]]\n"
          ]
        }
      ],
      "source": [
        "np.set_printoptions()\n",
        "x = np.zeros((16,16))\n",
        "print(x)"
      ]
    },
    {
      "cell_type": "markdown",
      "metadata": {
        "id": "HHtsIkfTBo8a"
      },
      "source": [
        "#### 50. How to find the closest value (to a given scalar) in a vector? (★★☆) \n",
        "(**hint**: argmin)"
      ]
    },
    {
      "cell_type": "code",
      "execution_count": 53,
      "metadata": {
        "id": "zSSmXs7pBo8d",
        "colab": {
          "base_uri": "https://localhost:8080/"
        },
        "outputId": "a09a56fb-6a6c-46a3-f944-84340c6bd27f"
      },
      "outputs": [
        {
          "output_type": "stream",
          "name": "stdout",
          "text": [
            "43\n"
          ]
        }
      ],
      "source": [
        "x = np.arange(100)\n",
        "y = np.random.uniform(0,100)\n",
        "index = (np.abs(x-y)).argmin()\n",
        "print(x[index])"
      ]
    },
    {
      "cell_type": "markdown",
      "metadata": {
        "id": "AoFLov7dBo8g"
      },
      "source": [
        "#### 51. Create a structured array representing a position (x,y) and a color (r,g,b) (★★☆) \n",
        "(**hint**: dtype)"
      ]
    },
    {
      "cell_type": "code",
      "execution_count": 54,
      "metadata": {
        "id": "TeNAmnXeBo8j",
        "colab": {
          "base_uri": "https://localhost:8080/"
        },
        "outputId": "e913a00c-8b49-4bdc-b6fa-007e9bb9a50a"
      },
      "outputs": [
        {
          "output_type": "stream",
          "name": "stdout",
          "text": [
            "[((0., 0.), (0., 0., 0.)) ((0., 0.), (0., 0., 0.))\n",
            " ((0., 0.), (0., 0., 0.)) ((0., 0.), (0., 0., 0.))\n",
            " ((0., 0.), (0., 0., 0.)) ((0., 0.), (0., 0., 0.))\n",
            " ((0., 0.), (0., 0., 0.)) ((0., 0.), (0., 0., 0.))\n",
            " ((0., 0.), (0., 0., 0.)) ((0., 0.), (0., 0., 0.))]\n"
          ]
        },
        {
          "output_type": "stream",
          "name": "stderr",
          "text": [
            "<ipython-input-54-a09e702c813f>:1: FutureWarning: Passing (type, 1) or '1type' as a synonym of type is deprecated; in a future version of numpy, it will be understood as (type, (1,)) / '(1,)type'.\n",
            "  x = np.zeros(10,[('position',[('x', float, 1),\n"
          ]
        }
      ],
      "source": [
        "x = np.zeros(10,[('position',[('x', float, 1),\n",
        "                              ('y', float, 1)]),\n",
        "                 ('color',[('r',float,1),\n",
        "                           ('g',float,1),\n",
        "                           ('b',float,1)])])\n",
        "print(x)"
      ]
    },
    {
      "cell_type": "markdown",
      "metadata": {
        "id": "rAHIMrDiBo8k"
      },
      "source": [
        "#### 52. Consider a random vector with shape (100,2) representing coordinates, find point by point distances (★★☆) \n",
        "(**hint**: np.atleast\\_2d, T, np.sqrt)"
      ]
    },
    {
      "cell_type": "code",
      "execution_count": 55,
      "metadata": {
        "id": "ZRr1jpZDBo8m",
        "colab": {
          "base_uri": "https://localhost:8080/"
        },
        "outputId": "4c4ba2b7-866f-4cf1-9412-8348535c1c0b"
      },
      "outputs": [
        {
          "output_type": "stream",
          "name": "stdout",
          "text": [
            "[[0.         0.32882995 0.38006328 ... 0.4889682  0.37990677 0.46024142]\n",
            " [0.32882995 0.         0.7086288  ... 0.76318923 0.67933129 0.53488728]\n",
            " [0.38006328 0.7086288  0.         ... 0.35486447 0.23706134 0.61343311]\n",
            " ...\n",
            " [0.4889682  0.76318923 0.35486447 ... 0.         0.13147341 0.89032721]\n",
            " [0.37990677 0.67933129 0.23706134 ... 0.13147341 0.         0.76106295]\n",
            " [0.46024142 0.53488728 0.61343311 ... 0.89032721 0.76106295 0.        ]]\n"
          ]
        }
      ],
      "source": [
        "import scipy\n",
        "import scipy.spatial\n",
        "z = np.random.random((100,2))\n",
        "d = scipy.spatial.distance.cdist(z,z)\n",
        "print(d)"
      ]
    },
    {
      "cell_type": "markdown",
      "metadata": {
        "id": "b8C_dt0-Bo8n"
      },
      "source": [
        "#### 53. How to convert a float (32 bits) array into an integer (32 bits) in place? \n",
        "(**hint**: astype(copy=False))"
      ]
    },
    {
      "cell_type": "code",
      "execution_count": 56,
      "metadata": {
        "id": "JSFD0CsSBo8q",
        "colab": {
          "base_uri": "https://localhost:8080/"
        },
        "outputId": "b6ec4c98-16a0-4e19-ac4b-0487daf90c80"
      },
      "outputs": [
        {
          "output_type": "execute_result",
          "data": {
            "text/plain": [
              "array([0, 1, 2, 3, 4, 5, 6, 7, 8, 9], dtype=int32)"
            ]
          },
          "metadata": {},
          "execution_count": 56
        }
      ],
      "source": [
        "x = np.arange(10, dtype = np.float32)\n",
        "x = x.astype(np.int32, copy = False)\n",
        "x "
      ]
    },
    {
      "cell_type": "markdown",
      "metadata": {
        "id": "ko0RJuRMBo8s"
      },
      "source": [
        "#### 54. How to read the following file? (★★☆) \n",
        "(**hint**: np.genfromtxt)"
      ]
    },
    {
      "cell_type": "markdown",
      "metadata": {
        "id": "6XNhN4ZNBo8v"
      },
      "source": [
        "```\n",
        "1, 2, 3, 4, 5\n",
        "6,  ,  , 7, 8\n",
        " ,  , 9,10,11\n",
        "```"
      ]
    },
    {
      "cell_type": "code",
      "execution_count": 57,
      "metadata": {
        "id": "k_hesP_aBo8x",
        "colab": {
          "base_uri": "https://localhost:8080/"
        },
        "outputId": "e074cd4d-673e-4cf6-844e-49436be4bddf"
      },
      "outputs": [
        {
          "output_type": "stream",
          "name": "stdout",
          "text": [
            "[[ 1  2  3  4  5]\n",
            " [ 6 -1 -1  7  8]\n",
            " [-1 -1  9 10 11]]\n"
          ]
        },
        {
          "output_type": "stream",
          "name": "stderr",
          "text": [
            "<ipython-input-57-88d4e89eef54>:4: DeprecationWarning: `np.int` is a deprecated alias for the builtin `int`. To silence this warning, use `int` by itself. Doing this will not modify any behavior and is safe. When replacing `np.int`, you may wish to use e.g. `np.int64` or `np.int32` to specify the precision. If you wish to review your current use, check the release note link for additional information.\n",
            "Deprecated in NumPy 1.20; for more details and guidance: https://numpy.org/devdocs/release/1.20.0-notes.html#deprecations\n",
            "  x = np.genfromtxt(s, delimiter=',', dtype=np.int)\n"
          ]
        }
      ],
      "source": [
        "from numpy.lib.npyio import genfromtxt\n",
        "from io import StringIO \n",
        "s = StringIO(\"\"\"1, 2, 3, 4, 5\\n6,  ,  , 7, 8\\n ,  , 9,10,11\\n\"\"\")\n",
        "x = np.genfromtxt(s, delimiter=',', dtype=np.int)\n",
        "print(x)"
      ]
    },
    {
      "cell_type": "markdown",
      "metadata": {
        "id": "F4vngigpBo8y"
      },
      "source": [
        "#### 55. What is the equivalent of enumerate for numpy arrays? (★★☆) \n",
        "(**hint**: np.ndenumerate, np.ndindex)"
      ]
    },
    {
      "cell_type": "code",
      "execution_count": 58,
      "metadata": {
        "id": "oONxrEIVBo80",
        "colab": {
          "base_uri": "https://localhost:8080/"
        },
        "outputId": "bb6b8284-981d-44ac-9aa8-0525843a823b"
      },
      "outputs": [
        {
          "output_type": "stream",
          "name": "stdout",
          "text": [
            "(0, 0) 0\n",
            "(0, 1) 1\n",
            "(0, 2) 2\n",
            "(1, 0) 3\n",
            "(1, 1) 4\n",
            "(1, 2) 5\n",
            "(2, 0) 6\n",
            "(2, 1) 7\n",
            "(2, 2) 8\n",
            "(0, 0) 0\n",
            "(0, 1) 1\n",
            "(0, 2) 2\n",
            "(1, 0) 3\n",
            "(1, 1) 4\n",
            "(1, 2) 5\n",
            "(2, 0) 6\n",
            "(2, 1) 7\n",
            "(2, 2) 8\n"
          ]
        }
      ],
      "source": [
        "x = np.arange(9).reshape(3,3)\n",
        "for index, value in np.ndenumerate(x):\n",
        "  print(index, value)\n",
        "for index in np.ndindex(x.shape):\n",
        "  print(index, x[index])"
      ]
    },
    {
      "cell_type": "markdown",
      "metadata": {
        "id": "JrbTTEvzBo81"
      },
      "source": [
        "#### 56. Generate a generic 2D Gaussian-like array (★★☆) \n",
        "(**hint**: np.meshgrid, np.exp)"
      ]
    },
    {
      "cell_type": "code",
      "execution_count": 59,
      "metadata": {
        "id": "sRnl_cSuBo84",
        "colab": {
          "base_uri": "https://localhost:8080/"
        },
        "outputId": "bde6208b-6123-42e6-fad2-cf49586cfaf8"
      },
      "outputs": [
        {
          "output_type": "stream",
          "name": "stdout",
          "text": [
            "[[0.36787944 0.44822088 0.51979489 0.57375342 0.60279818 0.60279818\n",
            "  0.57375342 0.51979489 0.44822088 0.36787944]\n",
            " [0.44822088 0.54610814 0.63331324 0.69905581 0.73444367 0.73444367\n",
            "  0.69905581 0.63331324 0.54610814 0.44822088]\n",
            " [0.51979489 0.63331324 0.73444367 0.81068432 0.85172308 0.85172308\n",
            "  0.81068432 0.73444367 0.63331324 0.51979489]\n",
            " [0.57375342 0.69905581 0.81068432 0.89483932 0.9401382  0.9401382\n",
            "  0.89483932 0.81068432 0.69905581 0.57375342]\n",
            " [0.60279818 0.73444367 0.85172308 0.9401382  0.98773022 0.98773022\n",
            "  0.9401382  0.85172308 0.73444367 0.60279818]\n",
            " [0.60279818 0.73444367 0.85172308 0.9401382  0.98773022 0.98773022\n",
            "  0.9401382  0.85172308 0.73444367 0.60279818]\n",
            " [0.57375342 0.69905581 0.81068432 0.89483932 0.9401382  0.9401382\n",
            "  0.89483932 0.81068432 0.69905581 0.57375342]\n",
            " [0.51979489 0.63331324 0.73444367 0.81068432 0.85172308 0.85172308\n",
            "  0.81068432 0.73444367 0.63331324 0.51979489]\n",
            " [0.44822088 0.54610814 0.63331324 0.69905581 0.73444367 0.73444367\n",
            "  0.69905581 0.63331324 0.54610814 0.44822088]\n",
            " [0.36787944 0.44822088 0.51979489 0.57375342 0.60279818 0.60279818\n",
            "  0.57375342 0.51979489 0.44822088 0.36787944]]\n"
          ]
        }
      ],
      "source": [
        "x,y = np.meshgrid(np.linspace(-1,1,10), np.linspace(-1,1,10))\n",
        "d = np.sqrt(x*x + y*y)\n",
        "sigma , mu = 1.0, 0.0\n",
        "g = np.exp(-( (d-mu)**2 / (2.0 * sigma**2)))\n",
        "print(g)"
      ]
    },
    {
      "cell_type": "markdown",
      "metadata": {
        "id": "ACtReHsqBo85"
      },
      "source": [
        "#### 57. How to randomly place p elements in a 2D array? (★★☆) \n",
        "(**hint**: np.put, np.random.choice)"
      ]
    },
    {
      "cell_type": "code",
      "execution_count": 60,
      "metadata": {
        "id": "4jPEeCiaBo87",
        "colab": {
          "base_uri": "https://localhost:8080/"
        },
        "outputId": "60a9376c-ba30-48ac-b391-506d7c3a72cb"
      },
      "outputs": [
        {
          "output_type": "stream",
          "name": "stdout",
          "text": [
            "[[0. 0. 1. 0. 0. 0. 0. 1. 0. 0.]\n",
            " [0. 0. 0. 0. 0. 0. 0. 0. 0. 0.]\n",
            " [0. 0. 0. 0. 0. 0. 0. 0. 0. 0.]\n",
            " [0. 0. 0. 0. 0. 0. 1. 0. 0. 0.]\n",
            " [0. 0. 0. 0. 0. 0. 0. 0. 0. 0.]\n",
            " [0. 0. 0. 0. 0. 0. 0. 0. 0. 0.]\n",
            " [0. 0. 0. 0. 0. 0. 0. 0. 0. 0.]\n",
            " [0. 0. 0. 0. 0. 0. 0. 0. 0. 0.]\n",
            " [0. 0. 0. 0. 0. 0. 0. 0. 0. 0.]\n",
            " [0. 0. 0. 0. 0. 0. 0. 0. 0. 0.]]\n"
          ]
        }
      ],
      "source": [
        "n = 10\n",
        "p = 3 \n",
        "x = np.zeros((n,n))\n",
        "np.put(x,np.random.choice(range(n*n),p,replace = False),1)\n",
        "print(x)"
      ]
    },
    {
      "cell_type": "markdown",
      "metadata": {
        "id": "70xvXcM6Bo9C"
      },
      "source": [
        "#### 58. Subtract the mean of each row of a matrix (★★☆) \n",
        "(**hint**: mean(axis=,keepdims=))"
      ]
    },
    {
      "cell_type": "code",
      "execution_count": 61,
      "metadata": {
        "id": "sJn4VfZoBo9E",
        "colab": {
          "base_uri": "https://localhost:8080/"
        },
        "outputId": "fb43321d-a9e0-448e-e612-23a6a936031c"
      },
      "outputs": [
        {
          "output_type": "stream",
          "name": "stdout",
          "text": [
            "[[ 0.10798576 -0.00294078 -0.16453198  0.51988142  0.42370374  0.11720896\n",
            "  -0.13407008 -0.29581267 -0.28632188 -0.28510248]\n",
            " [-0.40828488  0.07068232  0.19511495  0.08141573 -0.29731047  0.00783917\n",
            "  -0.19936156  0.06082762  0.27356938  0.21550773]\n",
            " [-0.38132883  0.42185535  0.09980816  0.35640299 -0.55789687 -0.41320408\n",
            "   0.23131122  0.33692594 -0.05918636 -0.03468752]\n",
            " [-0.37100455 -0.23731448 -0.2755364  -0.2558413  -0.08002229  0.36282366\n",
            "   0.1683687   0.06716561  0.4084242   0.21293684]\n",
            " [ 0.04826134  0.35213251 -0.18775134 -0.36189127  0.01996203 -0.28047973\n",
            "   0.22204613  0.3782234   0.13362271 -0.32412578]]\n"
          ]
        }
      ],
      "source": [
        "x = np.random.rand(5,10)\n",
        "y = x-x.mean(axis =1 , keepdims= True)\n",
        "y = x-x.mean(axis=1).reshape(-1,1)\n",
        "print(y)"
      ]
    },
    {
      "cell_type": "markdown",
      "metadata": {
        "id": "3fxklJ8OBo9K"
      },
      "source": [
        "#### 59. How to sort an array by the nth column? (★★☆) \n",
        "(**hint**: argsort)"
      ]
    },
    {
      "cell_type": "code",
      "execution_count": 62,
      "metadata": {
        "id": "6Q06WN9JBo9M",
        "colab": {
          "base_uri": "https://localhost:8080/"
        },
        "outputId": "ac2c4231-d549-4c69-cf8f-0c9d5c9b96f8"
      },
      "outputs": [
        {
          "output_type": "stream",
          "name": "stdout",
          "text": [
            "[[9 1 4]\n",
            " [5 5 8]\n",
            " [7 6 1]]\n",
            "[[9 1 4]\n",
            " [5 5 8]\n",
            " [7 6 1]]\n"
          ]
        }
      ],
      "source": [
        "x = np.random.randint(0,10,(3,3))\n",
        "print(x)\n",
        "print(x[x[:,1].argsort()])"
      ]
    },
    {
      "cell_type": "markdown",
      "metadata": {
        "id": "WVuNBWKaBo9P"
      },
      "source": [
        "#### 60. How to tell if a given 2D array has null columns? (★★☆) \n",
        "(**hint**: any, ~)"
      ]
    },
    {
      "cell_type": "code",
      "execution_count": 63,
      "metadata": {
        "id": "aohxaeC8Bo9R",
        "colab": {
          "base_uri": "https://localhost:8080/"
        },
        "outputId": "4c2da467-ca62-4762-98b3-e3dffd213c37"
      },
      "outputs": [
        {
          "output_type": "stream",
          "name": "stdout",
          "text": [
            "True\n"
          ]
        }
      ],
      "source": [
        "x = np.random.randint(0,3,(3,10))\n",
        "print((~x.any(axis=0)).any())"
      ]
    },
    {
      "cell_type": "markdown",
      "metadata": {
        "id": "AuCdELAwBo9S"
      },
      "source": [
        "#### 61. Find the nearest value from a given value in an array (★★☆) \n",
        "(**hint**: np.abs, argmin, flat)"
      ]
    },
    {
      "cell_type": "code",
      "execution_count": 64,
      "metadata": {
        "id": "wo-2750TBo9U",
        "colab": {
          "base_uri": "https://localhost:8080/"
        },
        "outputId": "3e55fa7c-f276-4123-aadc-68e7b470901b"
      },
      "outputs": [
        {
          "output_type": "stream",
          "name": "stdout",
          "text": [
            "0.41088008215442084\n"
          ]
        }
      ],
      "source": [
        "x = np.random.uniform(0,1,10)\n",
        "y = 0.5\n",
        "m =x.flat[np.abs(x - y).argmin()]\n",
        "print(m)"
      ]
    },
    {
      "cell_type": "markdown",
      "metadata": {
        "id": "Jhr87sKHBo9U"
      },
      "source": [
        "#### 62. Considering two arrays with shape (1,3) and (3,1), how to compute their sum using an iterator? (★★☆) \n",
        "(**hint**: np.nditer)"
      ]
    },
    {
      "cell_type": "code",
      "execution_count": 65,
      "metadata": {
        "id": "n7pI952RBo9W",
        "colab": {
          "base_uri": "https://localhost:8080/"
        },
        "outputId": "62cf3811-17a0-4db6-8d8a-55882afe57a1"
      },
      "outputs": [
        {
          "output_type": "stream",
          "name": "stdout",
          "text": [
            "[[0 1 2]\n",
            " [1 2 3]\n",
            " [2 3 4]]\n"
          ]
        }
      ],
      "source": [
        "a = np.arange(3).reshape(3,1)\n",
        "b = np.arange(3).reshape(1,3)\n",
        "it = np.nditer([a,b,None])\n",
        "for x,y,z in it:\n",
        "   z[...] = x + y\n",
        "print(it.operands[2]) "
      ]
    },
    {
      "cell_type": "markdown",
      "metadata": {
        "id": "49iRNN7yBo9W"
      },
      "source": [
        "#### 63. Create an array class that has a name attribute (★★☆) \n",
        "(**hint**: class method)"
      ]
    },
    {
      "cell_type": "code",
      "execution_count": 66,
      "metadata": {
        "id": "miqyCzIFBo9Y",
        "colab": {
          "base_uri": "https://localhost:8080/"
        },
        "outputId": "ea257c60-c36b-44c8-a239-972924c49196"
      },
      "outputs": [
        {
          "output_type": "stream",
          "name": "stdout",
          "text": [
            "range_10\n"
          ]
        }
      ],
      "source": [
        "class NamedArray(np.ndarray):\n",
        "    def __new__(cls, array, name=\"no name\"):\n",
        "        obj = np.asarray(array).view(cls)\n",
        "        obj.name = name\n",
        "        return obj\n",
        "    def __array_finalize__(self, obj):\n",
        "        if obj is None: return\n",
        "        self.info = getattr(obj, 'name', \"no name\")\n",
        "\n",
        "Z = NamedArray(np.arange(10), \"range_10\")\n",
        "print (Z.name)"
      ]
    },
    {
      "cell_type": "markdown",
      "metadata": {
        "id": "5MCj2TWmBo9Z"
      },
      "source": [
        "#### 64. Consider a given vector, how to add 1 to each element indexed by a second vector (be careful with repeated indices)? (★★★) \n",
        "(**hint**: np.bincount | np.add.at)"
      ]
    },
    {
      "cell_type": "code",
      "execution_count": 67,
      "metadata": {
        "id": "EmpQclZVBo9a",
        "colab": {
          "base_uri": "https://localhost:8080/"
        },
        "outputId": "15c92b80-e1fe-4c68-d8cf-2e8992edda61"
      },
      "outputs": [
        {
          "output_type": "stream",
          "name": "stdout",
          "text": [
            "[2. 7. 3. 2. 2. 1. 4. 4. 1. 4.]\n"
          ]
        }
      ],
      "source": [
        "x = np.ones(10)\n",
        "i = np.random.randint(0,len(x),20)\n",
        "x += np.bincount(i, minlength= len(x))\n",
        "print(x)"
      ]
    },
    {
      "cell_type": "markdown",
      "metadata": {
        "id": "kdp-w-SYBo9a"
      },
      "source": [
        "#### 65. How to accumulate elements of a vector (X) to an array (F) based on an index list (I)? (★★★) \n",
        "(**hint**: np.bincount)"
      ]
    },
    {
      "cell_type": "code",
      "execution_count": 68,
      "metadata": {
        "id": "MqQ1np6rBo9b",
        "colab": {
          "base_uri": "https://localhost:8080/"
        },
        "outputId": "60e2794d-bd59-46ad-a4ff-5b0f6db81d68"
      },
      "outputs": [
        {
          "output_type": "stream",
          "name": "stdout",
          "text": [
            "[0. 7. 0. 6. 5. 0. 0. 0. 0. 3.]\n"
          ]
        }
      ],
      "source": [
        "x = [1,2,3,4,5,6]\n",
        "i = [1,3,9,3,4,1]\n",
        "f =np.bincount(i,x)\n",
        "print(f)"
      ]
    },
    {
      "cell_type": "markdown",
      "metadata": {
        "id": "qGq1i1pwBo9c"
      },
      "source": [
        "#### 66. Considering a (w,h,3) image of (dtype=ubyte), compute the number of unique colors (★★★) \n",
        "(**hint**: np.unique)"
      ]
    },
    {
      "cell_type": "code",
      "execution_count": 69,
      "metadata": {
        "id": "5oLCydzUBo9n",
        "colab": {
          "base_uri": "https://localhost:8080/"
        },
        "outputId": "fc5ba23b-eb3b-443c-864a-67a509b3c326"
      },
      "outputs": [
        {
          "output_type": "stream",
          "name": "stdout",
          "text": [
            "8\n"
          ]
        }
      ],
      "source": [
        "w,h = 16,16\n",
        "i =np.random.randint(0,2,(h,w,3)).astype(np.ubyte)\n",
        "f = i[...,0]*(256*256) + i[...,1]*256 +i[...,2]\n",
        "n = len(np.unique(f))\n",
        "print(n)"
      ]
    },
    {
      "cell_type": "markdown",
      "metadata": {
        "id": "qm7lbAjFBo9o"
      },
      "source": [
        "#### 67. Considering a four dimensions array, how to get sum over the last two axis at once? (★★★) \n",
        "(**hint**: sum(axis=(-2,-1)))"
      ]
    },
    {
      "cell_type": "code",
      "execution_count": 70,
      "metadata": {
        "id": "a-LGnHeDBo9p",
        "colab": {
          "base_uri": "https://localhost:8080/"
        },
        "outputId": "5f5886c7-a02f-487a-9ae8-5190c9aef521"
      },
      "outputs": [
        {
          "output_type": "stream",
          "name": "stdout",
          "text": [
            "3\n"
          ]
        }
      ],
      "source": [
        "sum =a.reshape(a.shape[:-2] + (-1,)).sum(axis=-1)\n",
        "print(sum)"
      ]
    },
    {
      "cell_type": "markdown",
      "metadata": {
        "id": "gVpi1wbPBo9q"
      },
      "source": [
        "#### 68. Considering a one-dimensional vector D, how to compute means of subsets of D using a vector S of same size describing subset  indices? (★★★) \n",
        "(**hint**: np.bincount)"
      ]
    },
    {
      "cell_type": "code",
      "execution_count": 71,
      "metadata": {
        "id": "3A99EzGcBo9r",
        "colab": {
          "base_uri": "https://localhost:8080/"
        },
        "outputId": "a249d226-5792-4cc1-c764-4041090fcadb"
      },
      "outputs": [
        {
          "output_type": "stream",
          "name": "stdout",
          "text": [
            "0      0.408973\n",
            "2      0.987828\n",
            "3      0.861477\n",
            "4      0.058141\n",
            "7      0.566477\n",
            "         ...   \n",
            "96     0.420489\n",
            "97     0.453783\n",
            "98     0.074384\n",
            "99     0.760630\n",
            "100    0.502663\n",
            "Length: 68, dtype: float64\n"
          ]
        }
      ],
      "source": [
        "import pandas as pd\n",
        "d =np.random.uniform(0,1,100)\n",
        "s = np.random.randint(0,101,100)\n",
        "print(pd.Series(d).groupby(s).mean())"
      ]
    },
    {
      "cell_type": "markdown",
      "metadata": {
        "id": "9xTCCe6HBo9r"
      },
      "source": [
        "#### 69. How to get the diagonal of a dot product? (★★★) \n",
        "(**hint**: np.diag)"
      ]
    },
    {
      "cell_type": "code",
      "execution_count": 72,
      "metadata": {
        "id": "26e_lRsuBo9s",
        "colab": {
          "base_uri": "https://localhost:8080/"
        },
        "outputId": "ca3da2a5-72bc-4ead-83b4-e2ba7065bfc0"
      },
      "outputs": [
        {
          "output_type": "stream",
          "name": "stdout",
          "text": [
            "[0.55672783 0.61254534 1.25315721 1.25546801 1.02150451]\n"
          ]
        }
      ],
      "source": [
        "a = np.random.uniform(0,1,(5,5))\n",
        "b = np.random.uniform(0,1,(5,5))\n",
        "print(np.sum(a * b.T, axis=1))"
      ]
    },
    {
      "cell_type": "markdown",
      "metadata": {
        "id": "zwxN5kk_Bo9t"
      },
      "source": [
        "#### 70. Consider the vector \\[1, 2, 3, 4, 5\\], how to build a new vector with 3 consecutive zeros interleaved between each value? (★★★) \n",
        "(**hint**: array\\[::4\\])"
      ]
    },
    {
      "cell_type": "code",
      "execution_count": 73,
      "metadata": {
        "id": "uWHNEndrBo9w",
        "colab": {
          "base_uri": "https://localhost:8080/"
        },
        "outputId": "032e89c5-6c33-472b-bd97-b347a7e7d15e"
      },
      "outputs": [
        {
          "output_type": "stream",
          "name": "stdout",
          "text": [
            "[1. 0. 0. 0. 2. 0. 0. 0. 3. 0. 0. 0. 4. 0. 0. 0. 5.]\n"
          ]
        }
      ],
      "source": [
        "x = np.array([1,2,3,4,5])\n",
        "nz = 3\n",
        "y = np.zeros(len(x) + (len(x)-1)*(nz))\n",
        "y[::nz+1] = x\n",
        "print(y)"
      ]
    },
    {
      "cell_type": "markdown",
      "metadata": {
        "id": "KH9mU1N3Bo9w"
      },
      "source": [
        "#### 71. Consider an array of dimension (5,5,3), how to mulitply it by an array with dimensions (5,5)? (★★★) \n",
        "(**hint**: array\\[:, :, None\\])"
      ]
    },
    {
      "cell_type": "code",
      "execution_count": 74,
      "metadata": {
        "collapsed": true,
        "id": "Ydqm9pdaBo9x",
        "colab": {
          "base_uri": "https://localhost:8080/"
        },
        "outputId": "3a976152-0dff-456b-d984-3ae1ae6c5da5"
      },
      "outputs": [
        {
          "output_type": "stream",
          "name": "stdout",
          "text": [
            "[[[2. 2. 2.]\n",
            "  [2. 2. 2.]\n",
            "  [2. 2. 2.]\n",
            "  [2. 2. 2.]\n",
            "  [2. 2. 2.]]\n",
            "\n",
            " [[2. 2. 2.]\n",
            "  [2. 2. 2.]\n",
            "  [2. 2. 2.]\n",
            "  [2. 2. 2.]\n",
            "  [2. 2. 2.]]\n",
            "\n",
            " [[2. 2. 2.]\n",
            "  [2. 2. 2.]\n",
            "  [2. 2. 2.]\n",
            "  [2. 2. 2.]\n",
            "  [2. 2. 2.]]\n",
            "\n",
            " [[2. 2. 2.]\n",
            "  [2. 2. 2.]\n",
            "  [2. 2. 2.]\n",
            "  [2. 2. 2.]\n",
            "  [2. 2. 2.]]\n",
            "\n",
            " [[2. 2. 2.]\n",
            "  [2. 2. 2.]\n",
            "  [2. 2. 2.]\n",
            "  [2. 2. 2.]\n",
            "  [2. 2. 2.]]]\n"
          ]
        }
      ],
      "source": [
        "a = np.ones((5,5,3))\n",
        "b = 2*np.ones((5,5))\n",
        "print(a * b[:,:,None])"
      ]
    },
    {
      "cell_type": "markdown",
      "metadata": {
        "id": "umkrTfvCBo9y"
      },
      "source": [
        "#### 72. How to swap two rows of an array? (★★★) \n",
        "(**hint**: array\\[\\[\\]\\] = array\\[\\[\\]\\])"
      ]
    },
    {
      "cell_type": "code",
      "execution_count": 75,
      "metadata": {
        "id": "pLvtiIDjBo90",
        "colab": {
          "base_uri": "https://localhost:8080/"
        },
        "outputId": "3f9dbb25-76ee-4b12-b198-252915326174"
      },
      "outputs": [
        {
          "output_type": "stream",
          "name": "stdout",
          "text": [
            "[[ 5  6  7  8  9]\n",
            " [ 0  1  2  3  4]\n",
            " [10 11 12 13 14]\n",
            " [15 16 17 18 19]\n",
            " [20 21 22 23 24]]\n"
          ]
        }
      ],
      "source": [
        "a = np.arange(25).reshape(5,5)\n",
        "a[[0,1]] = a[[1,0]]\n",
        "print(a)"
      ]
    },
    {
      "cell_type": "markdown",
      "metadata": {
        "id": "-cxTzWFRBo91"
      },
      "source": [
        "#### 73. Consider a set of 10 triplets describing 10 triangles (with shared vertices), find the set of unique line segments composing all the  triangles (★★★) \n",
        "(**hint**: repeat, np.roll, np.sort, view, np.unique)"
      ]
    },
    {
      "cell_type": "code",
      "execution_count": 76,
      "metadata": {
        "id": "AiEIPjz0Bo94",
        "colab": {
          "base_uri": "https://localhost:8080/"
        },
        "outputId": "513252b4-afca-4b0f-bbf2-51a1cfbe89aa"
      },
      "outputs": [
        {
          "output_type": "stream",
          "name": "stdout",
          "text": [
            "[( 3, 19) ( 3, 30) ( 3, 83) ( 3, 94) ( 7, 55) ( 7, 97) (13, 38) (13, 89)\n",
            " (19, 94) (30, 83) (34, 77) (34, 82) (36, 53) (38, 89) (41, 78) (41, 94)\n",
            " (53, 53) (55, 97) (61, 72) (61, 75) (64, 96) (64, 99) (70, 85) (70, 88)\n",
            " (72, 75) (77, 82) (78, 94) (85, 88) (96, 99)]\n"
          ]
        }
      ],
      "source": [
        "faces = np.random.randint(0,100,(10,3))\n",
        "f = np.roll(faces.repeat(2,axis=1),-1,axis=1)\n",
        "f = f.reshape(len(f)*3,2)\n",
        "f = np.sort(f,axis=1)\n",
        "g = f.view( dtype=[('p0',f.dtype),('p1',f.dtype)])\n",
        "g = np.unique(g)\n",
        "print(g)"
      ]
    },
    {
      "cell_type": "markdown",
      "metadata": {
        "id": "ZtMwJ3oYBo95"
      },
      "source": [
        "#### 74. Given an array C that is a bincount, how to produce an array A such that np.bincount(A) == C? (★★★) \n",
        "(**hint**: np.repeat)"
      ]
    },
    {
      "cell_type": "code",
      "execution_count": 77,
      "metadata": {
        "id": "LfYo5VmpBo96",
        "colab": {
          "base_uri": "https://localhost:8080/"
        },
        "outputId": "8c0afa72-eabc-4bf9-a407-94b4c8e9d7d7"
      },
      "outputs": [
        {
          "output_type": "stream",
          "name": "stdout",
          "text": [
            "[1 1 2 3 4 4 6]\n"
          ]
        }
      ],
      "source": [
        "c = np.bincount([1,1,2,3,4,4,6])\n",
        "a = np.repeat(np.arange(len(c)),c)\n",
        "print(a)"
      ]
    },
    {
      "cell_type": "markdown",
      "metadata": {
        "id": "65Jf28xUBo97"
      },
      "source": [
        "#### 75. How to compute averages using a sliding window over an array? (★★★) \n",
        "(**hint**: np.cumsum)"
      ]
    },
    {
      "cell_type": "code",
      "execution_count": 78,
      "metadata": {
        "id": "GiTjWYpFBo98",
        "colab": {
          "base_uri": "https://localhost:8080/"
        },
        "outputId": "bbf2b164-a154-4851-ebff-05b9e0a97665"
      },
      "outputs": [
        {
          "output_type": "stream",
          "name": "stdout",
          "text": [
            "[ 1.  2.  3.  4.  5.  6.  7.  8.  9. 10. 11. 12. 13. 14. 15. 16. 17. 18.]\n"
          ]
        }
      ],
      "source": [
        "def moving_average(a, n=3):\n",
        "  ret = np.cumsum(a, dtype=float)\n",
        "  ret[n:] = ret[n:] - ret[:-n]\n",
        "  return ret[n -1:] / n\n",
        "z = np.arange(20)\n",
        "print(moving_average(z, n=3))"
      ]
    },
    {
      "cell_type": "markdown",
      "metadata": {
        "id": "t3nJaohNBo99"
      },
      "source": [
        "#### 76. Consider a one-dimensional array Z, build a two-dimensional array whose first row is (Z\\[0\\],Z\\[1\\],Z\\[2\\]) and each subsequent row is  shifted by 1 (last row should be (Z\\[-3\\],Z\\[-2\\],Z\\[-1\\]) (★★★) \n",
        "(**hint**: from numpy.lib import stride_tricks)"
      ]
    },
    {
      "cell_type": "code",
      "execution_count": 79,
      "metadata": {
        "id": "8jDs0gyhBo9-",
        "colab": {
          "base_uri": "https://localhost:8080/"
        },
        "outputId": "8be3b21b-2fd0-409f-95fd-160af4c6773f"
      },
      "outputs": [
        {
          "output_type": "stream",
          "name": "stdout",
          "text": [
            "[[0 1 2]\n",
            " [1 2 3]\n",
            " [2 3 4]\n",
            " [3 4 5]\n",
            " [4 5 6]\n",
            " [5 6 7]\n",
            " [6 7 8]\n",
            " [7 8 9]]\n"
          ]
        }
      ],
      "source": [
        "from numpy.lib import stride_tricks\n",
        "def rolling(a, window):\n",
        "  shape = (a.size - window + 1, window)\n",
        "  strides = (a.itemsize, a.itemsize)\n",
        "  return stride_tricks.as_strided(a, shape=shape,strides=strides)\n",
        "z = rolling(np.arange(10),3)\n",
        "print(z)"
      ]
    },
    {
      "cell_type": "markdown",
      "metadata": {
        "id": "NWn4-IxZBo9_"
      },
      "source": [
        "#### 77. How to negate a boolean, or to change the sign of a float inplace? (★★★) \n",
        "(**hint**: np.logical_not, np.negative)"
      ]
    },
    {
      "cell_type": "code",
      "execution_count": 80,
      "metadata": {
        "id": "CsQ0oB1lBo-A",
        "colab": {
          "base_uri": "https://localhost:8080/"
        },
        "outputId": "6129bce3-84d5-421d-ca4d-eeef69ce29a2"
      },
      "outputs": [
        {
          "output_type": "execute_result",
          "data": {
            "text/plain": [
              "array([ 0.83386497,  0.81923936,  0.53997338,  0.5829724 ,  0.2579288 ,\n",
              "        0.78537083, -0.16840343, -0.24484768, -0.22491267,  0.64718024,\n",
              "        0.49050701, -0.12854505,  0.22761465, -0.3496336 ,  0.7389361 ,\n",
              "        0.14267702, -0.8881889 ,  0.50203397,  0.71180564, -0.62688879,\n",
              "        0.24374384, -0.57482725, -0.2235457 ,  0.25309534,  0.87340254,\n",
              "       -0.97099151,  0.34154621, -0.12860562,  0.21069733,  0.40673023,\n",
              "        0.65485452, -0.12599784, -0.8078682 ,  0.42501148, -0.10392521,\n",
              "       -0.5646072 ,  0.57655058,  0.97115368, -0.95916138, -0.58849428,\n",
              "       -0.78664332,  0.98864604, -0.39451895, -0.99798314, -0.70713284,\n",
              "       -0.5197081 , -0.42658057,  0.99563111,  0.56840743,  0.12215919,\n",
              "        0.37781756, -0.11438231,  0.01502954, -0.09972283,  0.55853383,\n",
              "        0.55876608,  0.89252549, -0.95898903, -0.2317457 , -0.19094659,\n",
              "       -0.34359352, -0.48436003,  0.30406279,  0.62164944, -0.77136521,\n",
              "        0.03351391, -0.54047071,  0.75828711, -0.28205958, -0.58498842,\n",
              "        0.46589956, -0.2112678 , -0.06222748,  0.67628711,  0.3471096 ,\n",
              "       -0.21792612, -0.00314207,  0.97115628,  0.40646838,  0.09070547,\n",
              "       -0.83569587, -0.16703353, -0.15653013,  0.45526699, -0.32339815,\n",
              "        0.66028056,  0.57573547,  0.82785086, -0.65764196, -0.22860982,\n",
              "       -0.12895863, -0.65239919, -0.74666178, -0.28948123, -0.97947148,\n",
              "       -0.47373719, -0.96989001, -0.99452791,  0.93614744,  0.97570315])"
            ]
          },
          "metadata": {},
          "execution_count": 80
        }
      ],
      "source": [
        "Z = np.random.randint(0,2,100)\n",
        "np.logical_not(Z, out=Z)\n",
        "\n",
        "Z = np.random.uniform(-1.0,1.0,100)\n",
        "np.negative(Z, out=Z)"
      ]
    },
    {
      "cell_type": "markdown",
      "metadata": {
        "id": "IVRJW8coBo-E"
      },
      "source": [
        "#### 78. Consider 2 sets of points P0,P1 describing lines (2d) and a point p, how to compute distance from p to each line i  (P0\\[i\\],P1\\[i\\])? (★★★)"
      ]
    },
    {
      "cell_type": "code",
      "execution_count": 81,
      "metadata": {
        "id": "6hrPKeN6Bo-F",
        "colab": {
          "base_uri": "https://localhost:8080/"
        },
        "outputId": "0f4c777e-93e1-4dfa-8326-1ca5dcaa737e"
      },
      "outputs": [
        {
          "output_type": "stream",
          "name": "stdout",
          "text": [
            "[ 0.93023886  7.23050383  1.56868063 14.2991324  14.71620545  4.43772043\n",
            " 17.3195474  16.19554833  2.49046782  0.35440044]\n"
          ]
        }
      ],
      "source": [
        "def distance(P0, P1, p):\n",
        "    T = P1 - P0\n",
        "    L = (T**2).sum(axis=1)\n",
        "    U = -((P0[:,0]-p[...,0])*T[:,0] + (P0[:,1]-p[...,1])*T[:,1]) / L\n",
        "    U = U.reshape(len(U),1)\n",
        "    D = P0 + U*T - p\n",
        "    return np.sqrt((D**2).sum(axis=1))\n",
        "\n",
        "P0 = np.random.uniform(-10,10,(10,2))\n",
        "P1 = np.random.uniform(-10,10,(10,2))\n",
        "p  = np.random.uniform(-10,10,( 1,2))\n",
        "print(distance(P0, P1, p))"
      ]
    },
    {
      "cell_type": "markdown",
      "metadata": {
        "id": "TDrK_GgSBo-G"
      },
      "source": [
        "#### 79. Consider 2 sets of points P0,P1 describing lines (2d) and a set of points P, how to compute distance from each point j (P\\[j\\]) to each line i (P0\\[i\\],P1\\[i\\])? (★★★)"
      ]
    },
    {
      "cell_type": "code",
      "execution_count": 82,
      "metadata": {
        "id": "HvSkRcmVBo-H",
        "colab": {
          "base_uri": "https://localhost:8080/"
        },
        "outputId": "c0fe86d5-6d62-48ce-8b7d-34f3313ec711"
      },
      "outputs": [
        {
          "output_type": "stream",
          "name": "stdout",
          "text": [
            "[[10.63029925  8.98445275  7.31859001  2.44739509  7.73043992 10.64656195\n",
            "  12.11144362  2.28810645  5.79791009  8.90147501]\n",
            " [ 3.33731301  2.25138917  3.24522566  2.16662701 10.00147255  1.73271227\n",
            "   3.80584619  1.38343981  6.30392671  8.6307017 ]\n",
            " [ 7.30975246  2.72065893  7.68223156  0.44297588  8.09113775  6.17581233\n",
            "   0.41233184  4.79154233  8.1677608   6.02367433]\n",
            " [ 7.46202419  1.4136074   7.05611349  0.86293709  9.43856799  5.8334946\n",
            "   0.45749452  3.60841088  9.1161852   7.32983443]\n",
            " [ 0.29212351  6.51936489  2.01353233  0.4325986   6.71120644  0.50967766\n",
            "   4.00349225  2.92639557  1.49249008  6.02859692]\n",
            " [ 2.91009373  9.62083331  7.2265646   5.42568114  2.25157234  4.12548836\n",
            "   1.51676474  8.37372311  1.19259705  1.03728555]\n",
            " [ 3.77933654  1.08428974  4.89982656  7.18807578 13.77380251  6.35340607\n",
            "  11.61683385  5.04582065  3.18088481 13.64757294]\n",
            " [ 1.48621681  4.36636996  0.52915042  2.48661413  9.44256304  2.62362564\n",
            "   6.8377058   0.09288599  2.26383467  8.9472608 ]\n",
            " [ 1.80811141 13.18394585  4.43251625  6.69823515  0.10272049  0.44239323\n",
            "   0.28559807  8.41123922  3.74829129  0.23878898]\n",
            " [ 5.69206364  6.90934343  3.40027762  2.0241264   8.20596725  6.15174463\n",
            "   8.93729195  0.68727306  1.72141976  8.48170576]]\n"
          ]
        }
      ],
      "source": [
        "P0 = np.random.uniform(-10, 10, (10,2))\n",
        "P1 = np.random.uniform(-10,10,(10,2))\n",
        "p = np.random.uniform(-10, 10, (10,2))\n",
        "print(np.array([distance(P0,P1,p_i) for p_i in p]))"
      ]
    },
    {
      "cell_type": "markdown",
      "metadata": {
        "id": "j1v5PhYlBo-I"
      },
      "source": [
        "#### 80. Consider an arbitrary array, write a function that extract a subpart with a fixed shape and centered on a given element (pad with a `fill` value when necessary) (★★★) \n",
        "(**hint**: minimum, maximum)"
      ]
    },
    {
      "cell_type": "code",
      "execution_count": 83,
      "metadata": {
        "id": "WmGkQ4f7Bo-I",
        "colab": {
          "base_uri": "https://localhost:8080/"
        },
        "outputId": "4b22a096-e4c6-43b1-8514-05da11e57298"
      },
      "outputs": [
        {
          "output_type": "stream",
          "name": "stdout",
          "text": [
            "[[1 6 9 6 4 1 7 4 6 9]\n",
            " [3 6 5 6 1 8 4 5 5 0]\n",
            " [5 7 8 8 9 3 2 1 6 5]\n",
            " [6 5 0 5 1 4 6 1 9 1]\n",
            " [8 2 9 9 7 8 8 9 5 4]\n",
            " [4 2 1 3 6 0 8 5 1 3]\n",
            " [4 0 1 6 7 9 0 3 5 9]\n",
            " [3 4 4 4 1 9 9 4 1 9]\n",
            " [1 6 5 5 0 3 7 0 5 6]\n",
            " [8 7 4 8 0 8 0 5 1 7]]\n",
            "[[0 0 0 0 0]\n",
            " [0 1 6 9 6]\n",
            " [0 3 6 5 6]\n",
            " [0 5 7 8 8]\n",
            " [0 6 5 0 5]]\n"
          ]
        },
        {
          "output_type": "stream",
          "name": "stderr",
          "text": [
            "<ipython-input-83-f2b5781f38bf>:23: FutureWarning: Using a non-tuple sequence for multidimensional indexing is deprecated; use `arr[tuple(seq)]` instead of `arr[seq]`. In the future this will be interpreted as an array index, `arr[np.array(seq)]`, which will result either in an error or a different result.\n",
            "  R[r] = Z[z]\n"
          ]
        }
      ],
      "source": [
        "Z = np.random.randint(0,10,(10,10))\n",
        "shape = (5,5)\n",
        "fill  = 0\n",
        "position = (1,1)\n",
        "\n",
        "R = np.ones(shape, dtype=Z.dtype)*fill\n",
        "P  = np.array(list(position)).astype(int)\n",
        "Rs = np.array(list(R.shape)).astype(int)\n",
        "Zs = np.array(list(Z.shape)).astype(int)\n",
        "\n",
        "R_start = np.zeros((len(shape),)).astype(int)\n",
        "R_stop  = np.array(list(shape)).astype(int)\n",
        "Z_start = (P-Rs//2)\n",
        "Z_stop  = (P+Rs//2)+Rs%2\n",
        "\n",
        "R_start = (R_start - np.minimum(Z_start,0)).tolist()\n",
        "Z_start = (np.maximum(Z_start,0)).tolist()\n",
        "R_stop = np.maximum(R_start, (R_stop - np.maximum(Z_stop-Zs,0))).tolist()\n",
        "Z_stop = (np.minimum(Z_stop,Zs)).tolist()\n",
        "\n",
        "r = [slice(start,stop) for start,stop in zip(R_start,R_stop)]\n",
        "z = [slice(start,stop) for start,stop in zip(Z_start,Z_stop)]\n",
        "R[r] = Z[z]\n",
        "print(Z)\n",
        "print(R)"
      ]
    },
    {
      "cell_type": "markdown",
      "metadata": {
        "id": "8KYL996rBo-J"
      },
      "source": [
        "#### 81. Consider an array Z = \\[1,2,3,4,5,6,7,8,9,10,11,12,13,14\\], how to generate an array R = \\[\\[1,2,3,4\\], \\[2,3,4,5\\], \\[3,4,5,6\\], ..., \\[11,12,13,14\\]\\]? (★★★) \n",
        "(**hint**: stride\\_tricks.as\\_strided)"
      ]
    },
    {
      "cell_type": "code",
      "execution_count": 84,
      "metadata": {
        "id": "wnejTtHEBo-K",
        "colab": {
          "base_uri": "https://localhost:8080/"
        },
        "outputId": "457efc68-4f6f-475a-cc4b-4cfdcac6f436"
      },
      "outputs": [
        {
          "output_type": "stream",
          "name": "stdout",
          "text": [
            "[[ 1  2  3  4]\n",
            " [ 2  3  4  5]\n",
            " [ 3  4  5  6]\n",
            " [ 4  5  6  7]\n",
            " [ 5  6  7  8]\n",
            " [ 6  7  8  9]\n",
            " [ 7  8  9 10]\n",
            " [ 8  9 10 11]\n",
            " [ 9 10 11 12]\n",
            " [10 11 12 13]\n",
            " [11 12 13 14]]\n"
          ]
        }
      ],
      "source": [
        "Z = np.arange(1,15,dtype=np.uint32)\n",
        "R = stride_tricks.as_strided(Z,(11,4),(4,4))\n",
        "print(R)"
      ]
    },
    {
      "cell_type": "markdown",
      "metadata": {
        "id": "bx1AU-OFBo-L"
      },
      "source": [
        "#### 82. Compute a matrix rank (★★★) \n",
        "(**hint**: np.linalg.svd) (suggestion: np.linalg.svd)"
      ]
    },
    {
      "cell_type": "code",
      "execution_count": 85,
      "metadata": {
        "id": "VSuPyDgYBo-M",
        "colab": {
          "base_uri": "https://localhost:8080/"
        },
        "outputId": "daff9f9b-07fb-4f64-d79f-ed9ad077add0"
      },
      "outputs": [
        {
          "output_type": "stream",
          "name": "stdout",
          "text": [
            "10\n"
          ]
        }
      ],
      "source": [
        "Z = np.random.uniform(0,1,(10,10))\n",
        "U, S, V = np.linalg.svd(Z) # Singular Value Decomposition\n",
        "rank = np.sum(S > 1e-10)\n",
        "print(rank)"
      ]
    },
    {
      "cell_type": "markdown",
      "metadata": {
        "id": "Fpj0RvolBo-M"
      },
      "source": [
        "#### 83. How to find the most frequent value in an array? \n",
        "(**hint**: np.bincount, argmax)"
      ]
    },
    {
      "cell_type": "code",
      "execution_count": 86,
      "metadata": {
        "id": "HfaImYX4Bo-N",
        "colab": {
          "base_uri": "https://localhost:8080/"
        },
        "outputId": "d16fdd1e-509b-497a-adf4-76b5a9c5fcf9"
      },
      "outputs": [
        {
          "output_type": "stream",
          "name": "stdout",
          "text": [
            "0\n"
          ]
        }
      ],
      "source": [
        "Z = np.random.randint(0,10,50)\n",
        "print(np.bincount(Z).argmax())"
      ]
    },
    {
      "cell_type": "markdown",
      "metadata": {
        "id": "_0wAVTsKBo-O"
      },
      "source": [
        "#### 84. Extract all the contiguous 3x3 blocks from a random 10x10 matrix (★★★) \n",
        "(**hint**: stride\\_tricks.as\\_strided)"
      ]
    },
    {
      "cell_type": "code",
      "execution_count": 87,
      "metadata": {
        "id": "VuOOLpXTBo-P",
        "colab": {
          "base_uri": "https://localhost:8080/"
        },
        "outputId": "c2ea0838-4d71-4241-cc55-5c82a9e878a2"
      },
      "outputs": [
        {
          "output_type": "stream",
          "name": "stdout",
          "text": [
            "[[[[4 1 0]\n",
            "   [0 0 1]\n",
            "   [3 1 1]]\n",
            "\n",
            "  [[1 0 2]\n",
            "   [0 1 4]\n",
            "   [1 1 3]]\n",
            "\n",
            "  [[0 2 1]\n",
            "   [1 4 0]\n",
            "   [1 3 3]]\n",
            "\n",
            "  [[2 1 0]\n",
            "   [4 0 1]\n",
            "   [3 3 1]]\n",
            "\n",
            "  [[1 0 2]\n",
            "   [0 1 2]\n",
            "   [3 1 2]]\n",
            "\n",
            "  [[0 2 3]\n",
            "   [1 2 1]\n",
            "   [1 2 1]]\n",
            "\n",
            "  [[2 3 4]\n",
            "   [2 1 4]\n",
            "   [2 1 1]]\n",
            "\n",
            "  [[3 4 1]\n",
            "   [1 4 1]\n",
            "   [1 1 2]]]\n",
            "\n",
            "\n",
            " [[[0 0 1]\n",
            "   [3 1 1]\n",
            "   [0 1 3]]\n",
            "\n",
            "  [[0 1 4]\n",
            "   [1 1 3]\n",
            "   [1 3 4]]\n",
            "\n",
            "  [[1 4 0]\n",
            "   [1 3 3]\n",
            "   [3 4 0]]\n",
            "\n",
            "  [[4 0 1]\n",
            "   [3 3 1]\n",
            "   [4 0 3]]\n",
            "\n",
            "  [[0 1 2]\n",
            "   [3 1 2]\n",
            "   [0 3 1]]\n",
            "\n",
            "  [[1 2 1]\n",
            "   [1 2 1]\n",
            "   [3 1 0]]\n",
            "\n",
            "  [[2 1 4]\n",
            "   [2 1 1]\n",
            "   [1 0 1]]\n",
            "\n",
            "  [[1 4 1]\n",
            "   [1 1 2]\n",
            "   [0 1 1]]]\n",
            "\n",
            "\n",
            " [[[3 1 1]\n",
            "   [0 1 3]\n",
            "   [0 2 0]]\n",
            "\n",
            "  [[1 1 3]\n",
            "   [1 3 4]\n",
            "   [2 0 2]]\n",
            "\n",
            "  [[1 3 3]\n",
            "   [3 4 0]\n",
            "   [0 2 0]]\n",
            "\n",
            "  [[3 3 1]\n",
            "   [4 0 3]\n",
            "   [2 0 4]]\n",
            "\n",
            "  [[3 1 2]\n",
            "   [0 3 1]\n",
            "   [0 4 1]]\n",
            "\n",
            "  [[1 2 1]\n",
            "   [3 1 0]\n",
            "   [4 1 4]]\n",
            "\n",
            "  [[2 1 1]\n",
            "   [1 0 1]\n",
            "   [1 4 1]]\n",
            "\n",
            "  [[1 1 2]\n",
            "   [0 1 1]\n",
            "   [4 1 2]]]\n",
            "\n",
            "\n",
            " [[[0 1 3]\n",
            "   [0 2 0]\n",
            "   [3 4 2]]\n",
            "\n",
            "  [[1 3 4]\n",
            "   [2 0 2]\n",
            "   [4 2 2]]\n",
            "\n",
            "  [[3 4 0]\n",
            "   [0 2 0]\n",
            "   [2 2 0]]\n",
            "\n",
            "  [[4 0 3]\n",
            "   [2 0 4]\n",
            "   [2 0 1]]\n",
            "\n",
            "  [[0 3 1]\n",
            "   [0 4 1]\n",
            "   [0 1 3]]\n",
            "\n",
            "  [[3 1 0]\n",
            "   [4 1 4]\n",
            "   [1 3 1]]\n",
            "\n",
            "  [[1 0 1]\n",
            "   [1 4 1]\n",
            "   [3 1 3]]\n",
            "\n",
            "  [[0 1 1]\n",
            "   [4 1 2]\n",
            "   [1 3 4]]]\n",
            "\n",
            "\n",
            " [[[0 2 0]\n",
            "   [3 4 2]\n",
            "   [4 0 2]]\n",
            "\n",
            "  [[2 0 2]\n",
            "   [4 2 2]\n",
            "   [0 2 4]]\n",
            "\n",
            "  [[0 2 0]\n",
            "   [2 2 0]\n",
            "   [2 4 3]]\n",
            "\n",
            "  [[2 0 4]\n",
            "   [2 0 1]\n",
            "   [4 3 4]]\n",
            "\n",
            "  [[0 4 1]\n",
            "   [0 1 3]\n",
            "   [3 4 4]]\n",
            "\n",
            "  [[4 1 4]\n",
            "   [1 3 1]\n",
            "   [4 4 0]]\n",
            "\n",
            "  [[1 4 1]\n",
            "   [3 1 3]\n",
            "   [4 0 1]]\n",
            "\n",
            "  [[4 1 2]\n",
            "   [1 3 4]\n",
            "   [0 1 0]]]\n",
            "\n",
            "\n",
            " [[[3 4 2]\n",
            "   [4 0 2]\n",
            "   [2 1 0]]\n",
            "\n",
            "  [[4 2 2]\n",
            "   [0 2 4]\n",
            "   [1 0 0]]\n",
            "\n",
            "  [[2 2 0]\n",
            "   [2 4 3]\n",
            "   [0 0 0]]\n",
            "\n",
            "  [[2 0 1]\n",
            "   [4 3 4]\n",
            "   [0 0 3]]\n",
            "\n",
            "  [[0 1 3]\n",
            "   [3 4 4]\n",
            "   [0 3 0]]\n",
            "\n",
            "  [[1 3 1]\n",
            "   [4 4 0]\n",
            "   [3 0 4]]\n",
            "\n",
            "  [[3 1 3]\n",
            "   [4 0 1]\n",
            "   [0 4 0]]\n",
            "\n",
            "  [[1 3 4]\n",
            "   [0 1 0]\n",
            "   [4 0 2]]]\n",
            "\n",
            "\n",
            " [[[4 0 2]\n",
            "   [2 1 0]\n",
            "   [2 2 1]]\n",
            "\n",
            "  [[0 2 4]\n",
            "   [1 0 0]\n",
            "   [2 1 1]]\n",
            "\n",
            "  [[2 4 3]\n",
            "   [0 0 0]\n",
            "   [1 1 1]]\n",
            "\n",
            "  [[4 3 4]\n",
            "   [0 0 3]\n",
            "   [1 1 4]]\n",
            "\n",
            "  [[3 4 4]\n",
            "   [0 3 0]\n",
            "   [1 4 2]]\n",
            "\n",
            "  [[4 4 0]\n",
            "   [3 0 4]\n",
            "   [4 2 0]]\n",
            "\n",
            "  [[4 0 1]\n",
            "   [0 4 0]\n",
            "   [2 0 1]]\n",
            "\n",
            "  [[0 1 0]\n",
            "   [4 0 2]\n",
            "   [0 1 4]]]\n",
            "\n",
            "\n",
            " [[[2 1 0]\n",
            "   [2 2 1]\n",
            "   [0 2 3]]\n",
            "\n",
            "  [[1 0 0]\n",
            "   [2 1 1]\n",
            "   [2 3 1]]\n",
            "\n",
            "  [[0 0 0]\n",
            "   [1 1 1]\n",
            "   [3 1 2]]\n",
            "\n",
            "  [[0 0 3]\n",
            "   [1 1 4]\n",
            "   [1 2 2]]\n",
            "\n",
            "  [[0 3 0]\n",
            "   [1 4 2]\n",
            "   [2 2 4]]\n",
            "\n",
            "  [[3 0 4]\n",
            "   [4 2 0]\n",
            "   [2 4 4]]\n",
            "\n",
            "  [[0 4 0]\n",
            "   [2 0 1]\n",
            "   [4 4 3]]\n",
            "\n",
            "  [[4 0 2]\n",
            "   [0 1 4]\n",
            "   [4 3 1]]]]\n"
          ]
        }
      ],
      "source": [
        "Z = np.random.randint(0,5,(10,10))\n",
        "n = 3\n",
        "i = 1 + (Z.shape[0]-3)\n",
        "j = 1 + (Z.shape[1]-3)\n",
        "C = stride_tricks.as_strided(Z, shape=(i, j, n, n), strides=Z.strides + Z.strides)\n",
        "print(C)"
      ]
    },
    {
      "cell_type": "markdown",
      "metadata": {
        "id": "qk9N6WnCBo-S"
      },
      "source": [
        "#### 85. Create a 2D array subclass such that Z\\[i,j\\] == Z\\[j,i\\] (★★★) \n",
        "(**hint**: class method)"
      ]
    },
    {
      "cell_type": "code",
      "execution_count": 88,
      "metadata": {
        "id": "eiuVdfEjBo-S",
        "colab": {
          "base_uri": "https://localhost:8080/"
        },
        "outputId": "0d8f5a51-1ec2-4137-a43d-d91287cb3e44"
      },
      "outputs": [
        {
          "output_type": "stream",
          "name": "stdout",
          "text": [
            "[[ 2  2  0  8  3]\n",
            " [ 2  7  2  6  7]\n",
            " [ 0  2  9 42  9]\n",
            " [ 8  6 42  5  9]\n",
            " [ 3  7  9  9  3]]\n"
          ]
        }
      ],
      "source": [
        "class Symetric(np.ndarray):\n",
        "    def __setitem__(self, index, value):\n",
        "        i,j = index\n",
        "        super(Symetric, self).__setitem__((i,j), value)\n",
        "        super(Symetric, self).__setitem__((j,i), value)\n",
        "\n",
        "def symetric(Z):\n",
        "    return np.asarray(Z + Z.T - np.diag(Z.diagonal())).view(Symetric)\n",
        "\n",
        "S = symetric(np.random.randint(0,10,(5,5)))\n",
        "S[2,3] = 42\n",
        "print(S)"
      ]
    },
    {
      "cell_type": "markdown",
      "metadata": {
        "id": "CqdPQ8FZBo-T"
      },
      "source": [
        "#### 86. Consider a set of p matrices wich shape (n,n) and a set of p vectors with shape (n,1). How to compute the sum of of the p matrix products at once? (result has shape (n,1)) (★★★) \n",
        "(**hint**: np.tensordot)"
      ]
    },
    {
      "cell_type": "code",
      "execution_count": 89,
      "metadata": {
        "id": "xMGpdsR0Bo-U",
        "colab": {
          "base_uri": "https://localhost:8080/"
        },
        "outputId": "2a586038-d26b-4c5c-918e-dac2cd1cafa9"
      },
      "outputs": [
        {
          "output_type": "stream",
          "name": "stdout",
          "text": [
            "[[200.]\n",
            " [200.]\n",
            " [200.]\n",
            " [200.]\n",
            " [200.]\n",
            " [200.]\n",
            " [200.]\n",
            " [200.]\n",
            " [200.]\n",
            " [200.]\n",
            " [200.]\n",
            " [200.]\n",
            " [200.]\n",
            " [200.]\n",
            " [200.]\n",
            " [200.]\n",
            " [200.]\n",
            " [200.]\n",
            " [200.]\n",
            " [200.]]\n"
          ]
        }
      ],
      "source": [
        "p, n = 10, 20\n",
        "M = np.ones((p,n,n))\n",
        "V = np.ones((p,n,1))\n",
        "S = np.tensordot(M, V, axes=[[0, 2], [0, 1]])\n",
        "print(S)"
      ]
    },
    {
      "cell_type": "markdown",
      "metadata": {
        "id": "V1GfAK0SBo-V"
      },
      "source": [
        "#### 87. Consider a 16x16 array, how to get the block-sum (block size is 4x4)? (★★★) \n",
        "(**hint**: np.add.reduceat)"
      ]
    },
    {
      "cell_type": "code",
      "execution_count": 90,
      "metadata": {
        "id": "BHxNuxmkBo-W",
        "colab": {
          "base_uri": "https://localhost:8080/"
        },
        "outputId": "659a580a-a0f9-470c-b281-6cab7118506e"
      },
      "outputs": [
        {
          "output_type": "stream",
          "name": "stdout",
          "text": [
            "[[16. 16. 16. 16.]\n",
            " [16. 16. 16. 16.]\n",
            " [16. 16. 16. 16.]\n",
            " [16. 16. 16. 16.]]\n"
          ]
        }
      ],
      "source": [
        "Z = np.ones((16,16))\n",
        "k = 4\n",
        "S = np.add.reduceat(np.add.reduceat(Z, np.arange(0, Z.shape[0], k), axis=0),\n",
        "                                       np.arange(0, Z.shape[1], k), axis=1)\n",
        "print(S)"
      ]
    },
    {
      "cell_type": "markdown",
      "metadata": {
        "id": "TAWoxW0vBo-X"
      },
      "source": [
        "#### 88. How to implement the Game of Life using numpy arrays? (★★★)"
      ]
    },
    {
      "cell_type": "code",
      "execution_count": 91,
      "metadata": {
        "id": "UocM7-urBo-Y",
        "colab": {
          "base_uri": "https://localhost:8080/"
        },
        "outputId": "e2cbf645-c06f-4a16-98b1-3504d3679df0"
      },
      "outputs": [
        {
          "output_type": "stream",
          "name": "stdout",
          "text": [
            "[[0 0 0 ... 0 0 0]\n",
            " [0 0 0 ... 0 0 0]\n",
            " [0 0 0 ... 0 0 0]\n",
            " ...\n",
            " [0 0 0 ... 0 0 0]\n",
            " [0 0 0 ... 0 0 0]\n",
            " [0 0 0 ... 0 0 0]]\n"
          ]
        }
      ],
      "source": [
        "def iterate(Z):\n",
        "\n",
        "    N = (Z[0:-2,0:-2] + Z[0:-2,1:-1] + Z[0:-2,2:] +\n",
        "         Z[1:-1,0:-2]                + Z[1:-1,2:] +\n",
        "         Z[2:  ,0:-2] + Z[2:  ,1:-1] + Z[2:  ,2:])\n",
        "    birth = (N==3) & (Z[1:-1,1:-1]==0)\n",
        "    survive = ((N==2) | (N==3)) & (Z[1:-1,1:-1]==1)\n",
        "    Z[...] = 0\n",
        "    Z[1:-1,1:-1][birth | survive] = 1\n",
        "    return Z\n",
        "\n",
        "Z = np.random.randint(0,2,(50,50))\n",
        "for i in range(100): Z = iterate(Z)\n",
        "print(Z)"
      ]
    },
    {
      "cell_type": "markdown",
      "metadata": {
        "id": "upTYbIYQBo-Y"
      },
      "source": [
        "#### 89. How to get the n largest values of an array (★★★) \n",
        "(**hint**: np.argsort | np.argpartition)"
      ]
    },
    {
      "cell_type": "code",
      "execution_count": 92,
      "metadata": {
        "id": "5n_uTlbEBo-Z",
        "colab": {
          "base_uri": "https://localhost:8080/"
        },
        "outputId": "7f4ebbb0-2f07-4c3a-84aa-1dc002373015"
      },
      "outputs": [
        {
          "output_type": "stream",
          "name": "stdout",
          "text": [
            "[9995 9996 9997 9998 9999]\n"
          ]
        }
      ],
      "source": [
        "Z = np.arange(10000)\n",
        "np.random.shuffle(Z)\n",
        "n = 5\n",
        "print (Z[np.argsort(Z)[-n:]])"
      ]
    },
    {
      "cell_type": "markdown",
      "metadata": {
        "id": "pcSgCh6MBo-a"
      },
      "source": [
        "#### 90. Given an arbitrary number of vectors, build the cartesian product (every combinations of every item) (★★★) \n",
        "(**hint**: np.indices)"
      ]
    },
    {
      "cell_type": "code",
      "execution_count": 93,
      "metadata": {
        "scrolled": true,
        "id": "PoE0WHv2Bo-b",
        "colab": {
          "base_uri": "https://localhost:8080/"
        },
        "outputId": "8364e17d-586c-44c6-c724-4e9ae4f5a4b7"
      },
      "outputs": [
        {
          "output_type": "stream",
          "name": "stdout",
          "text": [
            "[[1 4 6]\n",
            " [1 4 7]\n",
            " [1 5 6]\n",
            " [1 5 7]\n",
            " [2 4 6]\n",
            " [2 4 7]\n",
            " [2 5 6]\n",
            " [2 5 7]\n",
            " [3 4 6]\n",
            " [3 4 7]\n",
            " [3 5 6]\n",
            " [3 5 7]]\n"
          ]
        }
      ],
      "source": [
        "def cartesian(arrays):\n",
        "    arrays = [np.asarray(a) for a in arrays]\n",
        "    shape = (len(x) for x in arrays)\n",
        "\n",
        "    ix = np.indices(shape, dtype=int)\n",
        "    ix = ix.reshape(len(arrays), -1).T\n",
        "\n",
        "    for n, arr in enumerate(arrays):\n",
        "        ix[:, n] = arrays[n][ix[:, n]]\n",
        "\n",
        "    return ix\n",
        "\n",
        "print (cartesian(([1, 2, 3], [4, 5], [6, 7])))"
      ]
    },
    {
      "cell_type": "markdown",
      "metadata": {
        "id": "eM-hgdEWBo-c"
      },
      "source": [
        "#### 91. How to create a record array from a regular array? (★★★) \n",
        "(**hint**: np.core.records.fromarrays)"
      ]
    },
    {
      "cell_type": "code",
      "execution_count": 94,
      "metadata": {
        "id": "iHXNf9KSBo-d",
        "colab": {
          "base_uri": "https://localhost:8080/"
        },
        "outputId": "f0710a0c-0d1e-496b-f00d-a2fa5808b234"
      },
      "outputs": [
        {
          "output_type": "stream",
          "name": "stdout",
          "text": [
            "[(b'Hello', 2.5, 3) (b'World', 3.6, 2)]\n"
          ]
        }
      ],
      "source": [
        "Z = np.array([(\"Hello\", 2.5, 3),\n",
        "              (\"World\", 3.6, 2)])\n",
        "R = np.core.records.fromarrays(Z.T, \n",
        "                               names='col1, col2, col3',\n",
        "                               formats = 'S8, f8, i8')\n",
        "print(R)"
      ]
    },
    {
      "cell_type": "markdown",
      "metadata": {
        "id": "y1PHXzVvBo-d"
      },
      "source": [
        "#### 92. Consider a large vector Z, compute Z to the power of 3 using 3 different methods (★★★) \n",
        "(**hint**: np.power, \\*, np.einsum)"
      ]
    },
    {
      "cell_type": "code",
      "execution_count": 95,
      "metadata": {
        "id": "l7Me8QDrBo-e",
        "colab": {
          "base_uri": "https://localhost:8080/"
        },
        "outputId": "81036d1a-3dab-4a15-977a-57d7300161e2"
      },
      "outputs": [
        {
          "output_type": "stream",
          "name": "stdout",
          "text": [
            "3.74 s ± 14.5 ms per loop (mean ± std. dev. of 7 runs, 1 loop each)\n",
            "146 ms ± 734 µs per loop (mean ± std. dev. of 7 runs, 10 loops each)\n",
            "124 ms ± 712 µs per loop (mean ± std. dev. of 7 runs, 10 loops each)\n"
          ]
        }
      ],
      "source": [
        "x = np.random.rand(int(5e7))\n",
        "\n",
        "%timeit np.power(x,3)\n",
        "%timeit x*x*x\n",
        "%timeit np.einsum('i,i,i->i',x,x,x)"
      ]
    },
    {
      "cell_type": "markdown",
      "metadata": {
        "id": "bF-p3X8pBo-f"
      },
      "source": [
        "#### 93. Consider two arrays A and B of shape (8,3) and (2,2). How to find rows of A that contain elements of each row of B regardless of the order of the elements in B? (★★★) \n",
        "(**hint**: np.where)"
      ]
    },
    {
      "cell_type": "code",
      "execution_count": 96,
      "metadata": {
        "id": "U4FRQLJUBo-g",
        "colab": {
          "base_uri": "https://localhost:8080/"
        },
        "outputId": "4ece01d1-29bc-4f18-df7b-a9e3d5d1a93c"
      },
      "outputs": [
        {
          "output_type": "stream",
          "name": "stdout",
          "text": [
            "[0 1 2 3 4 5 6 7]\n"
          ]
        }
      ],
      "source": [
        "A = np.random.randint(0,5,(8,3))\n",
        "B = np.random.randint(0,5,(2,2))\n",
        "\n",
        "C = (A[..., np.newaxis, np.newaxis] == B)\n",
        "rows = np.where(C.any((3,1)).all(1))[0]\n",
        "print(rows)"
      ]
    },
    {
      "cell_type": "markdown",
      "metadata": {
        "id": "7HQ5KD4mBo-h"
      },
      "source": [
        "#### 94. Considering a 10x3 matrix, extract rows with unequal values (e.g. \\[2,2,3\\]) (★★★)"
      ]
    },
    {
      "cell_type": "code",
      "execution_count": 97,
      "metadata": {
        "id": "-zdAJPC2Bo-h",
        "colab": {
          "base_uri": "https://localhost:8080/"
        },
        "outputId": "813cab63-4707-4e71-c8c2-75db17d51a4c"
      },
      "outputs": [
        {
          "output_type": "stream",
          "name": "stdout",
          "text": [
            "[[2 2 1]\n",
            " [4 4 1]\n",
            " [4 1 4]\n",
            " [4 1 3]\n",
            " [1 3 0]\n",
            " [0 0 0]\n",
            " [1 0 4]\n",
            " [2 4 4]\n",
            " [4 4 3]\n",
            " [4 2 2]]\n",
            "[[2 2 1]\n",
            " [4 4 1]\n",
            " [4 1 4]\n",
            " [4 1 3]\n",
            " [1 3 0]\n",
            " [1 0 4]\n",
            " [2 4 4]\n",
            " [4 4 3]\n",
            " [4 2 2]]\n",
            "[[2 2 1]\n",
            " [4 4 1]\n",
            " [4 1 4]\n",
            " [4 1 3]\n",
            " [1 3 0]\n",
            " [1 0 4]\n",
            " [2 4 4]\n",
            " [4 4 3]\n",
            " [4 2 2]]\n"
          ]
        }
      ],
      "source": [
        "Z = np.random.randint(0,5,(10,3))\n",
        "print(Z)\n",
        "\n",
        "E = np.all(Z[:,1:] == Z[:,:-1], axis=1)\n",
        "U = Z[~E]\n",
        "print(U)\n",
        "U = Z[Z.max(axis=1) != Z.min(axis=1),:]\n",
        "print(U)"
      ]
    },
    {
      "cell_type": "markdown",
      "metadata": {
        "id": "GUYPkg1_Bo-j"
      },
      "source": [
        "#### 95. Convert a vector of ints into a matrix binary representation (★★★) \n",
        "(**hint**: np.unpackbits)"
      ]
    },
    {
      "cell_type": "code",
      "execution_count": 98,
      "metadata": {
        "id": "roQwVTgeBo-l",
        "colab": {
          "base_uri": "https://localhost:8080/"
        },
        "outputId": "7fbf2d67-f084-4542-ef72-08e023778805"
      },
      "outputs": [
        {
          "output_type": "stream",
          "name": "stdout",
          "text": [
            "[[0 0 0 0 0 0 0 0]\n",
            " [0 0 0 0 0 0 0 1]\n",
            " [0 0 0 0 0 0 1 0]\n",
            " [0 0 0 0 0 0 1 1]\n",
            " [0 0 0 0 1 1 1 1]\n",
            " [0 0 0 1 0 0 0 0]\n",
            " [0 0 1 0 0 0 0 0]\n",
            " [0 1 0 0 0 0 0 0]\n",
            " [1 0 0 0 0 0 0 0]]\n"
          ]
        }
      ],
      "source": [
        "I = np.array([0, 1, 2, 3, 15, 16, 32, 64, 128], dtype=np.uint8)\n",
        "print(np.unpackbits(I[:, np.newaxis], axis=1))"
      ]
    },
    {
      "cell_type": "markdown",
      "metadata": {
        "id": "v5wu8xWrBo-m"
      },
      "source": [
        "#### 96. Given a two dimensional array, how to extract unique rows? (★★★) \n",
        "(**hint**: np.ascontiguousarray)"
      ]
    },
    {
      "cell_type": "code",
      "execution_count": 99,
      "metadata": {
        "id": "5w5CCKRiBo-n",
        "colab": {
          "base_uri": "https://localhost:8080/"
        },
        "outputId": "85fff783-73ad-4604-9708-440dba8fd63b"
      },
      "outputs": [
        {
          "output_type": "stream",
          "name": "stdout",
          "text": [
            "[[0 0 0]\n",
            " [1 0 4]\n",
            " [1 3 0]\n",
            " [2 2 1]\n",
            " [2 4 4]\n",
            " [4 1 3]\n",
            " [4 1 4]\n",
            " [4 2 2]\n",
            " [4 4 1]\n",
            " [4 4 3]]\n"
          ]
        }
      ],
      "source": [
        "uZ = np.unique(Z, axis=0)\n",
        "print(uZ)"
      ]
    },
    {
      "cell_type": "markdown",
      "metadata": {
        "id": "RoP_k2vXBo-n"
      },
      "source": [
        "#### 97. Considering 2 vectors A & B, write the einsum equivalent of inner, outer, sum, and mul function (★★★) \n",
        "(**hint**: np.einsum)"
      ]
    },
    {
      "cell_type": "code",
      "execution_count": 100,
      "metadata": {
        "id": "yRZwVhN9Bo-o",
        "colab": {
          "base_uri": "https://localhost:8080/"
        },
        "outputId": "4138460c-e38e-4cfc-e245-81c8087b9af4"
      },
      "outputs": [
        {
          "output_type": "execute_result",
          "data": {
            "text/plain": [
              "array([[0.37550858, 0.42618188, 0.1727022 , 0.27781358, 0.2554296 ,\n",
              "        0.80333425, 0.22442396, 0.75084064, 0.58595106, 0.27110465],\n",
              "       [0.0642121 , 0.07287726, 0.02953214, 0.04750622, 0.04367855,\n",
              "        0.13737045, 0.03837658, 0.12839402, 0.10019784, 0.04635899],\n",
              "       [0.16649884, 0.18896716, 0.07657539, 0.12318131, 0.11325635,\n",
              "        0.35619485, 0.09950859, 0.33291941, 0.25980811, 0.1202066 ],\n",
              "       [0.33812021, 0.38374811, 0.15550671, 0.25015244, 0.22999717,\n",
              "        0.72334845, 0.20207868, 0.67608148, 0.52760951, 0.2441115 ],\n",
              "       [0.38189839, 0.43343397, 0.17564097, 0.28254098, 0.2597761 ,\n",
              "        0.81700413, 0.22824286, 0.76361726, 0.59592186, 0.27571788],\n",
              "       [0.02603315, 0.02954621, 0.01197305, 0.01926018, 0.01770835,\n",
              "        0.05569333, 0.0155588 , 0.05205406, 0.04062265, 0.01879507],\n",
              "       [0.12201592, 0.13848145, 0.05611701, 0.09027138, 0.08299804,\n",
              "        0.26103149, 0.07292322, 0.24397447, 0.19039607, 0.08809142],\n",
              "       [0.22011744, 0.24982136, 0.10123541, 0.16285011, 0.14972896,\n",
              "        0.47090236, 0.13155393, 0.4401314 , 0.34347563, 0.15891744],\n",
              "       [0.16527267, 0.18757552, 0.07601145, 0.12227415, 0.11242228,\n",
              "        0.35357167, 0.09877577, 0.33046765, 0.25789477, 0.11932135],\n",
              "       [0.32942555, 0.37388014, 0.1515079 , 0.24371985, 0.22408286,\n",
              "        0.70474776, 0.19688229, 0.65869625, 0.51404219, 0.23783425]])"
            ]
          },
          "metadata": {},
          "execution_count": 100
        }
      ],
      "source": [
        "A = np.random.uniform(0,1,10)\n",
        "B = np.random.uniform(0,1,10)\n",
        "\n",
        "np.einsum('i->', A)       \n",
        "np.einsum('i,i->i', A, B) \n",
        "np.einsum('i,i', A, B)    \n",
        "np.einsum('i,j->ij', A, B) "
      ]
    },
    {
      "cell_type": "markdown",
      "metadata": {
        "id": "UkSdRnqABo-p"
      },
      "source": [
        "#### 98. Considering a path described by two vectors (X,Y), how to sample it using equidistant samples (★★★)? \n",
        "(**hint**: np.cumsum, np.interp)"
      ]
    },
    {
      "cell_type": "code",
      "execution_count": 101,
      "metadata": {
        "collapsed": true,
        "id": "JN08iQ1QBo-q"
      },
      "outputs": [],
      "source": [
        "phi = np.arange(0, 10*np.pi, 0.1)\n",
        "a = 1\n",
        "x = a*phi*np.cos(phi)\n",
        "y = a*phi*np.sin(phi)\n",
        "\n",
        "dr = (np.diff(x)**2 + np.diff(y)**2)**.5 # segment lengths\n",
        "r = np.zeros_like(x)\n",
        "r[1:] = np.cumsum(dr)                # integrate path\n",
        "r_int = np.linspace(0, r.max(), 200) # regular spaced path\n",
        "x_int = np.interp(r_int, r, x)       # integrate path\n",
        "y_int = np.interp(r_int, r, y)"
      ]
    },
    {
      "cell_type": "markdown",
      "metadata": {
        "id": "mEWLhHpUBo-q"
      },
      "source": [
        "#### 99. Given an integer n and a 2D array X, select from X the rows which can be interpreted as draws from a multinomial distribution with n degrees, i.e., the rows which only contain integers and which sum to n. (★★★) \n",
        "(**hint**: np.logical\\_and.reduce, np.mod)"
      ]
    },
    {
      "cell_type": "code",
      "execution_count": 102,
      "metadata": {
        "id": "KaYrYxXtBo-r",
        "colab": {
          "base_uri": "https://localhost:8080/"
        },
        "outputId": "0c057f56-b801-41da-98ef-4e7ea9be4a78"
      },
      "outputs": [
        {
          "output_type": "stream",
          "name": "stdout",
          "text": [
            "[[2. 0. 1. 1.]]\n"
          ]
        }
      ],
      "source": [
        "X = np.asarray([[1.0, 0.0, 3.0, 8.0],\n",
        "                [2.0, 0.0, 1.0, 1.0],\n",
        "                [1.5, 2.5, 1.0, 0.0]])\n",
        "n = 4\n",
        "M = np.logical_and.reduce(np.mod(X, 1) == 0, axis=-1)\n",
        "M &= (X.sum(axis=-1) == n)\n",
        "print(X[M])"
      ]
    },
    {
      "cell_type": "markdown",
      "metadata": {
        "id": "9ysyMlQSBo-s"
      },
      "source": [
        "#### 100. Compute bootstrapped 95% confidence intervals for the mean of a 1D array X (i.e., resample the elements of an array with replacement N times, compute the mean of each sample, and then compute percentiles over the means). (★★★) \n",
        "(**hint**: np.percentile)"
      ]
    },
    {
      "cell_type": "code",
      "execution_count": 103,
      "metadata": {
        "id": "lWOogv4eBo-s",
        "colab": {
          "base_uri": "https://localhost:8080/"
        },
        "outputId": "263ab2bf-96df-4250-e341-f3eadc1360bf"
      },
      "outputs": [
        {
          "output_type": "stream",
          "name": "stdout",
          "text": [
            "[-0.12634781  0.21820274]\n"
          ]
        }
      ],
      "source": [
        "X = np.random.randn(100) # random 1D array\n",
        "N = 1000 # number of bootstrap samples\n",
        "idx = np.random.randint(0, X.size, (N, X.size))\n",
        "means = X[idx].mean(axis=1)\n",
        "confint = np.percentile(means, [2.5, 97.5])\n",
        "print(confint)"
      ]
    }
  ],
  "metadata": {
    "kernelspec": {
      "display_name": "Python 3",
      "language": "python",
      "name": "python3"
    },
    "language_info": {
      "codemirror_mode": {
        "name": "ipython",
        "version": 3
      },
      "file_extension": ".py",
      "mimetype": "text/x-python",
      "name": "python",
      "nbconvert_exporter": "python",
      "pygments_lexer": "ipython3",
      "version": "3.8.3"
    },
    "colab": {
      "provenance": [],
      "include_colab_link": true
    }
  },
  "nbformat": 4,
  "nbformat_minor": 0
}